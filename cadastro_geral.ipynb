{
  "nbformat": 4,
  "nbformat_minor": 0,
  "metadata": {
    "colab": {
      "name": "cadastro_geral.ipynb",
      "provenance": [],
      "collapsed_sections": [
        "6JyUKAiRlAze",
        "xp_gc4Y1nen2",
        "szfA_4kxxhWm",
        "AYxGd0iVE7WM",
        "NdWTf8aVIDMc",
        "rkwuwCKsDatQ",
        "mmg82JUzS_YD"
      ]
    },
    "kernelspec": {
      "name": "python3",
      "display_name": "Python 3"
    },
    "language_info": {
      "name": "python"
    }
  },
  "cells": [
    {
      "cell_type": "markdown",
      "metadata": {
        "id": "xndfT68ndr2B"
      },
      "source": [
        "# Cadastro Geral\n",
        "\n",
        "Atualmente há duas lista de cadastro geral no Ponto do Bem. O objetivo desse programa é conciliar os dados das duas em uma planilha só. Ademais, userei VBA para corresponder dados novos em futuras atualizaçôes.\n",
        "\n"
      ]
    },
    {
      "cell_type": "code",
      "metadata": {
        "id": "70bVpe_OdoBK"
      },
      "source": [
        "import pandas as pd\n",
        "import numpy as np"
      ],
      "execution_count": 1,
      "outputs": []
    },
    {
      "cell_type": "code",
      "metadata": {
        "id": "JWMYz-PEeJgl"
      },
      "source": [
        "geral_oficial = pd.read_csv(\"/content/CADASTRO_GERAL.csv\", parse_dates=True)\n",
        "geral_nao_oficial = pd.read_csv(\"/content/Cadastro_Geral_Nao_oficial.csv\", parse_dates=True)\n",
        "geral_maio = pd.read_excel(\"Cadastro-Geral-ATUALIZADO-MAIO-2021.xlsx\", parse_dates=True)"
      ],
      "execution_count": 91,
      "outputs": []
    },
    {
      "cell_type": "markdown",
      "metadata": {
        "id": "6JyUKAiRlAze"
      },
      "source": [
        "## Visualizações"
      ]
    },
    {
      "cell_type": "code",
      "metadata": {
        "colab": {
          "base_uri": "https://localhost:8080/",
          "height": 0
        },
        "id": "XyF9LNRSeo4B",
        "outputId": "b3eb310f-50cf-4cc0-c5cf-06ce4cee6dae"
      },
      "source": [
        "geral_nao_oficial.tail()"
      ],
      "execution_count": 3,
      "outputs": [
        {
          "output_type": "execute_result",
          "data": {
            "text/html": [
              "<div>\n",
              "<style scoped>\n",
              "    .dataframe tbody tr th:only-of-type {\n",
              "        vertical-align: middle;\n",
              "    }\n",
              "\n",
              "    .dataframe tbody tr th {\n",
              "        vertical-align: top;\n",
              "    }\n",
              "\n",
              "    .dataframe thead th {\n",
              "        text-align: right;\n",
              "    }\n",
              "</style>\n",
              "<table border=\"1\" class=\"dataframe\">\n",
              "  <thead>\n",
              "    <tr style=\"text-align: right;\">\n",
              "      <th></th>\n",
              "      <th>Nº</th>\n",
              "      <th>Nome</th>\n",
              "      <th>Liberado?</th>\n",
              "      <th>Remédios / Roupas</th>\n",
              "      <th>Bairro</th>\n",
              "      <th>Telefone</th>\n",
              "      <th>Crianças</th>\n",
              "      <th>Adultos</th>\n",
              "      <th>Idosos</th>\n",
              "      <th>Trabalha</th>\n",
              "      <th>Tipo de Auxílio</th>\n",
              "      <th>Qtde de pessoas</th>\n",
              "      <th>(R$)</th>\n",
              "      <th>Data de Atualização</th>\n",
              "      <th>Endereço</th>\n",
              "      <th>CPF</th>\n",
              "      <th>DATA DA PLANILHA</th>\n",
              "      <th>Observações</th>\n",
              "    </tr>\n",
              "  </thead>\n",
              "  <tbody>\n",
              "    <tr>\n",
              "      <th>1363</th>\n",
              "      <td>1357.0</td>\n",
              "      <td>Zilda Maria Dias Soares (amiga da Eliane)</td>\n",
              "      <td>NaN</td>\n",
              "      <td>NaN</td>\n",
              "      <td>Praça Seca</td>\n",
              "      <td>99551-2776</td>\n",
              "      <td>NaN</td>\n",
              "      <td>NaN</td>\n",
              "      <td>NaN</td>\n",
              "      <td>NaN</td>\n",
              "      <td>NaN</td>\n",
              "      <td>0</td>\n",
              "      <td>NaN</td>\n",
              "      <td>NaN</td>\n",
              "      <td>NaN</td>\n",
              "      <td>NaN</td>\n",
              "      <td>4/23/2020</td>\n",
              "      <td>NaN</td>\n",
              "    </tr>\n",
              "    <tr>\n",
              "      <th>1364</th>\n",
              "      <td>1358.0</td>\n",
              "      <td>ZILDA SOARES</td>\n",
              "      <td>NaN</td>\n",
              "      <td>NaN</td>\n",
              "      <td>Praça Seca</td>\n",
              "      <td>99551-2776</td>\n",
              "      <td>2</td>\n",
              "      <td>2</td>\n",
              "      <td>NaN</td>\n",
              "      <td>NaN</td>\n",
              "      <td>NaN</td>\n",
              "      <td>4</td>\n",
              "      <td>NaN</td>\n",
              "      <td>NaN</td>\n",
              "      <td>NaN</td>\n",
              "      <td>NaN</td>\n",
              "      <td>5/8/2020</td>\n",
              "      <td>NaN</td>\n",
              "    </tr>\n",
              "    <tr>\n",
              "      <th>1365</th>\n",
              "      <td>1359.0</td>\n",
              "      <td>ZILMA DA SILVA MAIA</td>\n",
              "      <td>NaN</td>\n",
              "      <td>NaN</td>\n",
              "      <td>Praça Seca</td>\n",
              "      <td>99428-8934/97397-3521 (vizinha)</td>\n",
              "      <td>NaN</td>\n",
              "      <td>2</td>\n",
              "      <td>NaN</td>\n",
              "      <td>NaN</td>\n",
              "      <td>NaN</td>\n",
              "      <td>2</td>\n",
              "      <td>NaN</td>\n",
              "      <td>NaN</td>\n",
              "      <td>NaN</td>\n",
              "      <td>NaN</td>\n",
              "      <td>5/8/2020</td>\n",
              "      <td>NaN</td>\n",
              "    </tr>\n",
              "    <tr>\n",
              "      <th>1366</th>\n",
              "      <td>1360.0</td>\n",
              "      <td>ZULEICA SILVA DO JANUÁRIO</td>\n",
              "      <td>NaN</td>\n",
              "      <td>NaN</td>\n",
              "      <td>NaN</td>\n",
              "      <td>99193-5560</td>\n",
              "      <td>NaN</td>\n",
              "      <td>NaN</td>\n",
              "      <td>NaN</td>\n",
              "      <td>NaN</td>\n",
              "      <td>NaN</td>\n",
              "      <td>0</td>\n",
              "      <td>NaN</td>\n",
              "      <td>NaN</td>\n",
              "      <td>NaN</td>\n",
              "      <td>NaN</td>\n",
              "      <td>5/22/2020</td>\n",
              "      <td>NaN</td>\n",
              "    </tr>\n",
              "    <tr>\n",
              "      <th>1367</th>\n",
              "      <td>NaN</td>\n",
              "      <td>NaN</td>\n",
              "      <td>NaN</td>\n",
              "      <td>NaN</td>\n",
              "      <td>NaN</td>\n",
              "      <td>NaN</td>\n",
              "      <td>NaN</td>\n",
              "      <td>NaN</td>\n",
              "      <td>NaN</td>\n",
              "      <td>NaN</td>\n",
              "      <td>NaN</td>\n",
              "      <td>0</td>\n",
              "      <td>NaN</td>\n",
              "      <td>NaN</td>\n",
              "      <td>NaN</td>\n",
              "      <td>NaN</td>\n",
              "      <td>NaN</td>\n",
              "      <td>NaN</td>\n",
              "    </tr>\n",
              "  </tbody>\n",
              "</table>\n",
              "</div>"
            ],
            "text/plain": [
              "          Nº  ... Observações\n",
              "1363  1357.0  ...         NaN\n",
              "1364  1358.0  ...         NaN\n",
              "1365  1359.0  ...         NaN\n",
              "1366  1360.0  ...         NaN\n",
              "1367     NaN  ...         NaN\n",
              "\n",
              "[5 rows x 18 columns]"
            ]
          },
          "metadata": {},
          "execution_count": 3
        }
      ]
    },
    {
      "cell_type": "code",
      "metadata": {
        "colab": {
          "base_uri": "https://localhost:8080/",
          "height": 0
        },
        "id": "Ln4RNQ7ofhpM",
        "outputId": "b0a03b25-49b2-4a7e-f420-8b084e2813e9"
      },
      "source": [
        "geral_oficial.tail()"
      ],
      "execution_count": 4,
      "outputs": [
        {
          "output_type": "execute_result",
          "data": {
            "text/html": [
              "<div>\n",
              "<style scoped>\n",
              "    .dataframe tbody tr th:only-of-type {\n",
              "        vertical-align: middle;\n",
              "    }\n",
              "\n",
              "    .dataframe tbody tr th {\n",
              "        vertical-align: top;\n",
              "    }\n",
              "\n",
              "    .dataframe thead th {\n",
              "        text-align: right;\n",
              "    }\n",
              "</style>\n",
              "<table border=\"1\" class=\"dataframe\">\n",
              "  <thead>\n",
              "    <tr style=\"text-align: right;\">\n",
              "      <th></th>\n",
              "      <th>Nº+</th>\n",
              "      <th>Nome</th>\n",
              "      <th>EV/AB/PRAÇA</th>\n",
              "      <th>Pedidos de Roupa/Remédio</th>\n",
              "      <th>Bairro</th>\n",
              "      <th>Telefone</th>\n",
              "      <th>Crianças</th>\n",
              "      <th>Adultos</th>\n",
              "      <th>Idosos</th>\n",
              "      <th>Trabalha</th>\n",
              "      <th>Recebe Auxílio?</th>\n",
              "      <th>Qtde de pessoas</th>\n",
              "      <th>Renda mensal</th>\n",
              "      <th>Data de entrada</th>\n",
              "      <th>Endereço</th>\n",
              "      <th>CPF</th>\n",
              "      <th>CESTA 1</th>\n",
              "      <th>CESTA 2</th>\n",
              "      <th>CESTA 3</th>\n",
              "      <th>Última atualização</th>\n",
              "      <th>Observações</th>\n",
              "    </tr>\n",
              "  </thead>\n",
              "  <tbody>\n",
              "    <tr>\n",
              "      <th>1536</th>\n",
              "      <td>1537</td>\n",
              "      <td>NaN</td>\n",
              "      <td>NaN</td>\n",
              "      <td>NaN</td>\n",
              "      <td>NaN</td>\n",
              "      <td>NaN</td>\n",
              "      <td>NaN</td>\n",
              "      <td>NaN</td>\n",
              "      <td>NaN</td>\n",
              "      <td>NaN</td>\n",
              "      <td>NaN</td>\n",
              "      <td>0</td>\n",
              "      <td>NaN</td>\n",
              "      <td>NaN</td>\n",
              "      <td>NaN</td>\n",
              "      <td>NaN</td>\n",
              "      <td>NaN</td>\n",
              "      <td>NaN</td>\n",
              "      <td>NaN</td>\n",
              "      <td>NaN</td>\n",
              "      <td>NaN</td>\n",
              "    </tr>\n",
              "    <tr>\n",
              "      <th>1537</th>\n",
              "      <td>1538</td>\n",
              "      <td>NaN</td>\n",
              "      <td>NaN</td>\n",
              "      <td>NaN</td>\n",
              "      <td>NaN</td>\n",
              "      <td>NaN</td>\n",
              "      <td>NaN</td>\n",
              "      <td>NaN</td>\n",
              "      <td>NaN</td>\n",
              "      <td>NaN</td>\n",
              "      <td>NaN</td>\n",
              "      <td>0</td>\n",
              "      <td>NaN</td>\n",
              "      <td>NaN</td>\n",
              "      <td>NaN</td>\n",
              "      <td>NaN</td>\n",
              "      <td>NaN</td>\n",
              "      <td>NaN</td>\n",
              "      <td>NaN</td>\n",
              "      <td>NaN</td>\n",
              "      <td>NaN</td>\n",
              "    </tr>\n",
              "    <tr>\n",
              "      <th>1538</th>\n",
              "      <td>1539</td>\n",
              "      <td>NaN</td>\n",
              "      <td>NaN</td>\n",
              "      <td>NaN</td>\n",
              "      <td>NaN</td>\n",
              "      <td>NaN</td>\n",
              "      <td>NaN</td>\n",
              "      <td>NaN</td>\n",
              "      <td>NaN</td>\n",
              "      <td>NaN</td>\n",
              "      <td>NaN</td>\n",
              "      <td>0</td>\n",
              "      <td>NaN</td>\n",
              "      <td>NaN</td>\n",
              "      <td>NaN</td>\n",
              "      <td>NaN</td>\n",
              "      <td>NaN</td>\n",
              "      <td>NaN</td>\n",
              "      <td>NaN</td>\n",
              "      <td>NaN</td>\n",
              "      <td>NaN</td>\n",
              "    </tr>\n",
              "    <tr>\n",
              "      <th>1539</th>\n",
              "      <td>1540</td>\n",
              "      <td>NaN</td>\n",
              "      <td>NaN</td>\n",
              "      <td>NaN</td>\n",
              "      <td>NaN</td>\n",
              "      <td>NaN</td>\n",
              "      <td>NaN</td>\n",
              "      <td>NaN</td>\n",
              "      <td>NaN</td>\n",
              "      <td>NaN</td>\n",
              "      <td>NaN</td>\n",
              "      <td>0</td>\n",
              "      <td>NaN</td>\n",
              "      <td>NaN</td>\n",
              "      <td>NaN</td>\n",
              "      <td>NaN</td>\n",
              "      <td>NaN</td>\n",
              "      <td>NaN</td>\n",
              "      <td>NaN</td>\n",
              "      <td>NaN</td>\n",
              "      <td>NaN</td>\n",
              "    </tr>\n",
              "    <tr>\n",
              "      <th>1540</th>\n",
              "      <td>1541</td>\n",
              "      <td>NaN</td>\n",
              "      <td>NaN</td>\n",
              "      <td>NaN</td>\n",
              "      <td>NaN</td>\n",
              "      <td>NaN</td>\n",
              "      <td>NaN</td>\n",
              "      <td>NaN</td>\n",
              "      <td>NaN</td>\n",
              "      <td>NaN</td>\n",
              "      <td>NaN</td>\n",
              "      <td>0</td>\n",
              "      <td>NaN</td>\n",
              "      <td>NaN</td>\n",
              "      <td>NaN</td>\n",
              "      <td>NaN</td>\n",
              "      <td>NaN</td>\n",
              "      <td>NaN</td>\n",
              "      <td>NaN</td>\n",
              "      <td>NaN</td>\n",
              "      <td>NaN</td>\n",
              "    </tr>\n",
              "  </tbody>\n",
              "</table>\n",
              "</div>"
            ],
            "text/plain": [
              "       Nº+ Nome EV/AB/PRAÇA  ... CESTA 3 Última atualização Observações\n",
              "1536  1537  NaN         NaN  ...     NaN                NaN         NaN\n",
              "1537  1538  NaN         NaN  ...     NaN                NaN         NaN\n",
              "1538  1539  NaN         NaN  ...     NaN                NaN         NaN\n",
              "1539  1540  NaN         NaN  ...     NaN                NaN         NaN\n",
              "1540  1541  NaN         NaN  ...     NaN                NaN         NaN\n",
              "\n",
              "[5 rows x 21 columns]"
            ]
          },
          "metadata": {},
          "execution_count": 4
        }
      ]
    },
    {
      "cell_type": "markdown",
      "metadata": {
        "id": "i5oo7n_fh56o"
      },
      "source": [
        "Vemos que a lista oficial tem mais dados do que a não oficial."
      ]
    },
    {
      "cell_type": "code",
      "metadata": {
        "colab": {
          "base_uri": "https://localhost:8080/"
        },
        "id": "WOQnzQL5fuLs",
        "outputId": "e709bb25-f47d-474f-da8e-f396473e0a37"
      },
      "source": [
        "geral_nao_oficial.shape, geral_oficial.shape"
      ],
      "execution_count": 5,
      "outputs": [
        {
          "output_type": "execute_result",
          "data": {
            "text/plain": [
              "((1368, 18), (1541, 21))"
            ]
          },
          "metadata": {},
          "execution_count": 5
        }
      ]
    },
    {
      "cell_type": "code",
      "metadata": {
        "colab": {
          "base_uri": "https://localhost:8080/"
        },
        "id": "65hvUhtMhMpr",
        "outputId": "21860ae4-f28e-4a14-e7c4-0dca4326fd4d"
      },
      "source": [
        "geral_oficial.dtypes"
      ],
      "execution_count": 6,
      "outputs": [
        {
          "output_type": "execute_result",
          "data": {
            "text/plain": [
              "Nº+                          object\n",
              "Nome                         object\n",
              "EV/AB/PRAÇA                  object\n",
              "Pedidos de Roupa/Remédio     object\n",
              "Bairro                       object\n",
              "Telefone                     object\n",
              "Crianças                     object\n",
              "Adultos                      object\n",
              "Idosos                       object\n",
              "Trabalha                     object\n",
              "Recebe Auxílio?              object\n",
              "Qtde de pessoas              object\n",
              "Renda mensal                 object\n",
              "Data de entrada              object\n",
              "Endereço                     object\n",
              "CPF                          object\n",
              "CESTA 1                      object\n",
              "CESTA 2                      object\n",
              "CESTA 3                     float64\n",
              "Última atualização           object\n",
              "Observações                  object\n",
              "dtype: object"
            ]
          },
          "metadata": {},
          "execution_count": 6
        }
      ]
    },
    {
      "cell_type": "markdown",
      "metadata": {
        "id": "O17U5Ic5iBT4"
      },
      "source": [
        "A lista oficial foi toda reconhecida como string, exceto a coluna da Cesta 3. "
      ]
    },
    {
      "cell_type": "code",
      "metadata": {
        "colab": {
          "base_uri": "https://localhost:8080/"
        },
        "id": "YXvHGlr0hnOR",
        "outputId": "9e0c37ca-f0e6-437c-985a-13140e5397e9"
      },
      "source": [
        "geral_nao_oficial.dtypes"
      ],
      "execution_count": 7,
      "outputs": [
        {
          "output_type": "execute_result",
          "data": {
            "text/plain": [
              "Nº                     float64\n",
              "Nome                    object\n",
              "Liberado?               object\n",
              "Remédios / Roupas       object\n",
              "Bairro                  object\n",
              "Telefone                object\n",
              "Crianças                object\n",
              "Adultos                 object\n",
              "Idosos                  object\n",
              "Trabalha                object\n",
              "Tipo de Auxílio         object\n",
              "Qtde de pessoas         object\n",
              "(R$)                    object\n",
              "Data de Atualização     object\n",
              "Endereço                object\n",
              "CPF                     object\n",
              "DATA DA PLANILHA        object\n",
              "Observações             object\n",
              "dtype: object"
            ]
          },
          "metadata": {},
          "execution_count": 7
        }
      ]
    },
    {
      "cell_type": "markdown",
      "metadata": {
        "id": "xp_gc4Y1nen2"
      },
      "source": [
        "## Modificando e validando dados"
      ]
    },
    {
      "cell_type": "markdown",
      "metadata": {
        "id": "bG5B76WWwvKw"
      },
      "source": [
        "### Excluindo e Renomeando colunas"
      ]
    },
    {
      "cell_type": "code",
      "metadata": {
        "id": "E4MpzIUHpUKD"
      },
      "source": [
        "geral_nao_oficial = geral_nao_oficial.drop(\"Liberado?\", axis = 1) # Exluiu a coluna Liberado?\n",
        "geral_nao_oficial = geral_nao_oficial.drop(\"Nº\", axis = 1) # Exclui a coluna Nº"
      ],
      "execution_count": 92,
      "outputs": []
    },
    {
      "cell_type": "markdown",
      "metadata": {
        "id": "5NSBRjitKfeA"
      },
      "source": [
        "Para melhor usar o join/merge/combine faremos as colunas nas duas planilhas terem o mesmo nome quando necessárias."
      ]
    },
    {
      "cell_type": "code",
      "metadata": {
        "id": "oO84BKTAoGfQ"
      },
      "source": [
        "nomes = {\"Remédios / Roupas\": \"Pedidos de Roupa/Remédio\", \"Tipo de Auxílio\": \"Recebe Auxílio?\",\n",
        "         \"(R$)\": \"Renda mensal\", \"DATA DA PLANILHA\": \"Data de entrada\", \"Data de Atualização\": \"Última atualização\"}"
      ],
      "execution_count": 93,
      "outputs": []
    },
    {
      "cell_type": "code",
      "metadata": {
        "id": "sWyPt1Afpft-"
      },
      "source": [
        "geral_nao_oficial.rename(nomes, axis = 1, inplace=True)"
      ],
      "execution_count": 94,
      "outputs": []
    },
    {
      "cell_type": "code",
      "metadata": {
        "colab": {
          "base_uri": "https://localhost:8080/",
          "height": 0
        },
        "id": "fc8fH949plfP",
        "outputId": "a4af12bc-f6c6-462b-dced-300677633a21"
      },
      "source": [
        "geral_nao_oficial.head()"
      ],
      "execution_count": 95,
      "outputs": [
        {
          "output_type": "execute_result",
          "data": {
            "text/html": [
              "<div>\n",
              "<style scoped>\n",
              "    .dataframe tbody tr th:only-of-type {\n",
              "        vertical-align: middle;\n",
              "    }\n",
              "\n",
              "    .dataframe tbody tr th {\n",
              "        vertical-align: top;\n",
              "    }\n",
              "\n",
              "    .dataframe thead th {\n",
              "        text-align: right;\n",
              "    }\n",
              "</style>\n",
              "<table border=\"1\" class=\"dataframe\">\n",
              "  <thead>\n",
              "    <tr style=\"text-align: right;\">\n",
              "      <th></th>\n",
              "      <th>Nome</th>\n",
              "      <th>Pedidos de Roupa/Remédio</th>\n",
              "      <th>Bairro</th>\n",
              "      <th>Telefone</th>\n",
              "      <th>Crianças</th>\n",
              "      <th>Adultos</th>\n",
              "      <th>Idosos</th>\n",
              "      <th>Trabalha</th>\n",
              "      <th>Recebe Auxílio?</th>\n",
              "      <th>Qtde de pessoas</th>\n",
              "      <th>Renda mensal</th>\n",
              "      <th>Última atualização</th>\n",
              "      <th>Endereço</th>\n",
              "      <th>CPF</th>\n",
              "      <th>Data de entrada</th>\n",
              "      <th>Observações</th>\n",
              "    </tr>\n",
              "  </thead>\n",
              "  <tbody>\n",
              "    <tr>\n",
              "      <th>0</th>\n",
              "      <td>Abdaline Jean Baptiste</td>\n",
              "      <td>NaN</td>\n",
              "      <td>Tanque</td>\n",
              "      <td>98064-1512 -  97201-0948</td>\n",
              "      <td>3</td>\n",
              "      <td>2</td>\n",
              "      <td>2</td>\n",
              "      <td>não</td>\n",
              "      <td>NaN</td>\n",
              "      <td>7</td>\n",
              "      <td>NaN</td>\n",
              "      <td>6/19/2020</td>\n",
              "      <td>Rua Almirante Melquíades de Souza, 322 Tanque ...</td>\n",
              "      <td>065.001.667-01</td>\n",
              "      <td>7/3/2020</td>\n",
              "      <td>NaN</td>\n",
              "    </tr>\n",
              "    <tr>\n",
              "      <th>1</th>\n",
              "      <td>Abigail Pereira Cabral</td>\n",
              "      <td>NaN</td>\n",
              "      <td>Praça Seca</td>\n",
              "      <td>998039-7091 (tel errado)</td>\n",
              "      <td>1</td>\n",
              "      <td>3</td>\n",
              "      <td>NaN</td>\n",
              "      <td>não</td>\n",
              "      <td>NaN</td>\n",
              "      <td>4</td>\n",
              "      <td>NaN</td>\n",
              "      <td>6/5/2020</td>\n",
              "      <td>NaN</td>\n",
              "      <td>714.666.306-34</td>\n",
              "      <td>7/3/2020</td>\n",
              "      <td>NaN</td>\n",
              "    </tr>\n",
              "    <tr>\n",
              "      <th>2</th>\n",
              "      <td>Adélia Verônica Pinto da Silva</td>\n",
              "      <td>Sim</td>\n",
              "      <td>Vila Isabel</td>\n",
              "      <td>99312-1634</td>\n",
              "      <td>1</td>\n",
              "      <td>2</td>\n",
              "      <td>0</td>\n",
              "      <td>não</td>\n",
              "      <td>bolsa famila 130,00</td>\n",
              "      <td>3</td>\n",
              "      <td>NaN</td>\n",
              "      <td>4/20/2021</td>\n",
              "      <td>Rua viana drumond 38 casa 2 Vila Isabel</td>\n",
              "      <td>125.458..797-70</td>\n",
              "      <td>7/11/2020</td>\n",
              "      <td>NaN</td>\n",
              "    </tr>\n",
              "    <tr>\n",
              "      <th>3</th>\n",
              "      <td>Adelino da Silva Gomes</td>\n",
              "      <td>NaN</td>\n",
              "      <td>Vila Isabel</td>\n",
              "      <td>98891-2516</td>\n",
              "      <td>3</td>\n",
              "      <td>1</td>\n",
              "      <td>NaN</td>\n",
              "      <td>NaN</td>\n",
              "      <td>NaN</td>\n",
              "      <td>4</td>\n",
              "      <td>NaN</td>\n",
              "      <td>NaN</td>\n",
              "      <td>Rua Armando de Albuquerque, 33</td>\n",
              "      <td>011.833.607-03</td>\n",
              "      <td>6/27/2020</td>\n",
              "      <td>NaN</td>\n",
              "    </tr>\n",
              "    <tr>\n",
              "      <th>4</th>\n",
              "      <td>Aderaldo Araújo Simplício</td>\n",
              "      <td>NaN</td>\n",
              "      <td>Tijuca</td>\n",
              "      <td>99947-3523</td>\n",
              "      <td>NaN</td>\n",
              "      <td>NaN</td>\n",
              "      <td>NaN</td>\n",
              "      <td>NaN</td>\n",
              "      <td>NaN</td>\n",
              "      <td>0</td>\n",
              "      <td>NaN</td>\n",
              "      <td>7/25/2020</td>\n",
              "      <td>NaN</td>\n",
              "      <td>606.569.647-15</td>\n",
              "      <td>8/8/2020</td>\n",
              "      <td>NaN</td>\n",
              "    </tr>\n",
              "  </tbody>\n",
              "</table>\n",
              "</div>"
            ],
            "text/plain": [
              "                             Nome  ... Observações\n",
              "0          Abdaline Jean Baptiste  ...         NaN\n",
              "1          Abigail Pereira Cabral  ...         NaN\n",
              "2  Adélia Verônica Pinto da Silva  ...         NaN\n",
              "3          Adelino da Silva Gomes  ...         NaN\n",
              "4       Aderaldo Araújo Simplício  ...         NaN\n",
              "\n",
              "[5 rows x 16 columns]"
            ]
          },
          "metadata": {},
          "execution_count": 95
        }
      ]
    },
    {
      "cell_type": "code",
      "metadata": {
        "id": "TRk8bI8qK9N1"
      },
      "source": [
        "geral_oficial.rename({\"Nº+\": \"Nº\"}, axis = 1, inplace= True)"
      ],
      "execution_count": 96,
      "outputs": []
    },
    {
      "cell_type": "markdown",
      "metadata": {
        "id": "szfA_4kxxhWm"
      },
      "source": [
        "### Estruturando a Coluna \"CPF\""
      ]
    },
    {
      "cell_type": "code",
      "metadata": {
        "id": "MgFdzuBW5VBx"
      },
      "source": [
        "# Essa função enviar cada valor para ser checado\n",
        "def separacao(data_serie):\n",
        "  num = 0\n",
        "\n",
        "  for i in range(len(data_serie)):\n",
        "    try:\n",
        "      if math.isnan(data_serie[i]):\n",
        "        # Se o valor for NaN ele pula\n",
        "        continue\n",
        "        \n",
        "    except TypeError:\n",
        "        pass\n",
        "\n",
        "    if type(data_serie[i]) is list:\n",
        "      # Se for uma lista, junta os valores ao converte-los para string\n",
        "      data_serie[i] = [str(x) for x in data_serie[i]]\n",
        "      data_serie[i] = \"\".join(data_serie[i])\n",
        "\n",
        "    if data_serie[i].startswith(\"ID:\") or data_serie[i].startswith(\"RG\") or data_serie[i].startswith(\"Ca\"):\n",
        "      # Se começa com \"ID:\" ou \"RG\" é ignorado\n",
        "      continue\n",
        "\n",
        "    if data_serie[i].startswith(\"?\"):\n",
        "      # se o valor for \"?\" é trocado por NaN\n",
        "      data_serie[i] = np.nan\n",
        "      continue\n",
        "\n",
        "    valores = cpf(data_serie[i])\n",
        "    num += 1\n",
        "\n",
        "    if num % 10 == 0:\n",
        "      # Printa a cada 10 CPF\n",
        "      print(data_serie[i], valores[0], \"index =\", i)\n",
        "\n",
        "    if valores[1] == False:\n",
        "      data_serie[i] = valores[0]\n",
        "  \n",
        "  return data_serie\n"
      ],
      "execution_count": 97,
      "outputs": []
    },
    {
      "cell_type": "code",
      "metadata": {
        "id": "FB25dEQ6xUV6"
      },
      "source": [
        "import math\n",
        "# Essa função checará se o CPF está no formato XXX.XXX.XXX-XX\n",
        "def cpf(valor):\n",
        "  \n",
        "  cpf = []\n",
        "  valor = list(valor.strip()) # Transforma em uma lista\n",
        "      \n",
        "  for i in range(len(valor)):\n",
        "    # Começa a verificar do ultimo ao primeiro\n",
        "        \n",
        "    if valor[i].isdigit():\n",
        "      # Se o valor for digito\n",
        "\n",
        "      cpf.append(str(valor[i]))\n",
        "    \n",
        "  while len(cpf) < 11:\n",
        "    # se a lista for menor que 11 será adicionado um 0 até completar 11 digito\n",
        "\n",
        "    cpf.insert(0, \"0\")\n",
        "  \n",
        "  # Insere os caracteres nas posições específicas\n",
        "  cpf.insert(3, \".\") \n",
        "  cpf.insert(7, \".\")\n",
        "  cpf.insert(11, \"-\")\n",
        "\n",
        "  return [\"\".join(cpf), False]\n",
        "\n",
        "\n",
        "    \n"
      ],
      "execution_count": 98,
      "outputs": []
    },
    {
      "cell_type": "code",
      "metadata": {
        "id": "7Mz2vsV8zFJb",
        "colab": {
          "base_uri": "https://localhost:8080/"
        },
        "outputId": "ab39415d-d2cf-4eaf-8128-f92cd337b4d0"
      },
      "source": [
        "# Passando a serie da Coluna CPF\n",
        "coluna_cpf = geral_nao_oficial.loc[:, (\"CPF\")]\n",
        "coluna_cpf = separacao(coluna_cpf)"
      ],
      "execution_count": 99,
      "outputs": [
        {
          "output_type": "stream",
          "name": "stdout",
          "text": [
            "127.383.047-45 127.383.047-45 index = 13\n",
            "002.106.317-67 002.106.317-67 index = 25\n",
            "014.187.861-44 014.187.861-44 index = 46\n",
            "171.637.447-01 171.637.447-01 index = 67\n",
            "035.672.627-42 035.672.627-42 index = 101\n",
            "025.869.567-61 025.869.567-61 index = 126\n",
            "917.828.487-20 917.828.487-20 index = 145\n",
            "884.896.713-00 884.896.713-00 index = 165\n",
            "149.072.277-79 149.072.277-79 index = 190\n",
            "098.072.117-27 098.072.117-27 index = 219\n",
            "144.283.937-94 144.283.937-94 index = 240\n",
            "821.274.767-00 821.274.767-00 index = 261\n",
            "109.594.397-90 109.594.397-90 index = 289\n",
            "185.644.247-03 185.644.247-03 index = 313\n",
            "125.674.487-56 125.674.487-56 index = 327\n",
            "108.692.427-41 108.692.427-41 index = 347\n",
            "025.896.447-28 025.896.447-28 index = 370\n",
            "13197472721 131.974.727-21 index = 398\n",
            "035.126.327-69 035.126.327-69 index = 419\n",
            "103.416.957-26 103.416.957-26 index = 438\n",
            "088.225.977-61 088.225.977-61 index = 456\n",
            "079.587.877-07 079.587.877-07 index = 475\n",
            "930.00 000.000.930-00 index = 498\n",
            "15128200752 151.282.007-52 index = 518\n",
            "158.578.397-85 158.578.397-85 index = 541\n",
            "005.501.157-81 005.501.157-81 index = 557\n",
            "146.048.237-90 146.048.237-90 index = 580\n",
            "152.943.677-00 152.943.677-00 index = 593\n",
            "123.698.227-40 123.698.227-40 index = 608\n",
            "052.319.787-01 052.319.787-01 index = 633\n",
            "100.228.397-39 100.228.397-39 index = 653\n",
            "705.745.894-06 705.745.894-06 index = 683\n",
            "191.646.707-80 191.646.707-80 index = 697\n",
            "11760789763 117.607.897-63 index = 722\n",
            "144.287.227-61 144.287.227-61 index = 741\n",
            "048.641.093-54 048.641.093-54 index = 759\n",
            "858.191.903-00 858.191.903-00 index = 780\n",
            "164.919.537-00 164.919.537-00 index = 800\n",
            "018.758.247-58 018.758.247-58 index = 819\n",
            "902.168.817-49 902.168.817-49 index = 836\n",
            "083.759.587-86 083.759.587-86 index = 855\n",
            "990.479.697-15 990.479.697-15 index = 875\n",
            "113.114.757-02 113.114.757-02 index = 897\n",
            "025.243.247-96 025.243.247-96 index = 929\n",
            "110.476.327-30 110.476.327-30 index = 951\n",
            "005.963.367-05 005.963.367-05 index = 965\n",
            "201.630.487-11 201.630.487-11 index = 985\n",
            "153.856.817-92 153.856.817-92 index = 1011\n",
            "121.931.817-56 121.931.817-56 index = 1034\n",
            "126.738.237-60 126.738.237-60 index = 1064\n",
            "155.563.047-26 155.563.047-26 index = 1088\n",
            "054.328.867-66 054.328.867-66 index = 1109\n",
            "025.678.80-77 002.567.880-77 index = 1142\n",
            "023.000.997-21 023.000.997-21 index = 1164\n",
            "156.284.456-11 156.284.456-11 index = 1188\n",
            "037.869.247-08 037.869.247-08 index = 1208\n",
            "124.528.217-48 124.528.217-48 index = 1229\n",
            "120.061.027-02 120.061.027-02 index = 1250\n",
            "107.134.697-06 107.134.697-06 index = 1263\n",
            "157.259.517-58 157.259.517-58 index = 1284\n",
            "430.155.907-82 430.155.907-82 index = 1309\n",
            "057.124.047-02 057.124.047-02 index = 1338\n",
            "411.729.737-68 411.729.737-68 index = 1358\n"
          ]
        }
      ]
    },
    {
      "cell_type": "code",
      "metadata": {
        "colab": {
          "base_uri": "https://localhost:8080/"
        },
        "id": "9BTZj0QeF2Rh",
        "outputId": "8c628fbf-97f4-48b1-e33c-aa13970ad144"
      },
      "source": [
        "coluna_cpf_oficial = separacao(geral_oficial.loc[:, (\"CPF\")])"
      ],
      "execution_count": 100,
      "outputs": [
        {
          "output_type": "stream",
          "name": "stderr",
          "text": [
            "/usr/local/lib/python3.7/dist-packages/ipykernel_launcher.py:36: SettingWithCopyWarning: \n",
            "A value is trying to be set on a copy of a slice from a DataFrame\n",
            "\n",
            "See the caveats in the documentation: https://pandas.pydata.org/pandas-docs/stable/user_guide/indexing.html#returning-a-view-versus-a-copy\n",
            "/usr/local/lib/python3.7/dist-packages/ipykernel_launcher.py:25: SettingWithCopyWarning: \n",
            "A value is trying to be set on a copy of a slice from a DataFrame\n",
            "\n",
            "See the caveats in the documentation: https://pandas.pydata.org/pandas-docs/stable/user_guide/indexing.html#returning-a-view-versus-a-copy\n"
          ]
        },
        {
          "output_type": "stream",
          "name": "stdout",
          "text": [
            "150.421.007-76 150.421.007-76 index = 9\n",
            "151.150.397-10 151.150.397-10 index = 20\n",
            "769.020.057-53 769.020.057-53 index = 33\n",
            "103.280.958-45 103.280.958-45 index = 49\n",
            "154.836.677-35 154.836.677-35 index = 66\n",
            "118.869.577-03 118.869.577-03 index = 85\n",
            "035.672.627-42 035.672.627-42 index = 111\n",
            "077.616.937-81 077.616.937-81 index = 139\n",
            "820.732.793-68 820.732.793-68 index = 156\n",
            "072.311.583-40 072.311.583-40 index = 176\n",
            "149.072.277.79 149.072.277-79 index = 200\n",
            "159.617.717-92 159.617.717-92 index = 218\n",
            "112.771.037-04 112.771.037-04 index = 245\n",
            "164.085.237-90 164.085.237-90 index = 267\n",
            "782.377.507-72 782.377.507-72 index = 282\n",
            " 099.314.027-09 099.314.027-09 index = 306\n",
            "159.938.247-43 159.938.247-43 index = 321\n",
            "185.644.247-03 185.644.247-03 index = 339\n",
            "125.674.487-56 125.674.487-56 index = 354\n",
            "722.627.887-15 722.627.887-15 index = 373\n",
            "132.215.257-88 132.215.257-88 index = 391\n",
            "180.230.717-69 180.230.717-69 index = 420\n",
            "091.891.747-63 091.891.747-63 index = 438\n",
            "744.426.197-00 744.426.197-00 index = 460\n",
            "103.017.927-12 103.017.927-12 index = 473\n",
            "018.456.857-92 018.456.857-92 index = 492\n",
            "098.446.377-16 098.446.377-16 index = 507\n",
            "095.818.607-38 095.818.607-38 index = 526\n",
            "063.963.127-43 063.963.127-43 index = 546\n",
            "102.418.627-01 102.418.627-01 index = 566\n",
            "158.578.297-12 158.578.297-12 index = 590\n",
            "005.501.157-81 005.501.157-81 index = 607\n",
            "018.168.327-07 018.168.327-07 index = 620\n",
            "091.860.677-29 091.860.677-29 index = 641\n",
            "130.536.977-77 130.536.977-77 index = 656\n",
            "530.719.997-04 530.719.997-04 index = 678\n",
            "962.765.297-87 962.765.297-87 index = 698\n",
            "047.552.323-76 047.552.323-76 index = 720\n",
            "185.702.897-07 185.702.897-07 index = 740\n",
            "945.563.423-88 945.563.423-88 index = 756\n",
            "171.406.357-73 171.406.357-73 index = 768\n",
            "191.374.127-36 191.374.127-36 index = 793\n",
            "070.004.093-55 070.004.093-55 index = 814\n",
            "060.030.947-96 060.030.947-96 index = 827\n",
            "177.894.147-80 177.894.147-80 index = 845\n",
            "083.755.537-00 083.755.537-00 index = 862\n",
            "164.919.537-00 164.919.537-00 index = 882\n",
            "086.856.967-47 086.856.967-47 index = 903\n",
            "106.898.177-21 106.898.177-21 index = 919\n",
            "174.782.587-51 174.782.587-51 index = 939\n",
            "091.700.947-99 091.700.947-99 index = 954\n",
            "990.479.697-15 990.479.697-15 index = 968\n",
            "113.114.757-02 113.114.757-02 index = 989\n",
            "683.567.735-04 683.567.735-04 index = 1013\n",
            "130.680.037-62 130.680.037-62 index = 1033\n",
            "196.867.047-52 196.867.047-52 index = 1052\n",
            "056.232.807-65 056.232.807-65 index = 1064\n",
            "201.630.487-11 201.630.487-11 index = 1083\n",
            "012.586.717-43 012.586.717-43 index = 1107\n",
            "174.344.617-99 174.344.617-99 index = 1126\n",
            "097.937.957-19 097.937.957-19 index = 1148\n",
            "146.479.877-01 146.479.877-01 index = 1175\n",
            "057.803.177-98 057.803.177-98 index = 1193\n",
            "057.389.257-18 057.389.257-18 index = 1211\n",
            "911.114.717-20 911.114.717-20 index = 1227\n",
            "052.975527-02 052.975.527-02 index = 1258\n",
            "183.743.587-18 183.743.587-18 index = 1282\n",
            "156.284.456-11 156.284.456-11 index = 1305\n",
            "070.636.377-97 070.636.377-97 index = 1322\n",
            "052.967.587-06 052.967.587-06 index = 1345\n",
            "165.418.587-64 165.418.587-64 index = 1360\n",
            "133.309.107.98 133.309.107-98 index = 1377\n",
            "120.491.557.19 120.491.557-19 index = 1391\n",
            "146.863.227-23 146.863.227-23 index = 1409\n",
            "133.799.397-22 133.799.397-22 index = 1430\n",
            "106.401.407-00 106.401.407-00 index = 1454\n",
            "105.420.097-14 105.420.097-14 index = 1476\n",
            "173.994.897-18 173.994.897-18 index = 1497\n"
          ]
        }
      ]
    },
    {
      "cell_type": "markdown",
      "metadata": {
        "id": "la2XC-iXEAYd"
      },
      "source": [
        "Agora que padronizamos o CPF, iremos colocar no DataFrame."
      ]
    },
    {
      "cell_type": "code",
      "metadata": {
        "id": "X2w1yjvxD9eK"
      },
      "source": [
        "geral_nao_oficial[\"CPF\"] = coluna_cpf\n",
        "geral_oficial[\"CPF\"] = coluna_cpf_oficial"
      ],
      "execution_count": 101,
      "outputs": []
    },
    {
      "cell_type": "code",
      "metadata": {
        "colab": {
          "base_uri": "https://localhost:8080/"
        },
        "id": "_D55H558QQPu",
        "outputId": "e29005b4-d613-4e07-f762-2a95e1087109"
      },
      "source": [
        "geral_nao_oficial[\"CPF\"].head()"
      ],
      "execution_count": 102,
      "outputs": [
        {
          "output_type": "execute_result",
          "data": {
            "text/plain": [
              "0    065.001.667-01\n",
              "1    714.666.306-34\n",
              "2    125.458.797-70\n",
              "3    011.833.607-03\n",
              "4    606.569.647-15\n",
              "Name: CPF, dtype: object"
            ]
          },
          "metadata": {},
          "execution_count": 102
        }
      ]
    },
    {
      "cell_type": "markdown",
      "metadata": {
        "id": "AYxGd0iVE7WM"
      },
      "source": [
        "### Tirando todos os dados \"?????\""
      ]
    },
    {
      "cell_type": "code",
      "metadata": {
        "id": "CVdne-gNGixc"
      },
      "source": [
        "lista = [\"?\", \"??\", \"???\", \"????\", \"?????\"]"
      ],
      "execution_count": 103,
      "outputs": []
    },
    {
      "cell_type": "code",
      "metadata": {
        "id": "KeRz2CpaFBmp"
      },
      "source": [
        "geral_nao_oficial.replace(lista, np.nan, inplace= True)\n",
        "geral_oficial.replace(lista, np.nan, inplace= True)"
      ],
      "execution_count": 104,
      "outputs": []
    },
    {
      "cell_type": "markdown",
      "metadata": {
        "id": "NdWTf8aVIDMc"
      },
      "source": [
        "### Excluindo linhas vazias"
      ]
    },
    {
      "cell_type": "code",
      "metadata": {
        "id": "JxdZrsIasAZH"
      },
      "source": [
        "def exclui_linha_vazia(tabela):\n",
        "\n",
        "  for i in range(tabela.shape[0]):\n",
        "\n",
        "    if pd.isnull(tabela['Nome'][i]):\n",
        "      tabela.drop([i], inplace = True)\n",
        "  \n",
        "  return tabela"
      ],
      "execution_count": 105,
      "outputs": []
    },
    {
      "cell_type": "code",
      "metadata": {
        "id": "EwVDV_HvtATH"
      },
      "source": [
        "geral_oficial = exclui_linha_vazia(geral_oficial)\n",
        "geral_nao_oficial = exclui_linha_vazia(geral_nao_oficial)\n",
        "geral_maio = exclui_linha_vazia(geral_maio)"
      ],
      "execution_count": 106,
      "outputs": []
    },
    {
      "cell_type": "markdown",
      "metadata": {
        "id": "rkwuwCKsDatQ"
      },
      "source": [
        "## Juntando as duas planilhas"
      ]
    },
    {
      "cell_type": "code",
      "metadata": {
        "id": "tH9IppPpqFF7"
      },
      "source": [
        "Colunas = [\"CPF\", \"Nome\", \"Telefone\", \"Data de entrada\"]"
      ],
      "execution_count": 107,
      "outputs": []
    },
    {
      "cell_type": "code",
      "metadata": {
        "id": "DJSSgO8vDkev"
      },
      "source": [
        "mergido = pd.merge(geral_nao_oficial, geral_oficial, on = Colunas, how=\"outer\")"
      ],
      "execution_count": 108,
      "outputs": []
    },
    {
      "cell_type": "code",
      "metadata": {
        "colab": {
          "base_uri": "https://localhost:8080/"
        },
        "id": "ggZ8IBpWGtyU",
        "outputId": "a2cab52b-fbdc-40a6-e5b0-356584c57b82"
      },
      "source": [
        "geral_nao_oficial.shape, geral_oficial.shape, mergido.shape"
      ],
      "execution_count": 109,
      "outputs": [
        {
          "output_type": "execute_result",
          "data": {
            "text/plain": [
              "((1367, 16), (1506, 21), (2813, 33))"
            ]
          },
          "metadata": {},
          "execution_count": 109
        }
      ]
    },
    {
      "cell_type": "code",
      "metadata": {
        "colab": {
          "base_uri": "https://localhost:8080/",
          "height": 445
        },
        "id": "5Uv6shuDq1Bx",
        "outputId": "24f08a27-b441-443f-9c4f-fa43ff3ade9b"
      },
      "source": [
        "mergido.tail()"
      ],
      "execution_count": 110,
      "outputs": [
        {
          "output_type": "execute_result",
          "data": {
            "text/html": [
              "<div>\n",
              "<style scoped>\n",
              "    .dataframe tbody tr th:only-of-type {\n",
              "        vertical-align: middle;\n",
              "    }\n",
              "\n",
              "    .dataframe tbody tr th {\n",
              "        vertical-align: top;\n",
              "    }\n",
              "\n",
              "    .dataframe thead th {\n",
              "        text-align: right;\n",
              "    }\n",
              "</style>\n",
              "<table border=\"1\" class=\"dataframe\">\n",
              "  <thead>\n",
              "    <tr style=\"text-align: right;\">\n",
              "      <th></th>\n",
              "      <th>Nome</th>\n",
              "      <th>Pedidos de Roupa/Remédio_x</th>\n",
              "      <th>Bairro_x</th>\n",
              "      <th>Telefone</th>\n",
              "      <th>Crianças_x</th>\n",
              "      <th>Adultos_x</th>\n",
              "      <th>Idosos_x</th>\n",
              "      <th>Trabalha_x</th>\n",
              "      <th>Recebe Auxílio?_x</th>\n",
              "      <th>Qtde de pessoas_x</th>\n",
              "      <th>Renda mensal_x</th>\n",
              "      <th>Última atualização_x</th>\n",
              "      <th>Endereço_x</th>\n",
              "      <th>CPF</th>\n",
              "      <th>Data de entrada</th>\n",
              "      <th>Observações_x</th>\n",
              "      <th>Nº</th>\n",
              "      <th>EV/AB/PRAÇA</th>\n",
              "      <th>Pedidos de Roupa/Remédio_y</th>\n",
              "      <th>Bairro_y</th>\n",
              "      <th>Crianças_y</th>\n",
              "      <th>Adultos_y</th>\n",
              "      <th>Idosos_y</th>\n",
              "      <th>Trabalha_y</th>\n",
              "      <th>Recebe Auxílio?_y</th>\n",
              "      <th>Qtde de pessoas_y</th>\n",
              "      <th>Renda mensal_y</th>\n",
              "      <th>Endereço_y</th>\n",
              "      <th>CESTA 1</th>\n",
              "      <th>CESTA 2</th>\n",
              "      <th>CESTA 3</th>\n",
              "      <th>Última atualização_y</th>\n",
              "      <th>Observações_y</th>\n",
              "    </tr>\n",
              "  </thead>\n",
              "  <tbody>\n",
              "    <tr>\n",
              "      <th>2808</th>\n",
              "      <td>ZILDA SOARES</td>\n",
              "      <td>NaN</td>\n",
              "      <td>NaN</td>\n",
              "      <td>99551-2776</td>\n",
              "      <td>NaN</td>\n",
              "      <td>NaN</td>\n",
              "      <td>NaN</td>\n",
              "      <td>NaN</td>\n",
              "      <td>NaN</td>\n",
              "      <td>NaN</td>\n",
              "      <td>NaN</td>\n",
              "      <td>NaN</td>\n",
              "      <td>NaN</td>\n",
              "      <td>NaN</td>\n",
              "      <td>NaN</td>\n",
              "      <td>NaN</td>\n",
              "      <td>1502</td>\n",
              "      <td>NaN</td>\n",
              "      <td>NaN</td>\n",
              "      <td>Praça Seca</td>\n",
              "      <td>2</td>\n",
              "      <td>2</td>\n",
              "      <td>NaN</td>\n",
              "      <td>NaN</td>\n",
              "      <td>NaN</td>\n",
              "      <td>4</td>\n",
              "      <td>NaN</td>\n",
              "      <td>NaN</td>\n",
              "      <td>NaN</td>\n",
              "      <td>NaN</td>\n",
              "      <td>NaN</td>\n",
              "      <td>08/05/2020</td>\n",
              "      <td>NaN</td>\n",
              "    </tr>\n",
              "    <tr>\n",
              "      <th>2809</th>\n",
              "      <td>ZILMA DA SILVA MAIA</td>\n",
              "      <td>NaN</td>\n",
              "      <td>NaN</td>\n",
              "      <td>99428-8934/97397-3521 (vizinha)</td>\n",
              "      <td>NaN</td>\n",
              "      <td>NaN</td>\n",
              "      <td>NaN</td>\n",
              "      <td>NaN</td>\n",
              "      <td>NaN</td>\n",
              "      <td>NaN</td>\n",
              "      <td>NaN</td>\n",
              "      <td>NaN</td>\n",
              "      <td>NaN</td>\n",
              "      <td>NaN</td>\n",
              "      <td>NaN</td>\n",
              "      <td>NaN</td>\n",
              "      <td>1503</td>\n",
              "      <td>NaN</td>\n",
              "      <td>NaN</td>\n",
              "      <td>Praça Seca</td>\n",
              "      <td>NaN</td>\n",
              "      <td>2</td>\n",
              "      <td>NaN</td>\n",
              "      <td>NaN</td>\n",
              "      <td>NaN</td>\n",
              "      <td>2</td>\n",
              "      <td>NaN</td>\n",
              "      <td>NaN</td>\n",
              "      <td>NaN</td>\n",
              "      <td>NaN</td>\n",
              "      <td>NaN</td>\n",
              "      <td>08/05/2020</td>\n",
              "      <td>NaN</td>\n",
              "    </tr>\n",
              "    <tr>\n",
              "      <th>2810</th>\n",
              "      <td>ZULEICA SILVA DO JANUÁRIO</td>\n",
              "      <td>NaN</td>\n",
              "      <td>NaN</td>\n",
              "      <td>99193-5560</td>\n",
              "      <td>NaN</td>\n",
              "      <td>NaN</td>\n",
              "      <td>NaN</td>\n",
              "      <td>NaN</td>\n",
              "      <td>NaN</td>\n",
              "      <td>NaN</td>\n",
              "      <td>NaN</td>\n",
              "      <td>NaN</td>\n",
              "      <td>NaN</td>\n",
              "      <td>NaN</td>\n",
              "      <td>NaN</td>\n",
              "      <td>NaN</td>\n",
              "      <td>1504</td>\n",
              "      <td>NaN</td>\n",
              "      <td>NaN</td>\n",
              "      <td>NaN</td>\n",
              "      <td>NaN</td>\n",
              "      <td>NaN</td>\n",
              "      <td>NaN</td>\n",
              "      <td>NaN</td>\n",
              "      <td>NaN</td>\n",
              "      <td>0</td>\n",
              "      <td>NaN</td>\n",
              "      <td>NaN</td>\n",
              "      <td>NaN</td>\n",
              "      <td>NaN</td>\n",
              "      <td>NaN</td>\n",
              "      <td>22/05/2020</td>\n",
              "      <td>NaN</td>\n",
              "    </tr>\n",
              "    <tr>\n",
              "      <th>2811</th>\n",
              "      <td>LORREYNE FARIA DA SILVA</td>\n",
              "      <td>NaN</td>\n",
              "      <td>NaN</td>\n",
              "      <td>97448-5093</td>\n",
              "      <td>NaN</td>\n",
              "      <td>NaN</td>\n",
              "      <td>NaN</td>\n",
              "      <td>NaN</td>\n",
              "      <td>NaN</td>\n",
              "      <td>NaN</td>\n",
              "      <td>NaN</td>\n",
              "      <td>NaN</td>\n",
              "      <td>NaN</td>\n",
              "      <td>163.294.047-71</td>\n",
              "      <td>19/05/2021</td>\n",
              "      <td>NaN</td>\n",
              "      <td>1505</td>\n",
              "      <td>AB</td>\n",
              "      <td>NaN</td>\n",
              "      <td>Tijuca</td>\n",
              "      <td>2</td>\n",
              "      <td>2</td>\n",
              "      <td>0</td>\n",
              "      <td>não</td>\n",
              "      <td>não</td>\n",
              "      <td>4</td>\n",
              "      <td>375,00</td>\n",
              "      <td>Rua Dona Sinha, 1 - casa 8</td>\n",
              "      <td>NaN</td>\n",
              "      <td>NaN</td>\n",
              "      <td>NaN</td>\n",
              "      <td>20/05/2021</td>\n",
              "      <td>NaN</td>\n",
              "    </tr>\n",
              "    <tr>\n",
              "      <th>2812</th>\n",
              "      <td>RELAYNE DA CONCEIÇÃO DUARTE</td>\n",
              "      <td>NaN</td>\n",
              "      <td>NaN</td>\n",
              "      <td>96657-5110</td>\n",
              "      <td>NaN</td>\n",
              "      <td>NaN</td>\n",
              "      <td>NaN</td>\n",
              "      <td>NaN</td>\n",
              "      <td>NaN</td>\n",
              "      <td>NaN</td>\n",
              "      <td>NaN</td>\n",
              "      <td>NaN</td>\n",
              "      <td>NaN</td>\n",
              "      <td>NaN</td>\n",
              "      <td>19/05/2021</td>\n",
              "      <td>NaN</td>\n",
              "      <td>#REF!</td>\n",
              "      <td>AB</td>\n",
              "      <td>NaN</td>\n",
              "      <td>Tijuca</td>\n",
              "      <td>5</td>\n",
              "      <td>1</td>\n",
              "      <td>1</td>\n",
              "      <td>não</td>\n",
              "      <td>Bolsa familia</td>\n",
              "      <td>7</td>\n",
              "      <td>405,00</td>\n",
              "      <td>Rua Joaquim Pizarro, 18</td>\n",
              "      <td>NaN</td>\n",
              "      <td>NaN</td>\n",
              "      <td>NaN</td>\n",
              "      <td>20/05/2021</td>\n",
              "      <td>NaN</td>\n",
              "    </tr>\n",
              "  </tbody>\n",
              "</table>\n",
              "</div>"
            ],
            "text/plain": [
              "                             Nome  ... Observações_y\n",
              "2808                 ZILDA SOARES  ...           NaN\n",
              "2809          ZILMA DA SILVA MAIA  ...           NaN\n",
              "2810    ZULEICA SILVA DO JANUÁRIO  ...           NaN\n",
              "2811      LORREYNE FARIA DA SILVA  ...           NaN\n",
              "2812  RELAYNE DA CONCEIÇÃO DUARTE  ...           NaN\n",
              "\n",
              "[5 rows x 33 columns]"
            ]
          },
          "metadata": {},
          "execution_count": 110
        }
      ]
    },
    {
      "cell_type": "code",
      "metadata": {
        "id": "JMzMvho3HczS"
      },
      "source": [
        "combinado = geral_oficial.combine_first(geral_nao_oficial)"
      ],
      "execution_count": 111,
      "outputs": []
    },
    {
      "cell_type": "code",
      "metadata": {
        "colab": {
          "base_uri": "https://localhost:8080/"
        },
        "id": "DAXLcGzuKNe7",
        "outputId": "61e81a8e-9301-4d4d-ae58-3d827af2ea69"
      },
      "source": [
        "combinado.shape"
      ],
      "execution_count": 112,
      "outputs": [
        {
          "output_type": "execute_result",
          "data": {
            "text/plain": [
              "(1506, 21)"
            ]
          },
          "metadata": {},
          "execution_count": 112
        }
      ]
    },
    {
      "cell_type": "code",
      "metadata": {
        "colab": {
          "base_uri": "https://localhost:8080/",
          "height": 462
        },
        "id": "CpR2lLhGKSJE",
        "outputId": "d1f8effb-81e2-483a-c42e-27b749ce51ff"
      },
      "source": [
        "combinado.head()"
      ],
      "execution_count": 113,
      "outputs": [
        {
          "output_type": "execute_result",
          "data": {
            "text/html": [
              "<div>\n",
              "<style scoped>\n",
              "    .dataframe tbody tr th:only-of-type {\n",
              "        vertical-align: middle;\n",
              "    }\n",
              "\n",
              "    .dataframe tbody tr th {\n",
              "        vertical-align: top;\n",
              "    }\n",
              "\n",
              "    .dataframe thead th {\n",
              "        text-align: right;\n",
              "    }\n",
              "</style>\n",
              "<table border=\"1\" class=\"dataframe\">\n",
              "  <thead>\n",
              "    <tr style=\"text-align: right;\">\n",
              "      <th></th>\n",
              "      <th>Adultos</th>\n",
              "      <th>Bairro</th>\n",
              "      <th>CESTA 1</th>\n",
              "      <th>CESTA 2</th>\n",
              "      <th>CESTA 3</th>\n",
              "      <th>CPF</th>\n",
              "      <th>Crianças</th>\n",
              "      <th>Data de entrada</th>\n",
              "      <th>EV/AB/PRAÇA</th>\n",
              "      <th>Endereço</th>\n",
              "      <th>Idosos</th>\n",
              "      <th>Nome</th>\n",
              "      <th>Nº</th>\n",
              "      <th>Observações</th>\n",
              "      <th>Pedidos de Roupa/Remédio</th>\n",
              "      <th>Qtde de pessoas</th>\n",
              "      <th>Recebe Auxílio?</th>\n",
              "      <th>Renda mensal</th>\n",
              "      <th>Telefone</th>\n",
              "      <th>Trabalha</th>\n",
              "      <th>Última atualização</th>\n",
              "    </tr>\n",
              "  </thead>\n",
              "  <tbody>\n",
              "    <tr>\n",
              "      <th>0</th>\n",
              "      <td>1</td>\n",
              "      <td>Tanque</td>\n",
              "      <td>NaN</td>\n",
              "      <td>NaN</td>\n",
              "      <td>NaN</td>\n",
              "      <td>065.001.667-01</td>\n",
              "      <td>4</td>\n",
              "      <td>7/3/2020</td>\n",
              "      <td>Praça</td>\n",
              "      <td>Rua Almirante de Souza - Casa 322</td>\n",
              "      <td>2</td>\n",
              "      <td>Abdaline Jean Baptiste</td>\n",
              "      <td>1</td>\n",
              "      <td>NaN</td>\n",
              "      <td>Não</td>\n",
              "      <td>7</td>\n",
              "      <td>Não</td>\n",
              "      <td>1.100,00</td>\n",
              "      <td>98064-1512</td>\n",
              "      <td>Não</td>\n",
              "      <td>22/03/2021</td>\n",
              "    </tr>\n",
              "    <tr>\n",
              "      <th>1</th>\n",
              "      <td>3</td>\n",
              "      <td>Praça Seca</td>\n",
              "      <td>NaN</td>\n",
              "      <td>NaN</td>\n",
              "      <td>NaN</td>\n",
              "      <td>714.666.306-34</td>\n",
              "      <td>1</td>\n",
              "      <td>05/06/2020</td>\n",
              "      <td>NaN</td>\n",
              "      <td>NaN</td>\n",
              "      <td>NaN</td>\n",
              "      <td>Abigail Pereira Cabral</td>\n",
              "      <td>2</td>\n",
              "      <td>NaN</td>\n",
              "      <td>NaN</td>\n",
              "      <td>4</td>\n",
              "      <td>NaN</td>\n",
              "      <td>NaN</td>\n",
              "      <td>998039-7091 (tel errado)</td>\n",
              "      <td>não</td>\n",
              "      <td>03/07/2020</td>\n",
              "    </tr>\n",
              "    <tr>\n",
              "      <th>2</th>\n",
              "      <td>1</td>\n",
              "      <td>Vila Isabel</td>\n",
              "      <td>NaN</td>\n",
              "      <td>NaN</td>\n",
              "      <td>NaN</td>\n",
              "      <td>125.458.797-70</td>\n",
              "      <td>1</td>\n",
              "      <td>11/08/2020</td>\n",
              "      <td>AB</td>\n",
              "      <td>Rua Senador Nabuco, 411</td>\n",
              "      <td>1</td>\n",
              "      <td>Adélia Verônica Pinto da Silva</td>\n",
              "      <td>3</td>\n",
              "      <td>NaN</td>\n",
              "      <td>Sim</td>\n",
              "      <td>3</td>\n",
              "      <td>Não</td>\n",
              "      <td>0,00</td>\n",
              "      <td>99312-1634</td>\n",
              "      <td>Não</td>\n",
              "      <td>11/07/2020</td>\n",
              "    </tr>\n",
              "    <tr>\n",
              "      <th>3</th>\n",
              "      <td>2</td>\n",
              "      <td>Vila Isabel</td>\n",
              "      <td>NaN</td>\n",
              "      <td>NaN</td>\n",
              "      <td>NaN</td>\n",
              "      <td>011.833.607-03</td>\n",
              "      <td>2</td>\n",
              "      <td>29/05/2020</td>\n",
              "      <td>Praça</td>\n",
              "      <td>Rua Armando de Albuquerque, 33</td>\n",
              "      <td>0</td>\n",
              "      <td>Adelino da Silva Gomes</td>\n",
              "      <td>4</td>\n",
              "      <td>NaN</td>\n",
              "      <td>Sim</td>\n",
              "      <td>4</td>\n",
              "      <td>Não</td>\n",
              "      <td>0,00</td>\n",
              "      <td>(21) 98891-2516</td>\n",
              "      <td>Não</td>\n",
              "      <td>29/05/2020</td>\n",
              "    </tr>\n",
              "    <tr>\n",
              "      <th>4</th>\n",
              "      <td>NaN</td>\n",
              "      <td>Tijuca</td>\n",
              "      <td>NaN</td>\n",
              "      <td>NaN</td>\n",
              "      <td>NaN</td>\n",
              "      <td>606.569.647-15</td>\n",
              "      <td>NaN</td>\n",
              "      <td>25/07/2020</td>\n",
              "      <td>NaN</td>\n",
              "      <td>NaN</td>\n",
              "      <td>NaN</td>\n",
              "      <td>Aderaldo Araújo Simplício</td>\n",
              "      <td>5</td>\n",
              "      <td>NaN</td>\n",
              "      <td>NaN</td>\n",
              "      <td>0</td>\n",
              "      <td>NaN</td>\n",
              "      <td>NaN</td>\n",
              "      <td>99947-3523</td>\n",
              "      <td>NaN</td>\n",
              "      <td>08/08/2020</td>\n",
              "    </tr>\n",
              "  </tbody>\n",
              "</table>\n",
              "</div>"
            ],
            "text/plain": [
              "  Adultos       Bairro  ... Trabalha Última atualização\n",
              "0       1       Tanque  ...      Não         22/03/2021\n",
              "1       3   Praça Seca  ...      não         03/07/2020\n",
              "2       1  Vila Isabel  ...      Não         11/07/2020\n",
              "3       2  Vila Isabel  ...      Não         29/05/2020\n",
              "4     NaN       Tijuca  ...      NaN         08/08/2020\n",
              "\n",
              "[5 rows x 21 columns]"
            ]
          },
          "metadata": {},
          "execution_count": 113
        }
      ]
    },
    {
      "cell_type": "markdown",
      "metadata": {
        "id": "NG8oMtY7tt-1"
      },
      "source": [
        "### Reordenando as colunas"
      ]
    },
    {
      "cell_type": "code",
      "metadata": {
        "id": "jsx5Aco0tyvT",
        "colab": {
          "base_uri": "https://localhost:8080/"
        },
        "outputId": "bd90fe32-686e-45d2-8d48-f60b7291c378"
      },
      "source": [
        "cols = list(geral_oficial.columns.values)\n",
        "cols"
      ],
      "execution_count": 114,
      "outputs": [
        {
          "output_type": "execute_result",
          "data": {
            "text/plain": [
              "['Nº',\n",
              " 'Nome',\n",
              " 'EV/AB/PRAÇA',\n",
              " 'Pedidos de Roupa/Remédio',\n",
              " 'Bairro',\n",
              " 'Telefone',\n",
              " 'Crianças',\n",
              " 'Adultos',\n",
              " 'Idosos',\n",
              " 'Trabalha',\n",
              " 'Recebe Auxílio?',\n",
              " 'Qtde de pessoas',\n",
              " 'Renda mensal',\n",
              " 'Data de entrada',\n",
              " 'Endereço',\n",
              " 'CPF',\n",
              " 'CESTA 1',\n",
              " 'CESTA 2',\n",
              " 'CESTA 3',\n",
              " 'Última atualização',\n",
              " 'Observações']"
            ]
          },
          "metadata": {},
          "execution_count": 114
        }
      ]
    },
    {
      "cell_type": "code",
      "metadata": {
        "colab": {
          "base_uri": "https://localhost:8080/",
          "height": 864
        },
        "id": "ecsKuyHxKsEJ",
        "outputId": "94644bac-2059-4892-88c3-d48c4d00d836"
      },
      "source": [
        "combinado = combinado[cols]\n",
        "combinado"
      ],
      "execution_count": 115,
      "outputs": [
        {
          "output_type": "execute_result",
          "data": {
            "text/html": [
              "<div>\n",
              "<style scoped>\n",
              "    .dataframe tbody tr th:only-of-type {\n",
              "        vertical-align: middle;\n",
              "    }\n",
              "\n",
              "    .dataframe tbody tr th {\n",
              "        vertical-align: top;\n",
              "    }\n",
              "\n",
              "    .dataframe thead th {\n",
              "        text-align: right;\n",
              "    }\n",
              "</style>\n",
              "<table border=\"1\" class=\"dataframe\">\n",
              "  <thead>\n",
              "    <tr style=\"text-align: right;\">\n",
              "      <th></th>\n",
              "      <th>Nº</th>\n",
              "      <th>Nome</th>\n",
              "      <th>EV/AB/PRAÇA</th>\n",
              "      <th>Pedidos de Roupa/Remédio</th>\n",
              "      <th>Bairro</th>\n",
              "      <th>Telefone</th>\n",
              "      <th>Crianças</th>\n",
              "      <th>Adultos</th>\n",
              "      <th>Idosos</th>\n",
              "      <th>Trabalha</th>\n",
              "      <th>Recebe Auxílio?</th>\n",
              "      <th>Qtde de pessoas</th>\n",
              "      <th>Renda mensal</th>\n",
              "      <th>Data de entrada</th>\n",
              "      <th>Endereço</th>\n",
              "      <th>CPF</th>\n",
              "      <th>CESTA 1</th>\n",
              "      <th>CESTA 2</th>\n",
              "      <th>CESTA 3</th>\n",
              "      <th>Última atualização</th>\n",
              "      <th>Observações</th>\n",
              "    </tr>\n",
              "  </thead>\n",
              "  <tbody>\n",
              "    <tr>\n",
              "      <th>0</th>\n",
              "      <td>1</td>\n",
              "      <td>Abdaline Jean Baptiste</td>\n",
              "      <td>Praça</td>\n",
              "      <td>Não</td>\n",
              "      <td>Tanque</td>\n",
              "      <td>98064-1512</td>\n",
              "      <td>4</td>\n",
              "      <td>1</td>\n",
              "      <td>2</td>\n",
              "      <td>Não</td>\n",
              "      <td>Não</td>\n",
              "      <td>7</td>\n",
              "      <td>1.100,00</td>\n",
              "      <td>7/3/2020</td>\n",
              "      <td>Rua Almirante de Souza - Casa 322</td>\n",
              "      <td>065.001.667-01</td>\n",
              "      <td>NaN</td>\n",
              "      <td>NaN</td>\n",
              "      <td>NaN</td>\n",
              "      <td>22/03/2021</td>\n",
              "      <td>NaN</td>\n",
              "    </tr>\n",
              "    <tr>\n",
              "      <th>1</th>\n",
              "      <td>2</td>\n",
              "      <td>Abigail Pereira Cabral</td>\n",
              "      <td>NaN</td>\n",
              "      <td>NaN</td>\n",
              "      <td>Praça Seca</td>\n",
              "      <td>998039-7091 (tel errado)</td>\n",
              "      <td>1</td>\n",
              "      <td>3</td>\n",
              "      <td>NaN</td>\n",
              "      <td>não</td>\n",
              "      <td>NaN</td>\n",
              "      <td>4</td>\n",
              "      <td>NaN</td>\n",
              "      <td>05/06/2020</td>\n",
              "      <td>NaN</td>\n",
              "      <td>714.666.306-34</td>\n",
              "      <td>NaN</td>\n",
              "      <td>NaN</td>\n",
              "      <td>NaN</td>\n",
              "      <td>03/07/2020</td>\n",
              "      <td>NaN</td>\n",
              "    </tr>\n",
              "    <tr>\n",
              "      <th>2</th>\n",
              "      <td>3</td>\n",
              "      <td>Adélia Verônica Pinto da Silva</td>\n",
              "      <td>AB</td>\n",
              "      <td>Sim</td>\n",
              "      <td>Vila Isabel</td>\n",
              "      <td>99312-1634</td>\n",
              "      <td>1</td>\n",
              "      <td>1</td>\n",
              "      <td>1</td>\n",
              "      <td>Não</td>\n",
              "      <td>Não</td>\n",
              "      <td>3</td>\n",
              "      <td>0,00</td>\n",
              "      <td>11/08/2020</td>\n",
              "      <td>Rua Senador Nabuco, 411</td>\n",
              "      <td>125.458.797-70</td>\n",
              "      <td>NaN</td>\n",
              "      <td>NaN</td>\n",
              "      <td>NaN</td>\n",
              "      <td>11/07/2020</td>\n",
              "      <td>NaN</td>\n",
              "    </tr>\n",
              "    <tr>\n",
              "      <th>3</th>\n",
              "      <td>4</td>\n",
              "      <td>Adelino da Silva Gomes</td>\n",
              "      <td>Praça</td>\n",
              "      <td>Sim</td>\n",
              "      <td>Vila Isabel</td>\n",
              "      <td>(21) 98891-2516</td>\n",
              "      <td>2</td>\n",
              "      <td>2</td>\n",
              "      <td>0</td>\n",
              "      <td>Não</td>\n",
              "      <td>Não</td>\n",
              "      <td>4</td>\n",
              "      <td>0,00</td>\n",
              "      <td>29/05/2020</td>\n",
              "      <td>Rua Armando de Albuquerque, 33</td>\n",
              "      <td>011.833.607-03</td>\n",
              "      <td>NaN</td>\n",
              "      <td>NaN</td>\n",
              "      <td>NaN</td>\n",
              "      <td>29/05/2020</td>\n",
              "      <td>NaN</td>\n",
              "    </tr>\n",
              "    <tr>\n",
              "      <th>4</th>\n",
              "      <td>5</td>\n",
              "      <td>Aderaldo Araújo Simplício</td>\n",
              "      <td>NaN</td>\n",
              "      <td>NaN</td>\n",
              "      <td>Tijuca</td>\n",
              "      <td>99947-3523</td>\n",
              "      <td>NaN</td>\n",
              "      <td>NaN</td>\n",
              "      <td>NaN</td>\n",
              "      <td>NaN</td>\n",
              "      <td>NaN</td>\n",
              "      <td>0</td>\n",
              "      <td>NaN</td>\n",
              "      <td>25/07/2020</td>\n",
              "      <td>NaN</td>\n",
              "      <td>606.569.647-15</td>\n",
              "      <td>NaN</td>\n",
              "      <td>NaN</td>\n",
              "      <td>NaN</td>\n",
              "      <td>08/08/2020</td>\n",
              "      <td>NaN</td>\n",
              "    </tr>\n",
              "    <tr>\n",
              "      <th>...</th>\n",
              "      <td>...</td>\n",
              "      <td>...</td>\n",
              "      <td>...</td>\n",
              "      <td>...</td>\n",
              "      <td>...</td>\n",
              "      <td>...</td>\n",
              "      <td>...</td>\n",
              "      <td>...</td>\n",
              "      <td>...</td>\n",
              "      <td>...</td>\n",
              "      <td>...</td>\n",
              "      <td>...</td>\n",
              "      <td>...</td>\n",
              "      <td>...</td>\n",
              "      <td>...</td>\n",
              "      <td>...</td>\n",
              "      <td>...</td>\n",
              "      <td>...</td>\n",
              "      <td>...</td>\n",
              "      <td>...</td>\n",
              "      <td>...</td>\n",
              "    </tr>\n",
              "    <tr>\n",
              "      <th>1501</th>\n",
              "      <td>1502</td>\n",
              "      <td>ZILDA SOARES</td>\n",
              "      <td>NaN</td>\n",
              "      <td>NaN</td>\n",
              "      <td>Praça Seca</td>\n",
              "      <td>99551-2776</td>\n",
              "      <td>2</td>\n",
              "      <td>2</td>\n",
              "      <td>NaN</td>\n",
              "      <td>NaN</td>\n",
              "      <td>NaN</td>\n",
              "      <td>4</td>\n",
              "      <td>NaN</td>\n",
              "      <td>NaN</td>\n",
              "      <td>NaN</td>\n",
              "      <td>NaN</td>\n",
              "      <td>NaN</td>\n",
              "      <td>NaN</td>\n",
              "      <td>NaN</td>\n",
              "      <td>08/05/2020</td>\n",
              "      <td>NaN</td>\n",
              "    </tr>\n",
              "    <tr>\n",
              "      <th>1502</th>\n",
              "      <td>1503</td>\n",
              "      <td>ZILMA DA SILVA MAIA</td>\n",
              "      <td>NaN</td>\n",
              "      <td>NaN</td>\n",
              "      <td>Praça Seca</td>\n",
              "      <td>99428-8934/97397-3521 (vizinha)</td>\n",
              "      <td>NaN</td>\n",
              "      <td>2</td>\n",
              "      <td>NaN</td>\n",
              "      <td>NaN</td>\n",
              "      <td>NaN</td>\n",
              "      <td>2</td>\n",
              "      <td>NaN</td>\n",
              "      <td>NaN</td>\n",
              "      <td>NaN</td>\n",
              "      <td>NaN</td>\n",
              "      <td>NaN</td>\n",
              "      <td>NaN</td>\n",
              "      <td>NaN</td>\n",
              "      <td>08/05/2020</td>\n",
              "      <td>NaN</td>\n",
              "    </tr>\n",
              "    <tr>\n",
              "      <th>1503</th>\n",
              "      <td>1504</td>\n",
              "      <td>ZULEICA SILVA DO JANUÁRIO</td>\n",
              "      <td>NaN</td>\n",
              "      <td>NaN</td>\n",
              "      <td>NaN</td>\n",
              "      <td>99193-5560</td>\n",
              "      <td>NaN</td>\n",
              "      <td>NaN</td>\n",
              "      <td>NaN</td>\n",
              "      <td>NaN</td>\n",
              "      <td>NaN</td>\n",
              "      <td>0</td>\n",
              "      <td>NaN</td>\n",
              "      <td>NaN</td>\n",
              "      <td>NaN</td>\n",
              "      <td>NaN</td>\n",
              "      <td>NaN</td>\n",
              "      <td>NaN</td>\n",
              "      <td>NaN</td>\n",
              "      <td>22/05/2020</td>\n",
              "      <td>NaN</td>\n",
              "    </tr>\n",
              "    <tr>\n",
              "      <th>1504</th>\n",
              "      <td>1505</td>\n",
              "      <td>LORREYNE FARIA DA SILVA</td>\n",
              "      <td>AB</td>\n",
              "      <td>NaN</td>\n",
              "      <td>Tijuca</td>\n",
              "      <td>97448-5093</td>\n",
              "      <td>2</td>\n",
              "      <td>2</td>\n",
              "      <td>0</td>\n",
              "      <td>não</td>\n",
              "      <td>não</td>\n",
              "      <td>4</td>\n",
              "      <td>375,00</td>\n",
              "      <td>19/05/2021</td>\n",
              "      <td>Rua Dona Sinha, 1 - casa 8</td>\n",
              "      <td>163.294.047-71</td>\n",
              "      <td>NaN</td>\n",
              "      <td>NaN</td>\n",
              "      <td>NaN</td>\n",
              "      <td>20/05/2021</td>\n",
              "      <td>NaN</td>\n",
              "    </tr>\n",
              "    <tr>\n",
              "      <th>1505</th>\n",
              "      <td>#REF!</td>\n",
              "      <td>RELAYNE DA CONCEIÇÃO DUARTE</td>\n",
              "      <td>AB</td>\n",
              "      <td>NaN</td>\n",
              "      <td>Tijuca</td>\n",
              "      <td>96657-5110</td>\n",
              "      <td>5</td>\n",
              "      <td>1</td>\n",
              "      <td>1</td>\n",
              "      <td>não</td>\n",
              "      <td>Bolsa familia</td>\n",
              "      <td>7</td>\n",
              "      <td>405,00</td>\n",
              "      <td>19/05/2021</td>\n",
              "      <td>Rua Joaquim Pizarro, 18</td>\n",
              "      <td>NaN</td>\n",
              "      <td>NaN</td>\n",
              "      <td>NaN</td>\n",
              "      <td>NaN</td>\n",
              "      <td>20/05/2021</td>\n",
              "      <td>NaN</td>\n",
              "    </tr>\n",
              "  </tbody>\n",
              "</table>\n",
              "<p>1506 rows × 21 columns</p>\n",
              "</div>"
            ],
            "text/plain": [
              "         Nº                            Nome  ... Última atualização Observações\n",
              "0         1          Abdaline Jean Baptiste  ...         22/03/2021         NaN\n",
              "1         2          Abigail Pereira Cabral  ...         03/07/2020         NaN\n",
              "2         3  Adélia Verônica Pinto da Silva  ...         11/07/2020         NaN\n",
              "3         4          Adelino da Silva Gomes  ...         29/05/2020         NaN\n",
              "4         5       Aderaldo Araújo Simplício  ...         08/08/2020         NaN\n",
              "...     ...                             ...  ...                ...         ...\n",
              "1501   1502                    ZILDA SOARES  ...         08/05/2020         NaN\n",
              "1502   1503             ZILMA DA SILVA MAIA  ...         08/05/2020         NaN\n",
              "1503   1504       ZULEICA SILVA DO JANUÁRIO  ...         22/05/2020         NaN\n",
              "1504   1505         LORREYNE FARIA DA SILVA  ...         20/05/2021         NaN\n",
              "1505  #REF!     RELAYNE DA CONCEIÇÃO DUARTE  ...         20/05/2021         NaN\n",
              "\n",
              "[1506 rows x 21 columns]"
            ]
          },
          "metadata": {},
          "execution_count": 115
        }
      ]
    },
    {
      "cell_type": "markdown",
      "metadata": {
        "id": "0mfschfyMKFW"
      },
      "source": [
        "### Atualizando a lista combinada"
      ]
    },
    {
      "cell_type": "code",
      "metadata": {
        "id": "2k1rR9wILzxc"
      },
      "source": [
        "# Essa função passa os dados para checagem\n",
        "def checa(data_frame):\n",
        "\n",
        "  for i in range(data_frame.shape[0]):\n",
        "\n",
        "    if data_frame[\"EV/AB/PRAÇA\"][i] in [\"Praça\", \"praça\", \"Praca\", \"praca\", \"PRAÇA\", \"PRACA\"]:\n",
        "      # Se a pessoa é da Praça checa o valor na coluna Cesta a\n",
        "\n",
        "      try:\n",
        "        if math.isnan(data_frame[\"CESTA 1\"][i]):\n",
        "          # Se a Cesta 1 for NaN \n",
        "\n",
        "          try:\n",
        "            if math.isnan(data_frame[\"Data de entrada\"][i]):\n",
        "              # Checa se a data de entrada é nula\n",
        "              continue\n",
        "\n",
        "          except TypeError:\n",
        "            data_frame[\"CESTA 1\"][i] = data_frame[\"Data de entrada\"][i]\n",
        "\n",
        "      except TypeError:\n",
        "        continue\n",
        "\n",
        "  return data_frame\n"
      ],
      "execution_count": 116,
      "outputs": []
    },
    {
      "cell_type": "code",
      "metadata": {
        "id": "F6dYzyFpPEMl",
        "colab": {
          "base_uri": "https://localhost:8080/"
        },
        "outputId": "a562d462-2cc2-4347-afbc-971b460eca14"
      },
      "source": [
        "geral_oficial = checa(combinado)"
      ],
      "execution_count": 117,
      "outputs": [
        {
          "output_type": "stream",
          "name": "stderr",
          "text": [
            "/usr/local/lib/python3.7/dist-packages/ipykernel_launcher.py:19: SettingWithCopyWarning: \n",
            "A value is trying to be set on a copy of a slice from a DataFrame\n",
            "\n",
            "See the caveats in the documentation: https://pandas.pydata.org/pandas-docs/stable/user_guide/indexing.html#returning-a-view-versus-a-copy\n"
          ]
        }
      ]
    },
    {
      "cell_type": "code",
      "metadata": {
        "colab": {
          "base_uri": "https://localhost:8080/",
          "height": 864
        },
        "id": "iS4SVp0kPMRS",
        "outputId": "fe3e3db5-4afd-4a0e-f9cb-276c5fe567d8"
      },
      "source": [
        "geral_oficial"
      ],
      "execution_count": 118,
      "outputs": [
        {
          "output_type": "execute_result",
          "data": {
            "text/html": [
              "<div>\n",
              "<style scoped>\n",
              "    .dataframe tbody tr th:only-of-type {\n",
              "        vertical-align: middle;\n",
              "    }\n",
              "\n",
              "    .dataframe tbody tr th {\n",
              "        vertical-align: top;\n",
              "    }\n",
              "\n",
              "    .dataframe thead th {\n",
              "        text-align: right;\n",
              "    }\n",
              "</style>\n",
              "<table border=\"1\" class=\"dataframe\">\n",
              "  <thead>\n",
              "    <tr style=\"text-align: right;\">\n",
              "      <th></th>\n",
              "      <th>Nº</th>\n",
              "      <th>Nome</th>\n",
              "      <th>EV/AB/PRAÇA</th>\n",
              "      <th>Pedidos de Roupa/Remédio</th>\n",
              "      <th>Bairro</th>\n",
              "      <th>Telefone</th>\n",
              "      <th>Crianças</th>\n",
              "      <th>Adultos</th>\n",
              "      <th>Idosos</th>\n",
              "      <th>Trabalha</th>\n",
              "      <th>Recebe Auxílio?</th>\n",
              "      <th>Qtde de pessoas</th>\n",
              "      <th>Renda mensal</th>\n",
              "      <th>Data de entrada</th>\n",
              "      <th>Endereço</th>\n",
              "      <th>CPF</th>\n",
              "      <th>CESTA 1</th>\n",
              "      <th>CESTA 2</th>\n",
              "      <th>CESTA 3</th>\n",
              "      <th>Última atualização</th>\n",
              "      <th>Observações</th>\n",
              "    </tr>\n",
              "  </thead>\n",
              "  <tbody>\n",
              "    <tr>\n",
              "      <th>0</th>\n",
              "      <td>1</td>\n",
              "      <td>Abdaline Jean Baptiste</td>\n",
              "      <td>Praça</td>\n",
              "      <td>Não</td>\n",
              "      <td>Tanque</td>\n",
              "      <td>98064-1512</td>\n",
              "      <td>4</td>\n",
              "      <td>1</td>\n",
              "      <td>2</td>\n",
              "      <td>Não</td>\n",
              "      <td>Não</td>\n",
              "      <td>7</td>\n",
              "      <td>1.100,00</td>\n",
              "      <td>7/3/2020</td>\n",
              "      <td>Rua Almirante de Souza - Casa 322</td>\n",
              "      <td>065.001.667-01</td>\n",
              "      <td>7/3/2020</td>\n",
              "      <td>NaN</td>\n",
              "      <td>NaN</td>\n",
              "      <td>22/03/2021</td>\n",
              "      <td>NaN</td>\n",
              "    </tr>\n",
              "    <tr>\n",
              "      <th>1</th>\n",
              "      <td>2</td>\n",
              "      <td>Abigail Pereira Cabral</td>\n",
              "      <td>NaN</td>\n",
              "      <td>NaN</td>\n",
              "      <td>Praça Seca</td>\n",
              "      <td>998039-7091 (tel errado)</td>\n",
              "      <td>1</td>\n",
              "      <td>3</td>\n",
              "      <td>NaN</td>\n",
              "      <td>não</td>\n",
              "      <td>NaN</td>\n",
              "      <td>4</td>\n",
              "      <td>NaN</td>\n",
              "      <td>05/06/2020</td>\n",
              "      <td>NaN</td>\n",
              "      <td>714.666.306-34</td>\n",
              "      <td>NaN</td>\n",
              "      <td>NaN</td>\n",
              "      <td>NaN</td>\n",
              "      <td>03/07/2020</td>\n",
              "      <td>NaN</td>\n",
              "    </tr>\n",
              "    <tr>\n",
              "      <th>2</th>\n",
              "      <td>3</td>\n",
              "      <td>Adélia Verônica Pinto da Silva</td>\n",
              "      <td>AB</td>\n",
              "      <td>Sim</td>\n",
              "      <td>Vila Isabel</td>\n",
              "      <td>99312-1634</td>\n",
              "      <td>1</td>\n",
              "      <td>1</td>\n",
              "      <td>1</td>\n",
              "      <td>Não</td>\n",
              "      <td>Não</td>\n",
              "      <td>3</td>\n",
              "      <td>0,00</td>\n",
              "      <td>11/08/2020</td>\n",
              "      <td>Rua Senador Nabuco, 411</td>\n",
              "      <td>125.458.797-70</td>\n",
              "      <td>NaN</td>\n",
              "      <td>NaN</td>\n",
              "      <td>NaN</td>\n",
              "      <td>11/07/2020</td>\n",
              "      <td>NaN</td>\n",
              "    </tr>\n",
              "    <tr>\n",
              "      <th>3</th>\n",
              "      <td>4</td>\n",
              "      <td>Adelino da Silva Gomes</td>\n",
              "      <td>Praça</td>\n",
              "      <td>Sim</td>\n",
              "      <td>Vila Isabel</td>\n",
              "      <td>(21) 98891-2516</td>\n",
              "      <td>2</td>\n",
              "      <td>2</td>\n",
              "      <td>0</td>\n",
              "      <td>Não</td>\n",
              "      <td>Não</td>\n",
              "      <td>4</td>\n",
              "      <td>0,00</td>\n",
              "      <td>29/05/2020</td>\n",
              "      <td>Rua Armando de Albuquerque, 33</td>\n",
              "      <td>011.833.607-03</td>\n",
              "      <td>29/05/2020</td>\n",
              "      <td>NaN</td>\n",
              "      <td>NaN</td>\n",
              "      <td>29/05/2020</td>\n",
              "      <td>NaN</td>\n",
              "    </tr>\n",
              "    <tr>\n",
              "      <th>4</th>\n",
              "      <td>5</td>\n",
              "      <td>Aderaldo Araújo Simplício</td>\n",
              "      <td>NaN</td>\n",
              "      <td>NaN</td>\n",
              "      <td>Tijuca</td>\n",
              "      <td>99947-3523</td>\n",
              "      <td>NaN</td>\n",
              "      <td>NaN</td>\n",
              "      <td>NaN</td>\n",
              "      <td>NaN</td>\n",
              "      <td>NaN</td>\n",
              "      <td>0</td>\n",
              "      <td>NaN</td>\n",
              "      <td>25/07/2020</td>\n",
              "      <td>NaN</td>\n",
              "      <td>606.569.647-15</td>\n",
              "      <td>NaN</td>\n",
              "      <td>NaN</td>\n",
              "      <td>NaN</td>\n",
              "      <td>08/08/2020</td>\n",
              "      <td>NaN</td>\n",
              "    </tr>\n",
              "    <tr>\n",
              "      <th>...</th>\n",
              "      <td>...</td>\n",
              "      <td>...</td>\n",
              "      <td>...</td>\n",
              "      <td>...</td>\n",
              "      <td>...</td>\n",
              "      <td>...</td>\n",
              "      <td>...</td>\n",
              "      <td>...</td>\n",
              "      <td>...</td>\n",
              "      <td>...</td>\n",
              "      <td>...</td>\n",
              "      <td>...</td>\n",
              "      <td>...</td>\n",
              "      <td>...</td>\n",
              "      <td>...</td>\n",
              "      <td>...</td>\n",
              "      <td>...</td>\n",
              "      <td>...</td>\n",
              "      <td>...</td>\n",
              "      <td>...</td>\n",
              "      <td>...</td>\n",
              "    </tr>\n",
              "    <tr>\n",
              "      <th>1501</th>\n",
              "      <td>1502</td>\n",
              "      <td>ZILDA SOARES</td>\n",
              "      <td>NaN</td>\n",
              "      <td>NaN</td>\n",
              "      <td>Praça Seca</td>\n",
              "      <td>99551-2776</td>\n",
              "      <td>2</td>\n",
              "      <td>2</td>\n",
              "      <td>NaN</td>\n",
              "      <td>NaN</td>\n",
              "      <td>NaN</td>\n",
              "      <td>4</td>\n",
              "      <td>NaN</td>\n",
              "      <td>NaN</td>\n",
              "      <td>NaN</td>\n",
              "      <td>NaN</td>\n",
              "      <td>NaN</td>\n",
              "      <td>NaN</td>\n",
              "      <td>NaN</td>\n",
              "      <td>08/05/2020</td>\n",
              "      <td>NaN</td>\n",
              "    </tr>\n",
              "    <tr>\n",
              "      <th>1502</th>\n",
              "      <td>1503</td>\n",
              "      <td>ZILMA DA SILVA MAIA</td>\n",
              "      <td>NaN</td>\n",
              "      <td>NaN</td>\n",
              "      <td>Praça Seca</td>\n",
              "      <td>99428-8934/97397-3521 (vizinha)</td>\n",
              "      <td>NaN</td>\n",
              "      <td>2</td>\n",
              "      <td>NaN</td>\n",
              "      <td>NaN</td>\n",
              "      <td>NaN</td>\n",
              "      <td>2</td>\n",
              "      <td>NaN</td>\n",
              "      <td>NaN</td>\n",
              "      <td>NaN</td>\n",
              "      <td>NaN</td>\n",
              "      <td>NaN</td>\n",
              "      <td>NaN</td>\n",
              "      <td>NaN</td>\n",
              "      <td>08/05/2020</td>\n",
              "      <td>NaN</td>\n",
              "    </tr>\n",
              "    <tr>\n",
              "      <th>1503</th>\n",
              "      <td>1504</td>\n",
              "      <td>ZULEICA SILVA DO JANUÁRIO</td>\n",
              "      <td>NaN</td>\n",
              "      <td>NaN</td>\n",
              "      <td>NaN</td>\n",
              "      <td>99193-5560</td>\n",
              "      <td>NaN</td>\n",
              "      <td>NaN</td>\n",
              "      <td>NaN</td>\n",
              "      <td>NaN</td>\n",
              "      <td>NaN</td>\n",
              "      <td>0</td>\n",
              "      <td>NaN</td>\n",
              "      <td>NaN</td>\n",
              "      <td>NaN</td>\n",
              "      <td>NaN</td>\n",
              "      <td>NaN</td>\n",
              "      <td>NaN</td>\n",
              "      <td>NaN</td>\n",
              "      <td>22/05/2020</td>\n",
              "      <td>NaN</td>\n",
              "    </tr>\n",
              "    <tr>\n",
              "      <th>1504</th>\n",
              "      <td>1505</td>\n",
              "      <td>LORREYNE FARIA DA SILVA</td>\n",
              "      <td>AB</td>\n",
              "      <td>NaN</td>\n",
              "      <td>Tijuca</td>\n",
              "      <td>97448-5093</td>\n",
              "      <td>2</td>\n",
              "      <td>2</td>\n",
              "      <td>0</td>\n",
              "      <td>não</td>\n",
              "      <td>não</td>\n",
              "      <td>4</td>\n",
              "      <td>375,00</td>\n",
              "      <td>19/05/2021</td>\n",
              "      <td>Rua Dona Sinha, 1 - casa 8</td>\n",
              "      <td>163.294.047-71</td>\n",
              "      <td>NaN</td>\n",
              "      <td>NaN</td>\n",
              "      <td>NaN</td>\n",
              "      <td>20/05/2021</td>\n",
              "      <td>NaN</td>\n",
              "    </tr>\n",
              "    <tr>\n",
              "      <th>1505</th>\n",
              "      <td>#REF!</td>\n",
              "      <td>RELAYNE DA CONCEIÇÃO DUARTE</td>\n",
              "      <td>AB</td>\n",
              "      <td>NaN</td>\n",
              "      <td>Tijuca</td>\n",
              "      <td>96657-5110</td>\n",
              "      <td>5</td>\n",
              "      <td>1</td>\n",
              "      <td>1</td>\n",
              "      <td>não</td>\n",
              "      <td>Bolsa familia</td>\n",
              "      <td>7</td>\n",
              "      <td>405,00</td>\n",
              "      <td>19/05/2021</td>\n",
              "      <td>Rua Joaquim Pizarro, 18</td>\n",
              "      <td>NaN</td>\n",
              "      <td>NaN</td>\n",
              "      <td>NaN</td>\n",
              "      <td>NaN</td>\n",
              "      <td>20/05/2021</td>\n",
              "      <td>NaN</td>\n",
              "    </tr>\n",
              "  </tbody>\n",
              "</table>\n",
              "<p>1506 rows × 21 columns</p>\n",
              "</div>"
            ],
            "text/plain": [
              "         Nº                            Nome  ... Última atualização Observações\n",
              "0         1          Abdaline Jean Baptiste  ...         22/03/2021         NaN\n",
              "1         2          Abigail Pereira Cabral  ...         03/07/2020         NaN\n",
              "2         3  Adélia Verônica Pinto da Silva  ...         11/07/2020         NaN\n",
              "3         4          Adelino da Silva Gomes  ...         29/05/2020         NaN\n",
              "4         5       Aderaldo Araújo Simplício  ...         08/08/2020         NaN\n",
              "...     ...                             ...  ...                ...         ...\n",
              "1501   1502                    ZILDA SOARES  ...         08/05/2020         NaN\n",
              "1502   1503             ZILMA DA SILVA MAIA  ...         08/05/2020         NaN\n",
              "1503   1504       ZULEICA SILVA DO JANUÁRIO  ...         22/05/2020         NaN\n",
              "1504   1505         LORREYNE FARIA DA SILVA  ...         20/05/2021         NaN\n",
              "1505  #REF!     RELAYNE DA CONCEIÇÃO DUARTE  ...         20/05/2021         NaN\n",
              "\n",
              "[1506 rows x 21 columns]"
            ]
          },
          "metadata": {},
          "execution_count": 118
        }
      ]
    },
    {
      "cell_type": "markdown",
      "metadata": {
        "id": "0s9zjx1z14j1"
      },
      "source": [
        "# Comparando a planilha atual (26/08/2021) com a feita em 05/2021"
      ]
    },
    {
      "cell_type": "markdown",
      "metadata": {
        "id": "fwzx6Q6i2GQ3"
      },
      "source": [
        "Devido a algumas incongruências nos dados, foi necessário checar se houve algum erro na combinação das duas planilhas usadas anteriormente. Veremos se a mesma pessoa cadastrada tem os dados compativeis nas duas planilhas"
      ]
    },
    {
      "cell_type": "code",
      "metadata": {
        "colab": {
          "base_uri": "https://localhost:8080/"
        },
        "id": "QqZgl8ZZ2yxp",
        "outputId": "8aa110ce-74c4-4df6-cfb9-0c64b7601f64"
      },
      "source": [
        "colunas = geral_maio.columns.values\n",
        "colunas"
      ],
      "execution_count": 134,
      "outputs": [
        {
          "output_type": "execute_result",
          "data": {
            "text/plain": [
              "array(['Nº', 'Nome', 'EV/AB/PRAÇA', 'Pedidos de Roupa/Remédio', 'Bairro',\n",
              "       'Telefone', 'Crianças', 'Adultos', 'Idosos', 'Trabalha',\n",
              "       'Recebe Auxílio?', 'Qtde de pessoas', 'Renda mensal',\n",
              "       'Data de entrada', 'Endereço', 'CPF', 'CESTA 1', 'CESTA 2',\n",
              "       'CESTA 3', 'Última atualização', 'Observações'], dtype=object)"
            ]
          },
          "metadata": {},
          "execution_count": 134
        }
      ]
    },
    {
      "cell_type": "code",
      "metadata": {
        "id": "uA6zxwlN2OAY"
      },
      "source": [
        "def encontra_index(tabela):\n",
        "\n",
        "  index = []\n",
        "\n",
        "  for i in range(tabela.shape[0]):\n",
        "\n",
        "    tempo = tabela['Última atualização'][i]\n",
        "    if (pd.isnull(tempo)): continue\n",
        "\n",
        "    if (tempo.month >= 5) and (tempo.year == 2021):\n",
        "\n",
        "      if (tempo.month == 5) and (tempo.day < 22):\n",
        "        continue\n",
        "      else:\n",
        "        index.append(i) \n",
        "  \n",
        "  return index"
      ],
      "execution_count": 69,
      "outputs": []
    },
    {
      "cell_type": "code",
      "metadata": {
        "id": "BqxCz6wB5sI-"
      },
      "source": [
        "def dados_atualizados(tabela):\n",
        "\n",
        "  index = encontra_index(tabela)\n",
        "\n",
        "  atualizados = pd.DataFrame()\n",
        "\n",
        "  for i in index:\n",
        "\n",
        "    atualizados = atualizados.append([tabela.iloc[i, :]])\n",
        "\n",
        "  return atualizados   "
      ],
      "execution_count": 145,
      "outputs": []
    },
    {
      "cell_type": "code",
      "metadata": {
        "colab": {
          "base_uri": "https://localhost:8080/"
        },
        "id": "eX_-DBhy61WW",
        "outputId": "1cba6b1b-90e5-4178-be86-7b331552c9f6"
      },
      "source": [
        "Atualizados = dados_atualizados(geral_maio)\n",
        "\n",
        "Atualizados.shape"
      ],
      "execution_count": 188,
      "outputs": [
        {
          "output_type": "execute_result",
          "data": {
            "text/plain": [
              "(222, 21)"
            ]
          },
          "metadata": {},
          "execution_count": 188
        }
      ]
    },
    {
      "cell_type": "code",
      "metadata": {
        "colab": {
          "base_uri": "https://localhost:8080/",
          "height": 445
        },
        "id": "W4nfTS2urhf0",
        "outputId": "a2832de4-fbaa-433a-d038-88c1cdf47bee"
      },
      "source": [
        "Atualizados.head()"
      ],
      "execution_count": 196,
      "outputs": [
        {
          "output_type": "execute_result",
          "data": {
            "text/html": [
              "<div>\n",
              "<style scoped>\n",
              "    .dataframe tbody tr th:only-of-type {\n",
              "        vertical-align: middle;\n",
              "    }\n",
              "\n",
              "    .dataframe tbody tr th {\n",
              "        vertical-align: top;\n",
              "    }\n",
              "\n",
              "    .dataframe thead th {\n",
              "        text-align: right;\n",
              "    }\n",
              "</style>\n",
              "<table border=\"1\" class=\"dataframe\">\n",
              "  <thead>\n",
              "    <tr style=\"text-align: right;\">\n",
              "      <th></th>\n",
              "      <th>Nº</th>\n",
              "      <th>Nome</th>\n",
              "      <th>EV/AB/PRAÇA</th>\n",
              "      <th>Pedidos de Roupa/Remédio</th>\n",
              "      <th>Bairro</th>\n",
              "      <th>Telefone</th>\n",
              "      <th>Crianças</th>\n",
              "      <th>Adultos</th>\n",
              "      <th>Idosos</th>\n",
              "      <th>Trabalha</th>\n",
              "      <th>Recebe Auxílio?</th>\n",
              "      <th>Qtde de pessoas</th>\n",
              "      <th>Renda mensal</th>\n",
              "      <th>Data de entrada</th>\n",
              "      <th>Endereço</th>\n",
              "      <th>CPF</th>\n",
              "      <th>CESTA 1</th>\n",
              "      <th>CESTA 2</th>\n",
              "      <th>CESTA 3</th>\n",
              "      <th>Última atualização</th>\n",
              "      <th>Observações</th>\n",
              "    </tr>\n",
              "  </thead>\n",
              "  <tbody>\n",
              "    <tr>\n",
              "      <th>10</th>\n",
              "      <td>11</td>\n",
              "      <td>Adriana da Silva dos Santos</td>\n",
              "      <td>Praça</td>\n",
              "      <td>NaN</td>\n",
              "      <td>NaN</td>\n",
              "      <td>99907-8115</td>\n",
              "      <td>?</td>\n",
              "      <td>?</td>\n",
              "      <td>?</td>\n",
              "      <td>?</td>\n",
              "      <td>?</td>\n",
              "      <td>?</td>\n",
              "      <td>?</td>\n",
              "      <td>2021-05-08 00:00:00</td>\n",
              "      <td>NaN</td>\n",
              "      <td>121.829.767-01</td>\n",
              "      <td>2021-05-08</td>\n",
              "      <td>NaT</td>\n",
              "      <td>NaT</td>\n",
              "      <td>2021-05-27</td>\n",
              "      <td>NaN</td>\n",
              "    </tr>\n",
              "    <tr>\n",
              "      <th>38</th>\n",
              "      <td>39</td>\n",
              "      <td>Alessandra Ferreira Benedito</td>\n",
              "      <td>Praça</td>\n",
              "      <td>NaN</td>\n",
              "      <td>Mangueira</td>\n",
              "      <td>98157-9255 / 98231-9162</td>\n",
              "      <td>3</td>\n",
              "      <td>2</td>\n",
              "      <td>0</td>\n",
              "      <td>Vende Doce</td>\n",
              "      <td>Bolsa Família</td>\n",
              "      <td>5</td>\n",
              "      <td>89</td>\n",
              "      <td>2021-05-26 00:00:00</td>\n",
              "      <td>Rua Visconde de Niterói, 650 - casa 35</td>\n",
              "      <td>061.579.017-80</td>\n",
              "      <td>2021-08-14</td>\n",
              "      <td>NaT</td>\n",
              "      <td>NaT</td>\n",
              "      <td>2021-08-27</td>\n",
              "      <td>NaN</td>\n",
              "    </tr>\n",
              "    <tr>\n",
              "      <th>44</th>\n",
              "      <td>45</td>\n",
              "      <td>Alex Santos de Oliveira</td>\n",
              "      <td>Praça</td>\n",
              "      <td>NaN</td>\n",
              "      <td>Tijuca</td>\n",
              "      <td>982338343</td>\n",
              "      <td>?</td>\n",
              "      <td>?</td>\n",
              "      <td>?</td>\n",
              "      <td>?</td>\n",
              "      <td>?</td>\n",
              "      <td>?</td>\n",
              "      <td>?</td>\n",
              "      <td>2021-05-08 00:00:00</td>\n",
              "      <td>NaN</td>\n",
              "      <td>099.154.227-41</td>\n",
              "      <td>2021-05-08</td>\n",
              "      <td>NaT</td>\n",
              "      <td>NaT</td>\n",
              "      <td>2021-05-27</td>\n",
              "      <td>NaN</td>\n",
              "    </tr>\n",
              "    <tr>\n",
              "      <th>45</th>\n",
              "      <td>46</td>\n",
              "      <td>Alexandra da SIlva Barreto</td>\n",
              "      <td>Praça</td>\n",
              "      <td>NaN</td>\n",
              "      <td>Lins</td>\n",
              "      <td>99314-8348</td>\n",
              "      <td>4</td>\n",
              "      <td>3</td>\n",
              "      <td>0</td>\n",
              "      <td>Não</td>\n",
              "      <td>Não</td>\n",
              "      <td>7</td>\n",
              "      <td>0</td>\n",
              "      <td>2021-07-10 00:00:00</td>\n",
              "      <td>NaN</td>\n",
              "      <td>018.314.037-06</td>\n",
              "      <td>2021-08-14</td>\n",
              "      <td>NaT</td>\n",
              "      <td>NaT</td>\n",
              "      <td>2021-08-27</td>\n",
              "      <td>NaN</td>\n",
              "    </tr>\n",
              "    <tr>\n",
              "      <th>46</th>\n",
              "      <td>47</td>\n",
              "      <td>Alexandra da Silva Ferreira</td>\n",
              "      <td>Praça</td>\n",
              "      <td>NaN</td>\n",
              "      <td>Vila Isabel</td>\n",
              "      <td>98233-8343</td>\n",
              "      <td>5</td>\n",
              "      <td>1</td>\n",
              "      <td>0</td>\n",
              "      <td>não</td>\n",
              "      <td>Bolsa Familia</td>\n",
              "      <td>6</td>\n",
              "      <td>475</td>\n",
              "      <td>2021-05-08 00:00:00</td>\n",
              "      <td>Rua Célia Regina, casa 12 b</td>\n",
              "      <td>099.154.227-41</td>\n",
              "      <td>2021-05-08</td>\n",
              "      <td>2021-08-14</td>\n",
              "      <td>NaT</td>\n",
              "      <td>2021-08-27</td>\n",
              "      <td>NaN</td>\n",
              "    </tr>\n",
              "  </tbody>\n",
              "</table>\n",
              "</div>"
            ],
            "text/plain": [
              "    Nº                          Nome  ... Última atualização Observações\n",
              "10  11   Adriana da Silva dos Santos  ...         2021-05-27         NaN\n",
              "38  39  Alessandra Ferreira Benedito  ...         2021-08-27         NaN\n",
              "44  45       Alex Santos de Oliveira  ...         2021-05-27         NaN\n",
              "45  46    Alexandra da SIlva Barreto  ...         2021-08-27         NaN\n",
              "46  47   Alexandra da Silva Ferreira  ...         2021-08-27         NaN\n",
              "\n",
              "[5 rows x 21 columns]"
            ]
          },
          "metadata": {},
          "execution_count": 196
        }
      ]
    },
    {
      "cell_type": "markdown",
      "metadata": {
        "id": "H3BZpQVaimj0"
      },
      "source": [
        "Procurando nomes da planilha nova com a antiga. "
      ]
    },
    {
      "cell_type": "code",
      "metadata": {
        "id": "Wer8qyLYkf4D"
      },
      "source": [
        "def nomes_da_nova(tabela):\n",
        "\n",
        "  nomes_novo = []\n",
        "  lista =  tabela['Nº'].values\n",
        "  x = 0\n",
        "\n",
        "  for i in tabela['Nome']:\n",
        "\n",
        "    nomes_novo.append([i, lista[x]-1, '', '', ''])\n",
        "    x += 1\n",
        "\n",
        "  return nomes_novo\n",
        "    "
      ],
      "execution_count": 222,
      "outputs": []
    },
    {
      "cell_type": "code",
      "metadata": {
        "id": "7z5jNiRmlUgU"
      },
      "source": [
        "def DataFrameNomes(oficial, oficial1, nao_oficial, nomes):\n",
        "\n",
        "  for j in range(oficial.shape[0]):\n",
        "\n",
        "    for k in range(len(nomes)):\n",
        "\n",
        "      if oficial[\"Nome\"][j] == nomes[k][0]:\n",
        "        nomes[k][2] = j\n",
        "        break\n",
        "\n",
        "\n",
        "  for j in range(oficial1.shape[0]):\n",
        "\n",
        "    for k in range(len(nomes)):\n",
        "\n",
        "      if oficial1[\"Nome\"][j] == nomes[k][0]:\n",
        "        nomes[k][3] = j\n",
        "        break\n",
        "  \n",
        "  for j in range(nao_oficial.shape[0]):\n",
        "\n",
        "    for k in range(len(nomes)):\n",
        "\n",
        "      if nao_oficial[\"Nome\"][j] == nomes[k][0]:\n",
        "        nomes[k][4] = j\n",
        "        break\n",
        "\n",
        "  return nomes"
      ],
      "execution_count": 227,
      "outputs": []
    },
    {
      "cell_type": "code",
      "metadata": {
        "id": "l4eeOuOazpXq"
      },
      "source": [
        "geral_oficial1 = pd.read_csv(\"/content/CADASTRO_GERAL.csv\", parse_dates=True)"
      ],
      "execution_count": 224,
      "outputs": []
    },
    {
      "cell_type": "code",
      "metadata": {
        "colab": {
          "base_uri": "https://localhost:8080/",
          "height": 359
        },
        "id": "ljI9-CfDnlJS",
        "outputId": "db606007-a35a-43c6-9517-8b9f43b9c3b5"
      },
      "source": [
        "nomes_novos = nomes_da_nova(Atualizados)\n",
        "tabela_nomes_index = DataFrameNomes(geral_oficial,geral_oficial1, geral_nao_oficial, nomes_novos) \n",
        "relacao_nome = pd.DataFrame(data=tabela_nomes_index, columns=(\"Nome\", \"Maio\", \"oficial\", \"oficial1\", \"nao-oficial\"))\n",
        "relacao_nome.head(10)"
      ],
      "execution_count": 228,
      "outputs": [
        {
          "output_type": "execute_result",
          "data": {
            "text/html": [
              "<div>\n",
              "<style scoped>\n",
              "    .dataframe tbody tr th:only-of-type {\n",
              "        vertical-align: middle;\n",
              "    }\n",
              "\n",
              "    .dataframe tbody tr th {\n",
              "        vertical-align: top;\n",
              "    }\n",
              "\n",
              "    .dataframe thead th {\n",
              "        text-align: right;\n",
              "    }\n",
              "</style>\n",
              "<table border=\"1\" class=\"dataframe\">\n",
              "  <thead>\n",
              "    <tr style=\"text-align: right;\">\n",
              "      <th></th>\n",
              "      <th>Nome</th>\n",
              "      <th>Maio</th>\n",
              "      <th>oficial</th>\n",
              "      <th>oficial1</th>\n",
              "      <th>nao-oficial</th>\n",
              "    </tr>\n",
              "  </thead>\n",
              "  <tbody>\n",
              "    <tr>\n",
              "      <th>0</th>\n",
              "      <td>Adriana da Silva dos Santos</td>\n",
              "      <td>10</td>\n",
              "      <td></td>\n",
              "      <td></td>\n",
              "      <td></td>\n",
              "    </tr>\n",
              "    <tr>\n",
              "      <th>1</th>\n",
              "      <td>Alessandra Ferreira Benedito</td>\n",
              "      <td>38</td>\n",
              "      <td></td>\n",
              "      <td></td>\n",
              "      <td></td>\n",
              "    </tr>\n",
              "    <tr>\n",
              "      <th>2</th>\n",
              "      <td>Alex Santos de Oliveira</td>\n",
              "      <td>44</td>\n",
              "      <td>41</td>\n",
              "      <td>41</td>\n",
              "      <td>37</td>\n",
              "    </tr>\n",
              "    <tr>\n",
              "      <th>3</th>\n",
              "      <td>Alexandra da SIlva Barreto</td>\n",
              "      <td>45</td>\n",
              "      <td></td>\n",
              "      <td></td>\n",
              "      <td></td>\n",
              "    </tr>\n",
              "    <tr>\n",
              "      <th>4</th>\n",
              "      <td>Alexandra da Silva Ferreira</td>\n",
              "      <td>46</td>\n",
              "      <td></td>\n",
              "      <td></td>\n",
              "      <td></td>\n",
              "    </tr>\n",
              "    <tr>\n",
              "      <th>5</th>\n",
              "      <td>Alexandra Rios</td>\n",
              "      <td>49</td>\n",
              "      <td>44</td>\n",
              "      <td>44</td>\n",
              "      <td>40</td>\n",
              "    </tr>\n",
              "    <tr>\n",
              "      <th>6</th>\n",
              "      <td>Alick Josef</td>\n",
              "      <td>52</td>\n",
              "      <td>47</td>\n",
              "      <td>47</td>\n",
              "      <td>43</td>\n",
              "    </tr>\n",
              "    <tr>\n",
              "      <th>7</th>\n",
              "      <td>Aline Anjo dos Santos</td>\n",
              "      <td>53</td>\n",
              "      <td></td>\n",
              "      <td></td>\n",
              "      <td></td>\n",
              "    </tr>\n",
              "    <tr>\n",
              "      <th>8</th>\n",
              "      <td>Aline Basilio de Souza</td>\n",
              "      <td>54</td>\n",
              "      <td></td>\n",
              "      <td></td>\n",
              "      <td></td>\n",
              "    </tr>\n",
              "    <tr>\n",
              "      <th>9</th>\n",
              "      <td>Aline de Souza Caetano</td>\n",
              "      <td>56</td>\n",
              "      <td></td>\n",
              "      <td></td>\n",
              "      <td></td>\n",
              "    </tr>\n",
              "  </tbody>\n",
              "</table>\n",
              "</div>"
            ],
            "text/plain": [
              "                           Nome  Maio oficial oficial1 nao-oficial\n",
              "0   Adriana da Silva dos Santos    10                             \n",
              "1  Alessandra Ferreira Benedito    38                             \n",
              "2       Alex Santos de Oliveira    44      41       41          37\n",
              "3    Alexandra da SIlva Barreto    45                             \n",
              "4   Alexandra da Silva Ferreira    46                             \n",
              "5                Alexandra Rios    49      44       44          40\n",
              "6                   Alick Josef    52      47       47          43\n",
              "7         Aline Anjo dos Santos    53                             \n",
              "8        Aline Basilio de Souza    54                             \n",
              "9        Aline de Souza Caetano    56                             "
            ]
          },
          "metadata": {},
          "execution_count": 228
        }
      ]
    },
    {
      "cell_type": "code",
      "metadata": {
        "colab": {
          "base_uri": "https://localhost:8080/"
        },
        "id": "aG7pvsLbucpW",
        "outputId": "852a4285-acab-46fd-a95c-515a4f0ee3a1"
      },
      "source": [
        "geral_maio[\"Nome\"][44], geral_maio[\"CPF\"][44]"
      ],
      "execution_count": 229,
      "outputs": [
        {
          "output_type": "execute_result",
          "data": {
            "text/plain": [
              "('Alex Santos de Oliveira', '099.154.227-41')"
            ]
          },
          "metadata": {},
          "execution_count": 229
        }
      ]
    },
    {
      "cell_type": "code",
      "metadata": {
        "colab": {
          "base_uri": "https://localhost:8080/"
        },
        "id": "TruYfORHuok8",
        "outputId": "46c36006-0047-4e55-c8c0-6efd2ddfb783"
      },
      "source": [
        "geral_oficial[\"Nome\"][44], geral_oficial[\"CPF\"][44]"
      ],
      "execution_count": 235,
      "outputs": [
        {
          "output_type": "execute_result",
          "data": {
            "text/plain": [
              "('Alexandra Rios', '103.280.958-45')"
            ]
          },
          "metadata": {},
          "execution_count": 235
        }
      ]
    },
    {
      "cell_type": "markdown",
      "metadata": {
        "id": "Z-UCPhtUvJ42"
      },
      "source": [
        "Aparentemente o erro data na planilha 'Geral_oficial'. Resta saber se ele provem da junção da geral_oficial de 22 de maio com a mais antiga."
      ]
    },
    {
      "cell_type": "code",
      "metadata": {
        "colab": {
          "base_uri": "https://localhost:8080/"
        },
        "id": "slwOABVqvjEK",
        "outputId": "fa4da2ad-22b4-48f9-d446-20e4cfdb4a3c"
      },
      "source": [
        "geral_oficial1['Nome'][44], geral_oficial1[\"CPF\"][44]"
      ],
      "execution_count": 233,
      "outputs": [
        {
          "output_type": "execute_result",
          "data": {
            "text/plain": [
              "('Alexandra Rios', nan)"
            ]
          },
          "metadata": {},
          "execution_count": 233
        }
      ]
    },
    {
      "cell_type": "code",
      "metadata": {
        "colab": {
          "base_uri": "https://localhost:8080/"
        },
        "id": "-JT-TbETvi5K",
        "outputId": "91378846-2d7f-496e-aa87-12bacf850383"
      },
      "source": [
        "geral_nao_oficial['Nome'][40], geral_nao_oficial[\"CPF\"][40]"
      ],
      "execution_count": 234,
      "outputs": [
        {
          "output_type": "execute_result",
          "data": {
            "text/plain": [
              "('Alexandra Rios', nan)"
            ]
          },
          "metadata": {},
          "execution_count": 234
        }
      ]
    },
    {
      "cell_type": "markdown",
      "metadata": {
        "id": "tvafyOe40aaL"
      },
      "source": [
        "**Nas planilhas antigas, \"Alex Santos de Oliveira\" não tinha o CPF no registro,mas de alguma forma ele tem depois da combinação das duas (geral_oficial)**"
      ]
    },
    {
      "cell_type": "markdown",
      "metadata": {
        "id": "KN2_smYo15kk"
      },
      "source": [
        "# Consertando o erro"
      ]
    },
    {
      "cell_type": "code",
      "metadata": {
        "id": "wWTbqtdF1_KR"
      },
      "source": [
        ""
      ],
      "execution_count": null,
      "outputs": []
    },
    {
      "cell_type": "markdown",
      "metadata": {
        "id": "mmg82JUzS_YD"
      },
      "source": [
        "# Salvando a planilha"
      ]
    },
    {
      "cell_type": "code",
      "metadata": {
        "id": "Rsij6CMUPppT"
      },
      "source": [
        "geral_oficial.to_excel(\"Cadastro_Geral.xlsx\", sheet_name=\"Cadastro\", index=False)"
      ],
      "execution_count": null,
      "outputs": []
    },
    {
      "cell_type": "code",
      "metadata": {
        "id": "YxutAm1pT-Z8"
      },
      "source": [
        ""
      ],
      "execution_count": null,
      "outputs": []
    }
  ]
}
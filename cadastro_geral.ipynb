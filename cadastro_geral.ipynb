{
  "nbformat": 4,
  "nbformat_minor": 0,
  "metadata": {
    "colab": {
      "name": "cadastro_geral.ipynb",
      "provenance": [],
      "collapsed_sections": [
        "6JyUKAiRlAze",
        "bG5B76WWwvKw"
      ]
    },
    "kernelspec": {
      "name": "python3",
      "display_name": "Python 3"
    },
    "language_info": {
      "name": "python"
    }
  },
  "cells": [
    {
      "cell_type": "markdown",
      "metadata": {
        "id": "xndfT68ndr2B"
      },
      "source": [
        "# Cadastro Geral\n",
        "\n",
        "Atualmente há duas lista de cadastro geral no Ponto do Bem. O objetivo desse programa é conciliar os dados das duas em uma planilha só. Ademais, userei VBA para corresponder dados novos em futuras atualizaçôes.\n",
        "\n"
      ]
    },
    {
      "cell_type": "code",
      "metadata": {
        "id": "70bVpe_OdoBK"
      },
      "source": [
        "import pandas as pd"
      ],
      "execution_count": 1,
      "outputs": []
    },
    {
      "cell_type": "code",
      "metadata": {
        "id": "JWMYz-PEeJgl"
      },
      "source": [
        "geral_oficial = pd.read_csv(\"/content/CADASTRO_GERAL.csv\", parse_dates=True)\n",
        "geral_nao_oficial = pd.read_csv(\"/content/Cadastro_Geral_Nao_oficial.csv\", parse_dates=True)"
      ],
      "execution_count": 22,
      "outputs": []
    },
    {
      "cell_type": "markdown",
      "metadata": {
        "id": "6JyUKAiRlAze"
      },
      "source": [
        "## Visualizações"
      ]
    },
    {
      "cell_type": "code",
      "metadata": {
        "colab": {
          "base_uri": "https://localhost:8080/",
          "height": 496
        },
        "id": "XyF9LNRSeo4B",
        "outputId": "9743f017-1ed0-45f7-cff8-c3247b5257ab"
      },
      "source": [
        "geral_nao_oficial.head()"
      ],
      "execution_count": 23,
      "outputs": [
        {
          "output_type": "execute_result",
          "data": {
            "text/html": [
              "<div>\n",
              "<style scoped>\n",
              "    .dataframe tbody tr th:only-of-type {\n",
              "        vertical-align: middle;\n",
              "    }\n",
              "\n",
              "    .dataframe tbody tr th {\n",
              "        vertical-align: top;\n",
              "    }\n",
              "\n",
              "    .dataframe thead th {\n",
              "        text-align: right;\n",
              "    }\n",
              "</style>\n",
              "<table border=\"1\" class=\"dataframe\">\n",
              "  <thead>\n",
              "    <tr style=\"text-align: right;\">\n",
              "      <th></th>\n",
              "      <th>Nº</th>\n",
              "      <th>Nome</th>\n",
              "      <th>Liberado?</th>\n",
              "      <th>Remédios / Roupas</th>\n",
              "      <th>Bairro</th>\n",
              "      <th>Telefone</th>\n",
              "      <th>Crianças</th>\n",
              "      <th>Adultos</th>\n",
              "      <th>Idosos</th>\n",
              "      <th>Trabalha</th>\n",
              "      <th>Tipo de Auxílio</th>\n",
              "      <th>Qtde de pessoas</th>\n",
              "      <th>(R$)</th>\n",
              "      <th>Data de Atualização</th>\n",
              "      <th>Endereço</th>\n",
              "      <th>CPF</th>\n",
              "      <th>DATA DA PLANILHA</th>\n",
              "      <th>Observações</th>\n",
              "    </tr>\n",
              "  </thead>\n",
              "  <tbody>\n",
              "    <tr>\n",
              "      <th>0</th>\n",
              "      <td>1.0</td>\n",
              "      <td>Abdaline Jean Baptiste</td>\n",
              "      <td>NaN</td>\n",
              "      <td>NaN</td>\n",
              "      <td>Tanque</td>\n",
              "      <td>98064-1512 -  97201-0948</td>\n",
              "      <td>3</td>\n",
              "      <td>2</td>\n",
              "      <td>2</td>\n",
              "      <td>não</td>\n",
              "      <td>NaN</td>\n",
              "      <td>7</td>\n",
              "      <td>NaN</td>\n",
              "      <td>6/19/2020</td>\n",
              "      <td>Rua Almirante Melquíades de Souza, 322 Tanque ...</td>\n",
              "      <td>065.001.667-01</td>\n",
              "      <td>7/3/2020</td>\n",
              "      <td>NaN</td>\n",
              "    </tr>\n",
              "    <tr>\n",
              "      <th>1</th>\n",
              "      <td>2.0</td>\n",
              "      <td>Abigail Pereira Cabral</td>\n",
              "      <td>NaN</td>\n",
              "      <td>NaN</td>\n",
              "      <td>Praça Seca</td>\n",
              "      <td>998039-7091 (tel errado)</td>\n",
              "      <td>1</td>\n",
              "      <td>3</td>\n",
              "      <td>NaN</td>\n",
              "      <td>não</td>\n",
              "      <td>NaN</td>\n",
              "      <td>4</td>\n",
              "      <td>NaN</td>\n",
              "      <td>6/5/2020</td>\n",
              "      <td>NaN</td>\n",
              "      <td>714.666.306-34</td>\n",
              "      <td>7/3/2020</td>\n",
              "      <td>NaN</td>\n",
              "    </tr>\n",
              "    <tr>\n",
              "      <th>2</th>\n",
              "      <td>3.0</td>\n",
              "      <td>Adélia Verônica Pinto da Silva</td>\n",
              "      <td>OK</td>\n",
              "      <td>Sim</td>\n",
              "      <td>Vila Isabel</td>\n",
              "      <td>99312-1634</td>\n",
              "      <td>1</td>\n",
              "      <td>2</td>\n",
              "      <td>0</td>\n",
              "      <td>não</td>\n",
              "      <td>bolsa famila 130,00</td>\n",
              "      <td>3</td>\n",
              "      <td>NaN</td>\n",
              "      <td>4/20/2021</td>\n",
              "      <td>Rua viana drumond 38 casa 2 Vila Isabel</td>\n",
              "      <td>125.458..797-70</td>\n",
              "      <td>7/11/2020</td>\n",
              "      <td>NaN</td>\n",
              "    </tr>\n",
              "    <tr>\n",
              "      <th>3</th>\n",
              "      <td>4.0</td>\n",
              "      <td>Adelino da Silva Gomes</td>\n",
              "      <td>OK RECEBEU</td>\n",
              "      <td>NaN</td>\n",
              "      <td>Vila Isabel</td>\n",
              "      <td>98891-2516</td>\n",
              "      <td>3</td>\n",
              "      <td>1</td>\n",
              "      <td>NaN</td>\n",
              "      <td>NaN</td>\n",
              "      <td>NaN</td>\n",
              "      <td>4</td>\n",
              "      <td>NaN</td>\n",
              "      <td>NaN</td>\n",
              "      <td>Rua Armando de Albuquerque, 33</td>\n",
              "      <td>011.833.607-03</td>\n",
              "      <td>6/27/2020</td>\n",
              "      <td>NaN</td>\n",
              "    </tr>\n",
              "    <tr>\n",
              "      <th>4</th>\n",
              "      <td>5.0</td>\n",
              "      <td>Aderaldo Araújo Simplício</td>\n",
              "      <td>NaN</td>\n",
              "      <td>NaN</td>\n",
              "      <td>Tijuca</td>\n",
              "      <td>99947-3523</td>\n",
              "      <td>NaN</td>\n",
              "      <td>NaN</td>\n",
              "      <td>NaN</td>\n",
              "      <td>NaN</td>\n",
              "      <td>NaN</td>\n",
              "      <td>0</td>\n",
              "      <td>NaN</td>\n",
              "      <td>7/25/2020</td>\n",
              "      <td>NaN</td>\n",
              "      <td>606.569.647-15</td>\n",
              "      <td>8/8/2020</td>\n",
              "      <td>NaN</td>\n",
              "    </tr>\n",
              "  </tbody>\n",
              "</table>\n",
              "</div>"
            ],
            "text/plain": [
              "    Nº                            Nome  ... DATA DA PLANILHA Observações\n",
              "0  1.0          Abdaline Jean Baptiste  ...         7/3/2020         NaN\n",
              "1  2.0          Abigail Pereira Cabral  ...         7/3/2020         NaN\n",
              "2  3.0  Adélia Verônica Pinto da Silva  ...        7/11/2020         NaN\n",
              "3  4.0          Adelino da Silva Gomes  ...        6/27/2020         NaN\n",
              "4  5.0       Aderaldo Araújo Simplício  ...         8/8/2020         NaN\n",
              "\n",
              "[5 rows x 18 columns]"
            ]
          },
          "metadata": {
            "tags": []
          },
          "execution_count": 23
        }
      ]
    },
    {
      "cell_type": "code",
      "metadata": {
        "colab": {
          "base_uri": "https://localhost:8080/",
          "height": 462
        },
        "id": "Ln4RNQ7ofhpM",
        "outputId": "f9ac0335-b85a-4193-d099-376f650f1b44"
      },
      "source": [
        "geral_oficial.head()"
      ],
      "execution_count": 20,
      "outputs": [
        {
          "output_type": "execute_result",
          "data": {
            "text/html": [
              "<div>\n",
              "<style scoped>\n",
              "    .dataframe tbody tr th:only-of-type {\n",
              "        vertical-align: middle;\n",
              "    }\n",
              "\n",
              "    .dataframe tbody tr th {\n",
              "        vertical-align: top;\n",
              "    }\n",
              "\n",
              "    .dataframe thead th {\n",
              "        text-align: right;\n",
              "    }\n",
              "</style>\n",
              "<table border=\"1\" class=\"dataframe\">\n",
              "  <thead>\n",
              "    <tr style=\"text-align: right;\">\n",
              "      <th></th>\n",
              "      <th>Nº+</th>\n",
              "      <th>Nome</th>\n",
              "      <th>EV/AB/PRAÇA</th>\n",
              "      <th>Pedidos de Roupa/Remédio</th>\n",
              "      <th>Bairro</th>\n",
              "      <th>Telefone</th>\n",
              "      <th>Crianças</th>\n",
              "      <th>Adultos</th>\n",
              "      <th>Idosos</th>\n",
              "      <th>Trabalha</th>\n",
              "      <th>Recebe Auxílio?</th>\n",
              "      <th>Qtde de pessoas</th>\n",
              "      <th>Renda mensal</th>\n",
              "      <th>Data de entrada</th>\n",
              "      <th>Endereço</th>\n",
              "      <th>CPF</th>\n",
              "      <th>CESTA 1</th>\n",
              "      <th>CESTA 2</th>\n",
              "      <th>CESTA 3</th>\n",
              "      <th>Última atualização</th>\n",
              "      <th>Observações</th>\n",
              "    </tr>\n",
              "  </thead>\n",
              "  <tbody>\n",
              "    <tr>\n",
              "      <th>0</th>\n",
              "      <td>1</td>\n",
              "      <td>Abdaline Jean Baptiste</td>\n",
              "      <td>Praça</td>\n",
              "      <td>Não</td>\n",
              "      <td>Tanque</td>\n",
              "      <td>98064-1512</td>\n",
              "      <td>4</td>\n",
              "      <td>1</td>\n",
              "      <td>2</td>\n",
              "      <td>Não</td>\n",
              "      <td>Não</td>\n",
              "      <td>7</td>\n",
              "      <td>1.100,00</td>\n",
              "      <td>???</td>\n",
              "      <td>Rua Almirante de Souza - Casa 322</td>\n",
              "      <td>065.001.667-01</td>\n",
              "      <td>NaN</td>\n",
              "      <td>NaN</td>\n",
              "      <td>NaN</td>\n",
              "      <td>22/03/2021</td>\n",
              "      <td>NaN</td>\n",
              "    </tr>\n",
              "    <tr>\n",
              "      <th>1</th>\n",
              "      <td>2</td>\n",
              "      <td>Abigail Pereira Cabral</td>\n",
              "      <td>NaN</td>\n",
              "      <td>NaN</td>\n",
              "      <td>Praça Seca</td>\n",
              "      <td>998039-7091 (tel errado)</td>\n",
              "      <td>1</td>\n",
              "      <td>3</td>\n",
              "      <td>NaN</td>\n",
              "      <td>não</td>\n",
              "      <td>NaN</td>\n",
              "      <td>4</td>\n",
              "      <td>NaN</td>\n",
              "      <td>05/06/2020</td>\n",
              "      <td>NaN</td>\n",
              "      <td>714.666.306-34</td>\n",
              "      <td>NaN</td>\n",
              "      <td>NaN</td>\n",
              "      <td>NaN</td>\n",
              "      <td>03/07/2020</td>\n",
              "      <td>NaN</td>\n",
              "    </tr>\n",
              "    <tr>\n",
              "      <th>2</th>\n",
              "      <td>3</td>\n",
              "      <td>Adélia Verônica Pinto da Silva</td>\n",
              "      <td>AB</td>\n",
              "      <td>Sim</td>\n",
              "      <td>Vila Isabel</td>\n",
              "      <td>99312-1634</td>\n",
              "      <td>1</td>\n",
              "      <td>1</td>\n",
              "      <td>1</td>\n",
              "      <td>Não</td>\n",
              "      <td>Não</td>\n",
              "      <td>3</td>\n",
              "      <td>0,00</td>\n",
              "      <td>11/08/2020</td>\n",
              "      <td>Rua Senador Nabuco, 411</td>\n",
              "      <td>125.458.797-70</td>\n",
              "      <td>NaN</td>\n",
              "      <td>NaN</td>\n",
              "      <td>NaN</td>\n",
              "      <td>11/07/2020</td>\n",
              "      <td>NaN</td>\n",
              "    </tr>\n",
              "    <tr>\n",
              "      <th>3</th>\n",
              "      <td>4</td>\n",
              "      <td>Adelino da Silva Gomes</td>\n",
              "      <td>Praça</td>\n",
              "      <td>Sim</td>\n",
              "      <td>Vila Isabel</td>\n",
              "      <td>(21) 98891-2516</td>\n",
              "      <td>2</td>\n",
              "      <td>2</td>\n",
              "      <td>0</td>\n",
              "      <td>Não</td>\n",
              "      <td>Não</td>\n",
              "      <td>4</td>\n",
              "      <td>0,00</td>\n",
              "      <td>29/05/2020</td>\n",
              "      <td>Rua Armando de Albuquerque, 33</td>\n",
              "      <td>011.833.607-03</td>\n",
              "      <td>NaN</td>\n",
              "      <td>NaN</td>\n",
              "      <td>NaN</td>\n",
              "      <td>29/05/2020</td>\n",
              "      <td>NaN</td>\n",
              "    </tr>\n",
              "    <tr>\n",
              "      <th>4</th>\n",
              "      <td>5</td>\n",
              "      <td>Aderaldo Araújo Simplício</td>\n",
              "      <td>NaN</td>\n",
              "      <td>NaN</td>\n",
              "      <td>Tijuca</td>\n",
              "      <td>99947-3523</td>\n",
              "      <td>NaN</td>\n",
              "      <td>NaN</td>\n",
              "      <td>NaN</td>\n",
              "      <td>NaN</td>\n",
              "      <td>NaN</td>\n",
              "      <td>0</td>\n",
              "      <td>NaN</td>\n",
              "      <td>25/07/2020</td>\n",
              "      <td>NaN</td>\n",
              "      <td>606.569.647-15</td>\n",
              "      <td>NaN</td>\n",
              "      <td>NaN</td>\n",
              "      <td>NaN</td>\n",
              "      <td>08/08/2020</td>\n",
              "      <td>NaN</td>\n",
              "    </tr>\n",
              "  </tbody>\n",
              "</table>\n",
              "</div>"
            ],
            "text/plain": [
              "  Nº+                            Nome  ... Última atualização Observações\n",
              "0   1          Abdaline Jean Baptiste  ...         22/03/2021         NaN\n",
              "1   2          Abigail Pereira Cabral  ...         03/07/2020         NaN\n",
              "2   3  Adélia Verônica Pinto da Silva  ...         11/07/2020         NaN\n",
              "3   4          Adelino da Silva Gomes  ...         29/05/2020         NaN\n",
              "4   5       Aderaldo Araújo Simplício  ...         08/08/2020         NaN\n",
              "\n",
              "[5 rows x 21 columns]"
            ]
          },
          "metadata": {
            "tags": []
          },
          "execution_count": 20
        }
      ]
    },
    {
      "cell_type": "markdown",
      "metadata": {
        "id": "i5oo7n_fh56o"
      },
      "source": [
        "Vemos que a lista oficial tem mais dados do que a não oficial."
      ]
    },
    {
      "cell_type": "code",
      "metadata": {
        "colab": {
          "base_uri": "https://localhost:8080/"
        },
        "id": "WOQnzQL5fuLs",
        "outputId": "522137f6-527b-4a12-e284-4385f1d9bcab"
      },
      "source": [
        "geral_nao_oficial.shape, geral_oficial.shape"
      ],
      "execution_count": 7,
      "outputs": [
        {
          "output_type": "execute_result",
          "data": {
            "text/plain": [
              "((1368, 18), (1541, 21))"
            ]
          },
          "metadata": {
            "tags": []
          },
          "execution_count": 7
        }
      ]
    },
    {
      "cell_type": "code",
      "metadata": {
        "colab": {
          "base_uri": "https://localhost:8080/"
        },
        "id": "65hvUhtMhMpr",
        "outputId": "f0eb45b1-a219-42d6-bfa0-cf1c07545abe"
      },
      "source": [
        "geral_oficial.dtypes"
      ],
      "execution_count": 21,
      "outputs": [
        {
          "output_type": "execute_result",
          "data": {
            "text/plain": [
              "Nº+                          object\n",
              "Nome                         object\n",
              "EV/AB/PRAÇA                  object\n",
              "Pedidos de Roupa/Remédio     object\n",
              "Bairro                       object\n",
              "Telefone                     object\n",
              "Crianças                     object\n",
              "Adultos                      object\n",
              "Idosos                       object\n",
              "Trabalha                     object\n",
              "Recebe Auxílio?              object\n",
              "Qtde de pessoas              object\n",
              "Renda mensal                 object\n",
              "Data de entrada              object\n",
              "Endereço                     object\n",
              "CPF                          object\n",
              "CESTA 1                      object\n",
              "CESTA 2                      object\n",
              "CESTA 3                     float64\n",
              "Última atualização           object\n",
              "Observações                  object\n",
              "dtype: object"
            ]
          },
          "metadata": {
            "tags": []
          },
          "execution_count": 21
        }
      ]
    },
    {
      "cell_type": "markdown",
      "metadata": {
        "id": "O17U5Ic5iBT4"
      },
      "source": [
        "A lista oficial foi toda reconhecida como string, exceto a coluna da Cesta 3. "
      ]
    },
    {
      "cell_type": "code",
      "metadata": {
        "colab": {
          "base_uri": "https://localhost:8080/"
        },
        "id": "YXvHGlr0hnOR",
        "outputId": "5a4f65d9-df9c-4932-d14f-368d54832701"
      },
      "source": [
        "geral_nao_oficial.dtypes"
      ],
      "execution_count": 16,
      "outputs": [
        {
          "output_type": "execute_result",
          "data": {
            "text/plain": [
              "Nº                     float64\n",
              "Nome                    object\n",
              "Liberado?               object\n",
              "Remédios / Roupas       object\n",
              "Bairro                  object\n",
              "Telefone                object\n",
              "Crianças                object\n",
              "Adultos                 object\n",
              "Idosos                  object\n",
              "Trabalha                object\n",
              "Tipo de Auxílio         object\n",
              "Qtde de pessoas         object\n",
              "(R$)                    object\n",
              "Data de Atualização     object\n",
              "Endereço                object\n",
              "CPF                     object\n",
              "DATA DA PLANILHA        object\n",
              "Observações             object\n",
              "dtype: object"
            ]
          },
          "metadata": {
            "tags": []
          },
          "execution_count": 16
        }
      ]
    },
    {
      "cell_type": "markdown",
      "metadata": {
        "id": "xp_gc4Y1nen2"
      },
      "source": [
        "## Modificando e validando dados"
      ]
    },
    {
      "cell_type": "code",
      "metadata": {
        "id": "rHzUHuzciNNZ"
      },
      "source": [
        "#Pegando o nome das colunas\n",
        "colunas_cad_oficial = []\n",
        "colunas_cad_nao_oficial = []\n",
        "\n",
        "for col in geral_oficial.columns:\n",
        "  colunas_cad_oficial.append(col)\n",
        "\n",
        "for col in geral_nao_oficial.columns:\n",
        "  colunas_cad_nao_oficial.append(col)"
      ],
      "execution_count": 28,
      "outputs": []
    },
    {
      "cell_type": "markdown",
      "metadata": {
        "id": "bG5B76WWwvKw"
      },
      "source": [
        "### Excluindo colunas desnecessárias"
      ]
    },
    {
      "cell_type": "code",
      "metadata": {
        "id": "E4MpzIUHpUKD"
      },
      "source": [
        "geral_nao_oficial = geral_nao_oficial.drop(\"Liberado?\", axis = 1)"
      ],
      "execution_count": 37,
      "outputs": []
    },
    {
      "cell_type": "markdown",
      "metadata": {
        "id": "szfA_4kxxhWm"
      },
      "source": [
        "### Estruturando a Coluna \"CPF\""
      ]
    },
    {
      "cell_type": "code",
      "metadata": {
        "id": "MgFdzuBW5VBx"
      },
      "source": [
        "# Essa função enviar cada valor para ser checado\n",
        "def separacao(data_serie):\n",
        "\n",
        "  for i in len(data_serie):\n",
        "    valores = cpf(data_serie[i])\n",
        "    \n",
        "    if not valores[1]:\n",
        "      data_serie[i] = valores[0]\n"
      ],
      "execution_count": 53,
      "outputs": []
    },
    {
      "cell_type": "code",
      "metadata": {
        "id": "FB25dEQ6xUV6"
      },
      "source": [
        "# Essa função checará se o CPF está no formato XXX.XXX.XXX-XX\n",
        "def cpf(valor):\n",
        "\n",
        "  if len(valor) == 14:\n",
        "    return [valor, True]\n",
        "\n",
        "  else:\n",
        "    cpf = [\"\", \"\", \"\", \".\", \"\", \"\", \"\", \".\", \"\", \"\", \"\", \"-\", \"\", \"\"]\n",
        "    valor = valor.split().strip() # Transforma em uma lista\n",
        "\n",
        "    for i in range(len(valor), 0, -1):\n",
        "      # Começa a verificar do ultimo ao primeiro\n",
        "\n",
        "      if valor[i].isdigit():\n",
        "        # Se o valor for digito\n",
        "\n",
        "        if cpf[í] != \"\":\n",
        "          # se no mesmos index não tiver vazio\n",
        "          \n",
        "          cpf[i + 1] = valor[i]\n",
        "        \n",
        "        else:\n",
        "          cpf[i] = valor[i]\n",
        "      \n",
        "      else:\n",
        "\n",
        "\n",
        "    \n"
      ],
      "execution_count": null,
      "outputs": []
    },
    {
      "cell_type": "code",
      "metadata": {
        "id": "7Mz2vsV8zFJb"
      },
      "source": [
        ""
      ],
      "execution_count": null,
      "outputs": []
    }
  ]
}
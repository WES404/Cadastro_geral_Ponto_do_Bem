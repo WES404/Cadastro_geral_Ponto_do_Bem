{
  "nbformat": 4,
  "nbformat_minor": 0,
  "metadata": {
    "colab": {
      "name": "cadastro_geral.ipynb",
      "provenance": [],
      "collapsed_sections": [
        "6JyUKAiRlAze",
        "bG5B76WWwvKw",
        "rkwuwCKsDatQ",
        "NG8oMtY7tt-1"
      ]
    },
    "kernelspec": {
      "name": "python3",
      "display_name": "Python 3"
    },
    "language_info": {
      "name": "python"
    }
  },
  "cells": [
    {
      "cell_type": "markdown",
      "metadata": {
        "id": "xndfT68ndr2B"
      },
      "source": [
        "# Cadastro Geral\n",
        "\n",
        "Atualmente há duas lista de cadastro geral no Ponto do Bem. O objetivo desse programa é conciliar os dados das duas em uma planilha só. Ademais, userei VBA para corresponder dados novos em futuras atualizaçôes.\n",
        "\n"
      ]
    },
    {
      "cell_type": "code",
      "metadata": {
        "id": "70bVpe_OdoBK"
      },
      "source": [
        "import pandas as pd"
      ],
      "execution_count": 1,
      "outputs": []
    },
    {
      "cell_type": "code",
      "metadata": {
        "id": "JWMYz-PEeJgl"
      },
      "source": [
        "geral_oficial = pd.read_csv(\"/content/CADASTRO_GERAL.csv\", parse_dates=True)\n",
        "geral_nao_oficial = pd.read_csv(\"/content/Cadastro_Geral_Nao_oficial.csv\", parse_dates=True)"
      ],
      "execution_count": 26,
      "outputs": []
    },
    {
      "cell_type": "markdown",
      "metadata": {
        "id": "6JyUKAiRlAze"
      },
      "source": [
        "## Visualizações"
      ]
    },
    {
      "cell_type": "code",
      "metadata": {
        "colab": {
          "base_uri": "https://localhost:8080/",
          "height": 496
        },
        "id": "XyF9LNRSeo4B",
        "outputId": "9743f017-1ed0-45f7-cff8-c3247b5257ab"
      },
      "source": [
        "geral_nao_oficial.head()"
      ],
      "execution_count": null,
      "outputs": [
        {
          "output_type": "execute_result",
          "data": {
            "text/html": [
              "<div>\n",
              "<style scoped>\n",
              "    .dataframe tbody tr th:only-of-type {\n",
              "        vertical-align: middle;\n",
              "    }\n",
              "\n",
              "    .dataframe tbody tr th {\n",
              "        vertical-align: top;\n",
              "    }\n",
              "\n",
              "    .dataframe thead th {\n",
              "        text-align: right;\n",
              "    }\n",
              "</style>\n",
              "<table border=\"1\" class=\"dataframe\">\n",
              "  <thead>\n",
              "    <tr style=\"text-align: right;\">\n",
              "      <th></th>\n",
              "      <th>Nº</th>\n",
              "      <th>Nome</th>\n",
              "      <th>Liberado?</th>\n",
              "      <th>Remédios / Roupas</th>\n",
              "      <th>Bairro</th>\n",
              "      <th>Telefone</th>\n",
              "      <th>Crianças</th>\n",
              "      <th>Adultos</th>\n",
              "      <th>Idosos</th>\n",
              "      <th>Trabalha</th>\n",
              "      <th>Tipo de Auxílio</th>\n",
              "      <th>Qtde de pessoas</th>\n",
              "      <th>(R$)</th>\n",
              "      <th>Data de Atualização</th>\n",
              "      <th>Endereço</th>\n",
              "      <th>CPF</th>\n",
              "      <th>DATA DA PLANILHA</th>\n",
              "      <th>Observações</th>\n",
              "    </tr>\n",
              "  </thead>\n",
              "  <tbody>\n",
              "    <tr>\n",
              "      <th>0</th>\n",
              "      <td>1.0</td>\n",
              "      <td>Abdaline Jean Baptiste</td>\n",
              "      <td>NaN</td>\n",
              "      <td>NaN</td>\n",
              "      <td>Tanque</td>\n",
              "      <td>98064-1512 -  97201-0948</td>\n",
              "      <td>3</td>\n",
              "      <td>2</td>\n",
              "      <td>2</td>\n",
              "      <td>não</td>\n",
              "      <td>NaN</td>\n",
              "      <td>7</td>\n",
              "      <td>NaN</td>\n",
              "      <td>6/19/2020</td>\n",
              "      <td>Rua Almirante Melquíades de Souza, 322 Tanque ...</td>\n",
              "      <td>065.001.667-01</td>\n",
              "      <td>7/3/2020</td>\n",
              "      <td>NaN</td>\n",
              "    </tr>\n",
              "    <tr>\n",
              "      <th>1</th>\n",
              "      <td>2.0</td>\n",
              "      <td>Abigail Pereira Cabral</td>\n",
              "      <td>NaN</td>\n",
              "      <td>NaN</td>\n",
              "      <td>Praça Seca</td>\n",
              "      <td>998039-7091 (tel errado)</td>\n",
              "      <td>1</td>\n",
              "      <td>3</td>\n",
              "      <td>NaN</td>\n",
              "      <td>não</td>\n",
              "      <td>NaN</td>\n",
              "      <td>4</td>\n",
              "      <td>NaN</td>\n",
              "      <td>6/5/2020</td>\n",
              "      <td>NaN</td>\n",
              "      <td>714.666.306-34</td>\n",
              "      <td>7/3/2020</td>\n",
              "      <td>NaN</td>\n",
              "    </tr>\n",
              "    <tr>\n",
              "      <th>2</th>\n",
              "      <td>3.0</td>\n",
              "      <td>Adélia Verônica Pinto da Silva</td>\n",
              "      <td>OK</td>\n",
              "      <td>Sim</td>\n",
              "      <td>Vila Isabel</td>\n",
              "      <td>99312-1634</td>\n",
              "      <td>1</td>\n",
              "      <td>2</td>\n",
              "      <td>0</td>\n",
              "      <td>não</td>\n",
              "      <td>bolsa famila 130,00</td>\n",
              "      <td>3</td>\n",
              "      <td>NaN</td>\n",
              "      <td>4/20/2021</td>\n",
              "      <td>Rua viana drumond 38 casa 2 Vila Isabel</td>\n",
              "      <td>125.458..797-70</td>\n",
              "      <td>7/11/2020</td>\n",
              "      <td>NaN</td>\n",
              "    </tr>\n",
              "    <tr>\n",
              "      <th>3</th>\n",
              "      <td>4.0</td>\n",
              "      <td>Adelino da Silva Gomes</td>\n",
              "      <td>OK RECEBEU</td>\n",
              "      <td>NaN</td>\n",
              "      <td>Vila Isabel</td>\n",
              "      <td>98891-2516</td>\n",
              "      <td>3</td>\n",
              "      <td>1</td>\n",
              "      <td>NaN</td>\n",
              "      <td>NaN</td>\n",
              "      <td>NaN</td>\n",
              "      <td>4</td>\n",
              "      <td>NaN</td>\n",
              "      <td>NaN</td>\n",
              "      <td>Rua Armando de Albuquerque, 33</td>\n",
              "      <td>011.833.607-03</td>\n",
              "      <td>6/27/2020</td>\n",
              "      <td>NaN</td>\n",
              "    </tr>\n",
              "    <tr>\n",
              "      <th>4</th>\n",
              "      <td>5.0</td>\n",
              "      <td>Aderaldo Araújo Simplício</td>\n",
              "      <td>NaN</td>\n",
              "      <td>NaN</td>\n",
              "      <td>Tijuca</td>\n",
              "      <td>99947-3523</td>\n",
              "      <td>NaN</td>\n",
              "      <td>NaN</td>\n",
              "      <td>NaN</td>\n",
              "      <td>NaN</td>\n",
              "      <td>NaN</td>\n",
              "      <td>0</td>\n",
              "      <td>NaN</td>\n",
              "      <td>7/25/2020</td>\n",
              "      <td>NaN</td>\n",
              "      <td>606.569.647-15</td>\n",
              "      <td>8/8/2020</td>\n",
              "      <td>NaN</td>\n",
              "    </tr>\n",
              "  </tbody>\n",
              "</table>\n",
              "</div>"
            ],
            "text/plain": [
              "    Nº                            Nome  ... DATA DA PLANILHA Observações\n",
              "0  1.0          Abdaline Jean Baptiste  ...         7/3/2020         NaN\n",
              "1  2.0          Abigail Pereira Cabral  ...         7/3/2020         NaN\n",
              "2  3.0  Adélia Verônica Pinto da Silva  ...        7/11/2020         NaN\n",
              "3  4.0          Adelino da Silva Gomes  ...        6/27/2020         NaN\n",
              "4  5.0       Aderaldo Araújo Simplício  ...         8/8/2020         NaN\n",
              "\n",
              "[5 rows x 18 columns]"
            ]
          },
          "metadata": {
            "tags": []
          },
          "execution_count": 23
        }
      ]
    },
    {
      "cell_type": "code",
      "metadata": {
        "colab": {
          "base_uri": "https://localhost:8080/",
          "height": 462
        },
        "id": "Ln4RNQ7ofhpM",
        "outputId": "f9ac0335-b85a-4193-d099-376f650f1b44"
      },
      "source": [
        "geral_oficial.head()"
      ],
      "execution_count": null,
      "outputs": [
        {
          "output_type": "execute_result",
          "data": {
            "text/html": [
              "<div>\n",
              "<style scoped>\n",
              "    .dataframe tbody tr th:only-of-type {\n",
              "        vertical-align: middle;\n",
              "    }\n",
              "\n",
              "    .dataframe tbody tr th {\n",
              "        vertical-align: top;\n",
              "    }\n",
              "\n",
              "    .dataframe thead th {\n",
              "        text-align: right;\n",
              "    }\n",
              "</style>\n",
              "<table border=\"1\" class=\"dataframe\">\n",
              "  <thead>\n",
              "    <tr style=\"text-align: right;\">\n",
              "      <th></th>\n",
              "      <th>Nº+</th>\n",
              "      <th>Nome</th>\n",
              "      <th>EV/AB/PRAÇA</th>\n",
              "      <th>Pedidos de Roupa/Remédio</th>\n",
              "      <th>Bairro</th>\n",
              "      <th>Telefone</th>\n",
              "      <th>Crianças</th>\n",
              "      <th>Adultos</th>\n",
              "      <th>Idosos</th>\n",
              "      <th>Trabalha</th>\n",
              "      <th>Recebe Auxílio?</th>\n",
              "      <th>Qtde de pessoas</th>\n",
              "      <th>Renda mensal</th>\n",
              "      <th>Data de entrada</th>\n",
              "      <th>Endereço</th>\n",
              "      <th>CPF</th>\n",
              "      <th>CESTA 1</th>\n",
              "      <th>CESTA 2</th>\n",
              "      <th>CESTA 3</th>\n",
              "      <th>Última atualização</th>\n",
              "      <th>Observações</th>\n",
              "    </tr>\n",
              "  </thead>\n",
              "  <tbody>\n",
              "    <tr>\n",
              "      <th>0</th>\n",
              "      <td>1</td>\n",
              "      <td>Abdaline Jean Baptiste</td>\n",
              "      <td>Praça</td>\n",
              "      <td>Não</td>\n",
              "      <td>Tanque</td>\n",
              "      <td>98064-1512</td>\n",
              "      <td>4</td>\n",
              "      <td>1</td>\n",
              "      <td>2</td>\n",
              "      <td>Não</td>\n",
              "      <td>Não</td>\n",
              "      <td>7</td>\n",
              "      <td>1.100,00</td>\n",
              "      <td>???</td>\n",
              "      <td>Rua Almirante de Souza - Casa 322</td>\n",
              "      <td>065.001.667-01</td>\n",
              "      <td>NaN</td>\n",
              "      <td>NaN</td>\n",
              "      <td>NaN</td>\n",
              "      <td>22/03/2021</td>\n",
              "      <td>NaN</td>\n",
              "    </tr>\n",
              "    <tr>\n",
              "      <th>1</th>\n",
              "      <td>2</td>\n",
              "      <td>Abigail Pereira Cabral</td>\n",
              "      <td>NaN</td>\n",
              "      <td>NaN</td>\n",
              "      <td>Praça Seca</td>\n",
              "      <td>998039-7091 (tel errado)</td>\n",
              "      <td>1</td>\n",
              "      <td>3</td>\n",
              "      <td>NaN</td>\n",
              "      <td>não</td>\n",
              "      <td>NaN</td>\n",
              "      <td>4</td>\n",
              "      <td>NaN</td>\n",
              "      <td>05/06/2020</td>\n",
              "      <td>NaN</td>\n",
              "      <td>714.666.306-34</td>\n",
              "      <td>NaN</td>\n",
              "      <td>NaN</td>\n",
              "      <td>NaN</td>\n",
              "      <td>03/07/2020</td>\n",
              "      <td>NaN</td>\n",
              "    </tr>\n",
              "    <tr>\n",
              "      <th>2</th>\n",
              "      <td>3</td>\n",
              "      <td>Adélia Verônica Pinto da Silva</td>\n",
              "      <td>AB</td>\n",
              "      <td>Sim</td>\n",
              "      <td>Vila Isabel</td>\n",
              "      <td>99312-1634</td>\n",
              "      <td>1</td>\n",
              "      <td>1</td>\n",
              "      <td>1</td>\n",
              "      <td>Não</td>\n",
              "      <td>Não</td>\n",
              "      <td>3</td>\n",
              "      <td>0,00</td>\n",
              "      <td>11/08/2020</td>\n",
              "      <td>Rua Senador Nabuco, 411</td>\n",
              "      <td>125.458.797-70</td>\n",
              "      <td>NaN</td>\n",
              "      <td>NaN</td>\n",
              "      <td>NaN</td>\n",
              "      <td>11/07/2020</td>\n",
              "      <td>NaN</td>\n",
              "    </tr>\n",
              "    <tr>\n",
              "      <th>3</th>\n",
              "      <td>4</td>\n",
              "      <td>Adelino da Silva Gomes</td>\n",
              "      <td>Praça</td>\n",
              "      <td>Sim</td>\n",
              "      <td>Vila Isabel</td>\n",
              "      <td>(21) 98891-2516</td>\n",
              "      <td>2</td>\n",
              "      <td>2</td>\n",
              "      <td>0</td>\n",
              "      <td>Não</td>\n",
              "      <td>Não</td>\n",
              "      <td>4</td>\n",
              "      <td>0,00</td>\n",
              "      <td>29/05/2020</td>\n",
              "      <td>Rua Armando de Albuquerque, 33</td>\n",
              "      <td>011.833.607-03</td>\n",
              "      <td>NaN</td>\n",
              "      <td>NaN</td>\n",
              "      <td>NaN</td>\n",
              "      <td>29/05/2020</td>\n",
              "      <td>NaN</td>\n",
              "    </tr>\n",
              "    <tr>\n",
              "      <th>4</th>\n",
              "      <td>5</td>\n",
              "      <td>Aderaldo Araújo Simplício</td>\n",
              "      <td>NaN</td>\n",
              "      <td>NaN</td>\n",
              "      <td>Tijuca</td>\n",
              "      <td>99947-3523</td>\n",
              "      <td>NaN</td>\n",
              "      <td>NaN</td>\n",
              "      <td>NaN</td>\n",
              "      <td>NaN</td>\n",
              "      <td>NaN</td>\n",
              "      <td>0</td>\n",
              "      <td>NaN</td>\n",
              "      <td>25/07/2020</td>\n",
              "      <td>NaN</td>\n",
              "      <td>606.569.647-15</td>\n",
              "      <td>NaN</td>\n",
              "      <td>NaN</td>\n",
              "      <td>NaN</td>\n",
              "      <td>08/08/2020</td>\n",
              "      <td>NaN</td>\n",
              "    </tr>\n",
              "  </tbody>\n",
              "</table>\n",
              "</div>"
            ],
            "text/plain": [
              "  Nº+                            Nome  ... Última atualização Observações\n",
              "0   1          Abdaline Jean Baptiste  ...         22/03/2021         NaN\n",
              "1   2          Abigail Pereira Cabral  ...         03/07/2020         NaN\n",
              "2   3  Adélia Verônica Pinto da Silva  ...         11/07/2020         NaN\n",
              "3   4          Adelino da Silva Gomes  ...         29/05/2020         NaN\n",
              "4   5       Aderaldo Araújo Simplício  ...         08/08/2020         NaN\n",
              "\n",
              "[5 rows x 21 columns]"
            ]
          },
          "metadata": {
            "tags": []
          },
          "execution_count": 20
        }
      ]
    },
    {
      "cell_type": "markdown",
      "metadata": {
        "id": "i5oo7n_fh56o"
      },
      "source": [
        "Vemos que a lista oficial tem mais dados do que a não oficial."
      ]
    },
    {
      "cell_type": "code",
      "metadata": {
        "colab": {
          "base_uri": "https://localhost:8080/"
        },
        "id": "WOQnzQL5fuLs",
        "outputId": "522137f6-527b-4a12-e284-4385f1d9bcab"
      },
      "source": [
        "geral_nao_oficial.shape, geral_oficial.shape"
      ],
      "execution_count": null,
      "outputs": [
        {
          "output_type": "execute_result",
          "data": {
            "text/plain": [
              "((1368, 18), (1541, 21))"
            ]
          },
          "metadata": {
            "tags": []
          },
          "execution_count": 7
        }
      ]
    },
    {
      "cell_type": "code",
      "metadata": {
        "colab": {
          "base_uri": "https://localhost:8080/"
        },
        "id": "65hvUhtMhMpr",
        "outputId": "f0eb45b1-a219-42d6-bfa0-cf1c07545abe"
      },
      "source": [
        "geral_oficial.dtypes"
      ],
      "execution_count": null,
      "outputs": [
        {
          "output_type": "execute_result",
          "data": {
            "text/plain": [
              "Nº+                          object\n",
              "Nome                         object\n",
              "EV/AB/PRAÇA                  object\n",
              "Pedidos de Roupa/Remédio     object\n",
              "Bairro                       object\n",
              "Telefone                     object\n",
              "Crianças                     object\n",
              "Adultos                      object\n",
              "Idosos                       object\n",
              "Trabalha                     object\n",
              "Recebe Auxílio?              object\n",
              "Qtde de pessoas              object\n",
              "Renda mensal                 object\n",
              "Data de entrada              object\n",
              "Endereço                     object\n",
              "CPF                          object\n",
              "CESTA 1                      object\n",
              "CESTA 2                      object\n",
              "CESTA 3                     float64\n",
              "Última atualização           object\n",
              "Observações                  object\n",
              "dtype: object"
            ]
          },
          "metadata": {
            "tags": []
          },
          "execution_count": 21
        }
      ]
    },
    {
      "cell_type": "markdown",
      "metadata": {
        "id": "O17U5Ic5iBT4"
      },
      "source": [
        "A lista oficial foi toda reconhecida como string, exceto a coluna da Cesta 3. "
      ]
    },
    {
      "cell_type": "code",
      "metadata": {
        "colab": {
          "base_uri": "https://localhost:8080/"
        },
        "id": "YXvHGlr0hnOR",
        "outputId": "5a4f65d9-df9c-4932-d14f-368d54832701"
      },
      "source": [
        "geral_nao_oficial.dtypes"
      ],
      "execution_count": null,
      "outputs": [
        {
          "output_type": "execute_result",
          "data": {
            "text/plain": [
              "Nº                     float64\n",
              "Nome                    object\n",
              "Liberado?               object\n",
              "Remédios / Roupas       object\n",
              "Bairro                  object\n",
              "Telefone                object\n",
              "Crianças                object\n",
              "Adultos                 object\n",
              "Idosos                  object\n",
              "Trabalha                object\n",
              "Tipo de Auxílio         object\n",
              "Qtde de pessoas         object\n",
              "(R$)                    object\n",
              "Data de Atualização     object\n",
              "Endereço                object\n",
              "CPF                     object\n",
              "DATA DA PLANILHA        object\n",
              "Observações             object\n",
              "dtype: object"
            ]
          },
          "metadata": {
            "tags": []
          },
          "execution_count": 16
        }
      ]
    },
    {
      "cell_type": "markdown",
      "metadata": {
        "id": "xp_gc4Y1nen2"
      },
      "source": [
        "## Modificando e validando dados"
      ]
    },
    {
      "cell_type": "markdown",
      "metadata": {
        "id": "bG5B76WWwvKw"
      },
      "source": [
        "### Excluindo e Renomeando colunas"
      ]
    },
    {
      "cell_type": "code",
      "metadata": {
        "id": "E4MpzIUHpUKD"
      },
      "source": [
        "geral_nao_oficial = geral_nao_oficial.drop(\"Liberado?\", axis = 1) # Exluiu a coluna Liberado?\n",
        "geral_nao_oficial = geral_nao_oficial.drop(\"Nº\", axis = 1) # Exclui a coluna Nº"
      ],
      "execution_count": 27,
      "outputs": []
    },
    {
      "cell_type": "markdown",
      "metadata": {
        "id": "5NSBRjitKfeA"
      },
      "source": [
        "Para melhor usar o join/merge/combine faremos as colunas nas duas planilhas terem o mesmo nome quando necessárias."
      ]
    },
    {
      "cell_type": "code",
      "metadata": {
        "id": "oO84BKTAoGfQ"
      },
      "source": [
        "nomes = {\"Remédios / Roupas\": \"Pedidos de Roupa/Remédio\", \"Tipo de Auxílio\": \"Recebe Auxílio?\",\n",
        "         \"(R$)\": \"Renda mensal\", \"DATA DA PLANILHA\": \"Data de entrada\", \"Data de Atualização\": \"Última atualização\"}"
      ],
      "execution_count": 28,
      "outputs": []
    },
    {
      "cell_type": "code",
      "metadata": {
        "id": "sWyPt1Afpft-"
      },
      "source": [
        "geral_nao_oficial.rename(nomes, axis = 1, inplace=True)"
      ],
      "execution_count": 29,
      "outputs": []
    },
    {
      "cell_type": "code",
      "metadata": {
        "colab": {
          "base_uri": "https://localhost:8080/",
          "height": 496
        },
        "id": "fc8fH949plfP",
        "outputId": "86903f7c-f33c-4b48-9021-8469caaf136f"
      },
      "source": [
        "geral_nao_oficial.head()"
      ],
      "execution_count": 30,
      "outputs": [
        {
          "output_type": "execute_result",
          "data": {
            "text/html": [
              "<div>\n",
              "<style scoped>\n",
              "    .dataframe tbody tr th:only-of-type {\n",
              "        vertical-align: middle;\n",
              "    }\n",
              "\n",
              "    .dataframe tbody tr th {\n",
              "        vertical-align: top;\n",
              "    }\n",
              "\n",
              "    .dataframe thead th {\n",
              "        text-align: right;\n",
              "    }\n",
              "</style>\n",
              "<table border=\"1\" class=\"dataframe\">\n",
              "  <thead>\n",
              "    <tr style=\"text-align: right;\">\n",
              "      <th></th>\n",
              "      <th>Nome</th>\n",
              "      <th>Pedidos de Roupa/Remédio</th>\n",
              "      <th>Bairro</th>\n",
              "      <th>Telefone</th>\n",
              "      <th>Crianças</th>\n",
              "      <th>Adultos</th>\n",
              "      <th>Idosos</th>\n",
              "      <th>Trabalha</th>\n",
              "      <th>Recebe Auxílio?</th>\n",
              "      <th>Qtde de pessoas</th>\n",
              "      <th>Renda mensal</th>\n",
              "      <th>Última atualização</th>\n",
              "      <th>Endereço</th>\n",
              "      <th>CPF</th>\n",
              "      <th>Data de entrada</th>\n",
              "      <th>Observações</th>\n",
              "    </tr>\n",
              "  </thead>\n",
              "  <tbody>\n",
              "    <tr>\n",
              "      <th>0</th>\n",
              "      <td>Abdaline Jean Baptiste</td>\n",
              "      <td>NaN</td>\n",
              "      <td>Tanque</td>\n",
              "      <td>98064-1512 -  97201-0948</td>\n",
              "      <td>3</td>\n",
              "      <td>2</td>\n",
              "      <td>2</td>\n",
              "      <td>não</td>\n",
              "      <td>NaN</td>\n",
              "      <td>7</td>\n",
              "      <td>NaN</td>\n",
              "      <td>6/19/2020</td>\n",
              "      <td>Rua Almirante Melquíades de Souza, 322 Tanque ...</td>\n",
              "      <td>065.001.667-01</td>\n",
              "      <td>7/3/2020</td>\n",
              "      <td>NaN</td>\n",
              "    </tr>\n",
              "    <tr>\n",
              "      <th>1</th>\n",
              "      <td>Abigail Pereira Cabral</td>\n",
              "      <td>NaN</td>\n",
              "      <td>Praça Seca</td>\n",
              "      <td>998039-7091 (tel errado)</td>\n",
              "      <td>1</td>\n",
              "      <td>3</td>\n",
              "      <td>NaN</td>\n",
              "      <td>não</td>\n",
              "      <td>NaN</td>\n",
              "      <td>4</td>\n",
              "      <td>NaN</td>\n",
              "      <td>6/5/2020</td>\n",
              "      <td>NaN</td>\n",
              "      <td>714.666.306-34</td>\n",
              "      <td>7/3/2020</td>\n",
              "      <td>NaN</td>\n",
              "    </tr>\n",
              "    <tr>\n",
              "      <th>2</th>\n",
              "      <td>Adélia Verônica Pinto da Silva</td>\n",
              "      <td>Sim</td>\n",
              "      <td>Vila Isabel</td>\n",
              "      <td>99312-1634</td>\n",
              "      <td>1</td>\n",
              "      <td>2</td>\n",
              "      <td>0</td>\n",
              "      <td>não</td>\n",
              "      <td>bolsa famila 130,00</td>\n",
              "      <td>3</td>\n",
              "      <td>NaN</td>\n",
              "      <td>4/20/2021</td>\n",
              "      <td>Rua viana drumond 38 casa 2 Vila Isabel</td>\n",
              "      <td>125.458..797-70</td>\n",
              "      <td>7/11/2020</td>\n",
              "      <td>NaN</td>\n",
              "    </tr>\n",
              "    <tr>\n",
              "      <th>3</th>\n",
              "      <td>Adelino da Silva Gomes</td>\n",
              "      <td>NaN</td>\n",
              "      <td>Vila Isabel</td>\n",
              "      <td>98891-2516</td>\n",
              "      <td>3</td>\n",
              "      <td>1</td>\n",
              "      <td>NaN</td>\n",
              "      <td>NaN</td>\n",
              "      <td>NaN</td>\n",
              "      <td>4</td>\n",
              "      <td>NaN</td>\n",
              "      <td>NaN</td>\n",
              "      <td>Rua Armando de Albuquerque, 33</td>\n",
              "      <td>011.833.607-03</td>\n",
              "      <td>6/27/2020</td>\n",
              "      <td>NaN</td>\n",
              "    </tr>\n",
              "    <tr>\n",
              "      <th>4</th>\n",
              "      <td>Aderaldo Araújo Simplício</td>\n",
              "      <td>NaN</td>\n",
              "      <td>Tijuca</td>\n",
              "      <td>99947-3523</td>\n",
              "      <td>NaN</td>\n",
              "      <td>NaN</td>\n",
              "      <td>NaN</td>\n",
              "      <td>NaN</td>\n",
              "      <td>NaN</td>\n",
              "      <td>0</td>\n",
              "      <td>NaN</td>\n",
              "      <td>7/25/2020</td>\n",
              "      <td>NaN</td>\n",
              "      <td>606.569.647-15</td>\n",
              "      <td>8/8/2020</td>\n",
              "      <td>NaN</td>\n",
              "    </tr>\n",
              "  </tbody>\n",
              "</table>\n",
              "</div>"
            ],
            "text/plain": [
              "                             Nome  ... Observações\n",
              "0          Abdaline Jean Baptiste  ...         NaN\n",
              "1          Abigail Pereira Cabral  ...         NaN\n",
              "2  Adélia Verônica Pinto da Silva  ...         NaN\n",
              "3          Adelino da Silva Gomes  ...         NaN\n",
              "4       Aderaldo Araújo Simplício  ...         NaN\n",
              "\n",
              "[5 rows x 16 columns]"
            ]
          },
          "metadata": {
            "tags": []
          },
          "execution_count": 30
        }
      ]
    },
    {
      "cell_type": "markdown",
      "metadata": {
        "id": "szfA_4kxxhWm"
      },
      "source": [
        "### Estruturando a Coluna \"CPF\""
      ]
    },
    {
      "cell_type": "code",
      "metadata": {
        "id": "MgFdzuBW5VBx"
      },
      "source": [
        "# Essa função enviar cada valor para ser checado\n",
        "def separacao(data_serie):\n",
        "  num = 0\n",
        "\n",
        "  for i in range(len(data_serie)):\n",
        "    try:\n",
        "      if math.isnan(data_serie[i]):\n",
        "        # Se o valor for NaN ele pula\n",
        "        continue\n",
        "        \n",
        "    except TypeError:\n",
        "        pass\n",
        "\n",
        "    if type(data_serie[i]) is list:\n",
        "      # Se for uma lista, junta os valores ao converte-los para string\n",
        "      data_serie[i] = [str(x) for x in data_serie[i]]\n",
        "      data_serie[i] = \"\".join(data_serie[i])\n",
        "\n",
        "    if data_serie[i].startswith(\"ID:\") or data_serie[i].startswith(\"RG\"): # Se começa com \"ID:\" é ignorado\n",
        "      continue\n",
        "\n",
        "    valores = cpf(data_serie[i])\n",
        "    num += 1\n",
        "\n",
        "    if num % 10 == 0:\n",
        "      # Printa a cada 10 CPF\n",
        "      print(data_serie[i], valores[0], \"index =\", i)\n",
        "\n",
        "    if valores[1] == False:\n",
        "      data_serie[i] = valores[0]\n"
      ],
      "execution_count": 96,
      "outputs": []
    },
    {
      "cell_type": "code",
      "metadata": {
        "id": "FB25dEQ6xUV6"
      },
      "source": [
        "import math\n",
        "# Essa função checará se o CPF está no formato XXX.XXX.XXX-XX\n",
        "def cpf(valor):\n",
        "  \n",
        "  cpf = []\n",
        "  valor = list(valor.strip()) # Transforma em uma lista\n",
        "      \n",
        "  for i in range(len(valor)):\n",
        "    # Começa a verificar do ultimo ao primeiro\n",
        "        \n",
        "    if valor[i].isdigit():\n",
        "      # Se o valor for digito\n",
        "\n",
        "      cpf.append(str(valor[i]))\n",
        "    \n",
        "  while len(cpf) < 11:\n",
        "    # se a lista for menor que 11 será adicionado um 0 até completar 11 digito\n",
        "\n",
        "    cpf.insert(0, \"0\")\n",
        "  \n",
        "  # Insere os caracteres nas posições específicas\n",
        "  cpf.insert(3, \".\") \n",
        "  cpf.insert(7, \".\")\n",
        "  cpf.insert(11, \"-\")\n",
        "\n",
        "  return [\"\".join(cpf), False]\n",
        "\n",
        "\n",
        "    \n"
      ],
      "execution_count": 90,
      "outputs": []
    },
    {
      "cell_type": "code",
      "metadata": {
        "id": "7Mz2vsV8zFJb",
        "colab": {
          "base_uri": "https://localhost:8080/"
        },
        "outputId": "fd86eeaa-a80f-4dcf-8dbe-822dd29dee20"
      },
      "source": [
        "# Passando a serie da Coluna CPF\n",
        "coluna_cpf = geral_nao_oficial[\"CPF\"]\n",
        "coluna_cpf = separacao(coluna_cpf)"
      ],
      "execution_count": 97,
      "outputs": [
        {
          "output_type": "stream",
          "text": [
            "127.383.047-45 127.383.047-45 index = 13\n",
            "002.106.317-67 002.106.317-67 index = 25\n",
            "014.187.861-44 014.187.861-44 index = 46\n",
            "171.637.447-01 171.637.447-01 index = 67\n",
            "035.672.627-42 035.672.627-42 index = 101\n",
            "025.869.567-61 025.869.567-61 index = 126\n",
            "917.828.487-20 917.828.487-20 index = 145\n",
            "884.896.713-00 884.896.713-00 index = 165\n",
            "149.072.277-79 149.072.277-79 index = 190\n",
            "098.072.117-27 098.072.117-27 index = 219\n",
            "144.283.937-94 144.283.937-94 index = 240\n",
            "821.274.767-00 821.274.767-00 index = 261\n",
            "081.657.907-57 081.657.907-57 index = 288\n",
            "047.671.187-86 047.671.187-86 index = 312\n",
            "112.168.227-86 112.168.227-86 index = 325\n",
            "722.627.887-15 722.627.887-15 index = 345\n",
            "098.865.774-01 098.865.774-01 index = 362\n",
            "098.991.417-80 098.991.417-80 index = 396\n",
            "158.517.007-00 158.517.007-00 index = 414\n",
            "114.107.417-61 114.107.417-61 index = 432\n",
            "074.763.917-57 074.763.917-57 index = 452\n",
            "133.796.307-05 133.796.307-05 index = 468\n",
            "078.310.637-81 078.310.637-81 index = 490\n",
            "117.478.047-97 117.478.047-97 index = 511\n",
            "100.129.957-46 100.129.957-46 index = 533\n",
            "789.823.084-15 789.823.084-15 index = 548\n",
            "025.669.107-07 025.669.107-07 index = 565\n",
            "079.050.447-26 079.050.447-26 index = 586\n",
            "151.946.237-98 151.946.237-98 index = 601\n",
            "102.067.457-10 102.067.457-10 index = 622\n",
            "662.485.077-91 662.485.077-91 index = 642\n",
            "174.681.847-83 174.681.847-83 index = 665\n",
            "014.040.817-71 014.040.817-71 index = 687\n",
            "061.971.477-85 061.971.477-85 index = 704\n",
            "157.400.497-25 157.400.497-25 index = 732\n",
            "000.668.357-37 000.668.357-37 index = 746\n",
            "207.856.057-03 207.856.057-03 index = 763\n",
            "746.946.187-68 746.946.187-68 index = 783\n",
            "858.234.135-05 858.234.135-05 index = 807\n",
            "016.650.897-76 016.650.897-76 index = 824\n",
            "297.186.947-49 297.186.947-49 index = 845\n",
            "091.700.947-99 091.700.947-99 index = 863\n",
            "065.839.517-38 065.839.517-38 index = 882\n",
            "058.130.587-61 058.130.587-61 index = 907\n",
            "103.963.357-99 103.963.357-99 index = 935\n",
            "196.867.047-52 196.867.047-52 index = 957\n",
            "100.016.157-93 100.016.157-93 index = 971\n",
            "065.003.917-50 065.003.917-50 index = 993\n",
            "122.837.087-70 122.837.087-70 index = 1014\n",
            "130.918.587-58 130.918.587-58 index = 1044\n",
            "156.366.327-97 156.366.327-97 index = 1077\n",
            "118.202.167-05 118.202.167-05 index = 1094\n",
            "142.923.597-76 142.923.597-76 index = 1115\n",
            "052.975.527-02 052.975.527-02 index = 1144\n",
            "842.344.237-34 842.344.237-34 index = 1165\n",
            "156.284.456-11 156.284.456-11 index = 1188\n",
            "037.869.247-08 037.869.247-08 index = 1208\n",
            "124.528.217-48 124.528.217-48 index = 1229\n",
            "120.061.027-02 120.061.027-02 index = 1250\n",
            "107.134.697-06 107.134.697-06 index = 1263\n",
            "157.259.517-58 157.259.517-58 index = 1284\n",
            "430.155.907-82 430.155.907-82 index = 1309\n",
            "063.568.867-06 063.568.867-06 index = 1337\n",
            "532.978.307-00 532.978.307-00 index = 1353\n"
          ],
          "name": "stdout"
        }
      ]
    },
    {
      "cell_type": "code",
      "metadata": {
        "colab": {
          "base_uri": "https://localhost:8080/"
        },
        "id": "9BTZj0QeF2Rh",
        "outputId": "f3ee44c9-6e8e-43c0-ba46-71fa420f1dd7"
      },
      "source": [
        "coluna_cpf_oficial = separacao(geral_oficial[\"CPF\"])"
      ],
      "execution_count": 98,
      "outputs": [
        {
          "output_type": "stream",
          "text": [
            "/usr/local/lib/python3.7/dist-packages/ipykernel_launcher.py:30: SettingWithCopyWarning: \n",
            "A value is trying to be set on a copy of a slice from a DataFrame\n",
            "\n",
            "See the caveats in the documentation: https://pandas.pydata.org/pandas-docs/stable/user_guide/indexing.html#returning-a-view-versus-a-copy\n"
          ],
          "name": "stderr"
        },
        {
          "output_type": "stream",
          "text": [
            "150.421.007-76 150.421.007-76 index = 9\n",
            "095.088.617-37 095.088.617-37 index = 19\n",
            "408.319.067-15 408.319.067-15 index = 31\n",
            "119.015.767-52 119.015.767-52 index = 46\n",
            "175.569.847-02 175.569.847-02 index = 58\n",
            "142.276.967-75 142.276.967-75 index = 79\n",
            "045.292.207-02 045.292.207-02 index = 102\n",
            "063.654.317-08 063.654.317-08 index = 120\n",
            "000.000.000-00 000.000.000-00 index = 144\n",
            "119.023.867-52 119.023.867-52 index = 159\n",
            "054.909.144-08 054.909.144-08 index = 178\n",
            "264.787.558-86 264.787.558-86 index = 203\n",
            "182.200.997-98 182.200.997-98 index = 230\n",
            "112.771.037-04 112.771.037-04 index = 245\n",
            "052.780.027-94 052.780.027-94 index = 264\n",
            "821.274.767-00 821.274.767-00 index = 279\n",
            "102.878.267-59 102.878.267-59 index = 302\n",
            "085.764.904-39 085.764.904-39 index = 318\n",
            "076.149.067-13 076.149.067-13 index = 336\n",
            "115.277.217-10 115.277.217-10 index = 350\n",
            "108.139.547-60 108.139.547-60 index = 369\n",
            "037.649.427-11 037.649.427-11 index = 381\n",
            "025.896.447-28 025.896.447-28 index = 402\n",
            "089.455.647-99 089.455.647-99 index = 423\n",
            "091.891.747-63 091.891.747-63 index = 438\n",
            "744.426.197-00 744.426.197-00 index = 460\n",
            "114.107.417-61 114.107.417-61 index = 472\n",
            "029.354.697-55 029.354.697-55 index = 486\n",
            "162.922.637-89 162.922.637-89 index = 501\n",
            "079.587.877-07 079.587.877-07 index = 520\n",
            "891.243.754-20 891.243.754-20 index = 540\n",
            "103.042.447-08 103.042.447-08 index = 562\n",
            "076.850.607-79 076.850.607-79 index = 585\n",
            "154.087.187-86 154.087.187-86 index = 598\n",
            "168.686.427-25 168.686.427-25 index = 613\n",
            "146.048.237-90 146.048.237-90 index = 635\n",
            "084.680.917-66 084.680.917-66 index = 647\n",
            "063.783.005-93 063.783.005-93 index = 662\n",
            "000.000.000-00 000.000.000-00 index = 682\n",
            "011.622.117-84 011.622.117-84 index = 700\n",
            "047.552.323-76 047.552.323-76 index = 720\n",
            "002.107.194-72 002.107.194-72 index = 736\n",
            "128.086.197-58 128.086.197-58 index = 752\n",
            "187.503.797-71 187.503.797-71 index = 766\n",
            "088.884.207-46 088.884.207-46 index = 791\n",
            "175.443.417-71 175.443.417-71 index = 808\n",
            "178.271.687-44 178.271.687-44 index = 821\n",
            "149.200.367-01 149.200.367-01 index = 836\n",
            "035.004.493-79 035.004.493-79 index = 853\n",
            "336.193.953-49 336.193.953-49 index = 866\n",
            "858.234.135-05 858.234.135-05 index = 890\n",
            "045.293.127-47 045.293.127-47 index = 905\n",
            "106.898.177-21 106.898.177-21 index = 919\n",
            "004.493.657-51 004.493.657-51 index = 938\n",
            "029.171.007-70 029.171.007-70 index = 952\n",
            "539.604.407-15 539.604.407-15 index = 965\n",
            "043.914.454-09 043.914.454-09 index = 984\n",
            "076.069.037-51 076.069.037-51 index = 1000\n",
            "025.243.247-96 025.243.247-96 index = 1024\n",
            "078.386.427-28 078.386.427-28 index = 1043\n",
            "170.646.127-55 170.646.127-55 index = 1057\n",
            "093.455.347-50 093.455.347-50 index = 1077\n",
            "707.314.547-15 707.314.547-15 index = 1093\n",
            "152.552.897-10 152.552.897-10 index = 1114\n",
            "100.999.007-18 100.999.007-18 index = 1138\n",
            "113.877.157-04 113.877.157-04 index = 1156\n",
            "144.756.717-01 144.756.717-01 index = 1185\n",
            "054.243.047-96 054.243.047-96 index = 1199\n",
            "090.126.437-75 090.126.437-75 index = 1217\n",
            "104.751.777-97 104.751.777-97 index = 1238\n",
            "002.227.169-61 002.227.169-61 index = 1265\n",
            "104.122.267-07 104.122.267-07 index = 1285\n",
            "150.068.097-44 150.068.097-44 index = 1308\n",
            "218.533.337-27 218.533.337-27 index = 1326\n",
            "077.171.557-96 077.171.557-96 index = 1346\n",
            "012.098.047-67 012.098.047-67 index = 1361\n",
            "133.309.107-98 133.309.107-98 index = 1377\n",
            "120.491.557-19 120.491.557-19 index = 1391\n",
            "146.863.227-23 146.863.227-23 index = 1409\n",
            "133.799.397-22 133.799.397-22 index = 1430\n",
            "106.401.407-00 106.401.407-00 index = 1454\n",
            "097.792.477-77 097.792.477-77 index = 1475\n",
            "411.729.737-68 411.729.737-68 index = 1495\n"
          ],
          "name": "stdout"
        }
      ]
    },
    {
      "cell_type": "markdown",
      "metadata": {
        "id": "rkwuwCKsDatQ"
      },
      "source": [
        "## Juntando as duas planilhas"
      ]
    },
    {
      "cell_type": "code",
      "metadata": {
        "id": "tH9IppPpqFF7"
      },
      "source": [
        "Colunas = [\"CPF\", \"Nome\", \"Telefone\", \"Data de entrada\"]"
      ],
      "execution_count": 20,
      "outputs": []
    },
    {
      "cell_type": "code",
      "metadata": {
        "id": "DJSSgO8vDkev"
      },
      "source": [
        "mergido = pd.merge(geral_nao_oficial, geral_oficial, on = Colunas, how=\"outer\")"
      ],
      "execution_count": 31,
      "outputs": []
    },
    {
      "cell_type": "code",
      "metadata": {
        "colab": {
          "base_uri": "https://localhost:8080/"
        },
        "id": "ggZ8IBpWGtyU",
        "outputId": "54dcb715-6342-4dc2-8d0f-6829e301432c"
      },
      "source": [
        "geral_nao_oficial.shape, geral_oficial.shape, mergido.shape"
      ],
      "execution_count": 32,
      "outputs": [
        {
          "output_type": "execute_result",
          "data": {
            "text/plain": [
              "((1368, 16), (1541, 21), (2848, 33))"
            ]
          },
          "metadata": {
            "tags": []
          },
          "execution_count": 32
        }
      ]
    },
    {
      "cell_type": "code",
      "metadata": {
        "colab": {
          "base_uri": "https://localhost:8080/",
          "height": 445
        },
        "id": "5Uv6shuDq1Bx",
        "outputId": "d6ac947c-c7ae-475d-e6f2-72f2d97d8ac1"
      },
      "source": [
        "mergido.tail()"
      ],
      "execution_count": 34,
      "outputs": [
        {
          "output_type": "execute_result",
          "data": {
            "text/html": [
              "<div>\n",
              "<style scoped>\n",
              "    .dataframe tbody tr th:only-of-type {\n",
              "        vertical-align: middle;\n",
              "    }\n",
              "\n",
              "    .dataframe tbody tr th {\n",
              "        vertical-align: top;\n",
              "    }\n",
              "\n",
              "    .dataframe thead th {\n",
              "        text-align: right;\n",
              "    }\n",
              "</style>\n",
              "<table border=\"1\" class=\"dataframe\">\n",
              "  <thead>\n",
              "    <tr style=\"text-align: right;\">\n",
              "      <th></th>\n",
              "      <th>Nome</th>\n",
              "      <th>Pedidos de Roupa/Remédio_x</th>\n",
              "      <th>Bairro_x</th>\n",
              "      <th>Telefone</th>\n",
              "      <th>Crianças_x</th>\n",
              "      <th>Adultos_x</th>\n",
              "      <th>Idosos_x</th>\n",
              "      <th>Trabalha_x</th>\n",
              "      <th>Recebe Auxílio?_x</th>\n",
              "      <th>Qtde de pessoas_x</th>\n",
              "      <th>Renda mensal_x</th>\n",
              "      <th>Última atualização_x</th>\n",
              "      <th>Endereço_x</th>\n",
              "      <th>CPF</th>\n",
              "      <th>Data de entrada</th>\n",
              "      <th>Observações_x</th>\n",
              "      <th>Nº+</th>\n",
              "      <th>EV/AB/PRAÇA</th>\n",
              "      <th>Pedidos de Roupa/Remédio_y</th>\n",
              "      <th>Bairro_y</th>\n",
              "      <th>Crianças_y</th>\n",
              "      <th>Adultos_y</th>\n",
              "      <th>Idosos_y</th>\n",
              "      <th>Trabalha_y</th>\n",
              "      <th>Recebe Auxílio?_y</th>\n",
              "      <th>Qtde de pessoas_y</th>\n",
              "      <th>Renda mensal_y</th>\n",
              "      <th>Endereço_y</th>\n",
              "      <th>CESTA 1</th>\n",
              "      <th>CESTA 2</th>\n",
              "      <th>CESTA 3</th>\n",
              "      <th>Última atualização_y</th>\n",
              "      <th>Observações_y</th>\n",
              "    </tr>\n",
              "  </thead>\n",
              "  <tbody>\n",
              "    <tr>\n",
              "      <th>2843</th>\n",
              "      <td>ZILDA SOARES</td>\n",
              "      <td>NaN</td>\n",
              "      <td>NaN</td>\n",
              "      <td>99551-2776</td>\n",
              "      <td>NaN</td>\n",
              "      <td>NaN</td>\n",
              "      <td>NaN</td>\n",
              "      <td>NaN</td>\n",
              "      <td>NaN</td>\n",
              "      <td>NaN</td>\n",
              "      <td>NaN</td>\n",
              "      <td>NaN</td>\n",
              "      <td>NaN</td>\n",
              "      <td>NaN</td>\n",
              "      <td>NaN</td>\n",
              "      <td>NaN</td>\n",
              "      <td>1502</td>\n",
              "      <td>NaN</td>\n",
              "      <td>NaN</td>\n",
              "      <td>Praça Seca</td>\n",
              "      <td>2</td>\n",
              "      <td>2</td>\n",
              "      <td>NaN</td>\n",
              "      <td>NaN</td>\n",
              "      <td>NaN</td>\n",
              "      <td>4</td>\n",
              "      <td>NaN</td>\n",
              "      <td>NaN</td>\n",
              "      <td>NaN</td>\n",
              "      <td>NaN</td>\n",
              "      <td>NaN</td>\n",
              "      <td>08/05/2020</td>\n",
              "      <td>NaN</td>\n",
              "    </tr>\n",
              "    <tr>\n",
              "      <th>2844</th>\n",
              "      <td>ZILMA DA SILVA MAIA</td>\n",
              "      <td>NaN</td>\n",
              "      <td>NaN</td>\n",
              "      <td>99428-8934/97397-3521 (vizinha)</td>\n",
              "      <td>NaN</td>\n",
              "      <td>NaN</td>\n",
              "      <td>NaN</td>\n",
              "      <td>NaN</td>\n",
              "      <td>NaN</td>\n",
              "      <td>NaN</td>\n",
              "      <td>NaN</td>\n",
              "      <td>NaN</td>\n",
              "      <td>NaN</td>\n",
              "      <td>NaN</td>\n",
              "      <td>NaN</td>\n",
              "      <td>NaN</td>\n",
              "      <td>1503</td>\n",
              "      <td>NaN</td>\n",
              "      <td>NaN</td>\n",
              "      <td>Praça Seca</td>\n",
              "      <td>NaN</td>\n",
              "      <td>2</td>\n",
              "      <td>NaN</td>\n",
              "      <td>NaN</td>\n",
              "      <td>NaN</td>\n",
              "      <td>2</td>\n",
              "      <td>NaN</td>\n",
              "      <td>NaN</td>\n",
              "      <td>NaN</td>\n",
              "      <td>NaN</td>\n",
              "      <td>NaN</td>\n",
              "      <td>08/05/2020</td>\n",
              "      <td>NaN</td>\n",
              "    </tr>\n",
              "    <tr>\n",
              "      <th>2845</th>\n",
              "      <td>ZULEICA SILVA DO JANUÁRIO</td>\n",
              "      <td>NaN</td>\n",
              "      <td>NaN</td>\n",
              "      <td>99193-5560</td>\n",
              "      <td>NaN</td>\n",
              "      <td>NaN</td>\n",
              "      <td>NaN</td>\n",
              "      <td>NaN</td>\n",
              "      <td>NaN</td>\n",
              "      <td>NaN</td>\n",
              "      <td>NaN</td>\n",
              "      <td>NaN</td>\n",
              "      <td>NaN</td>\n",
              "      <td>NaN</td>\n",
              "      <td>NaN</td>\n",
              "      <td>NaN</td>\n",
              "      <td>1504</td>\n",
              "      <td>NaN</td>\n",
              "      <td>NaN</td>\n",
              "      <td>NaN</td>\n",
              "      <td>NaN</td>\n",
              "      <td>NaN</td>\n",
              "      <td>NaN</td>\n",
              "      <td>NaN</td>\n",
              "      <td>NaN</td>\n",
              "      <td>0</td>\n",
              "      <td>NaN</td>\n",
              "      <td>NaN</td>\n",
              "      <td>NaN</td>\n",
              "      <td>NaN</td>\n",
              "      <td>NaN</td>\n",
              "      <td>22/05/2020</td>\n",
              "      <td>NaN</td>\n",
              "    </tr>\n",
              "    <tr>\n",
              "      <th>2846</th>\n",
              "      <td>LORREYNE FARIA DA SILVA</td>\n",
              "      <td>NaN</td>\n",
              "      <td>NaN</td>\n",
              "      <td>97448-5093</td>\n",
              "      <td>NaN</td>\n",
              "      <td>NaN</td>\n",
              "      <td>NaN</td>\n",
              "      <td>NaN</td>\n",
              "      <td>NaN</td>\n",
              "      <td>NaN</td>\n",
              "      <td>NaN</td>\n",
              "      <td>NaN</td>\n",
              "      <td>NaN</td>\n",
              "      <td>163.294.047-71</td>\n",
              "      <td>19/05/2021</td>\n",
              "      <td>NaN</td>\n",
              "      <td>1505</td>\n",
              "      <td>AB</td>\n",
              "      <td>NaN</td>\n",
              "      <td>Tijuca</td>\n",
              "      <td>2</td>\n",
              "      <td>2</td>\n",
              "      <td>0</td>\n",
              "      <td>não</td>\n",
              "      <td>não</td>\n",
              "      <td>4</td>\n",
              "      <td>375,00</td>\n",
              "      <td>Rua Dona Sinha, 1 - casa 8</td>\n",
              "      <td>NaN</td>\n",
              "      <td>NaN</td>\n",
              "      <td>NaN</td>\n",
              "      <td>20/05/2021</td>\n",
              "      <td>NaN</td>\n",
              "    </tr>\n",
              "    <tr>\n",
              "      <th>2847</th>\n",
              "      <td>RELAYNE DA CONCEIÇÃO DUARTE</td>\n",
              "      <td>NaN</td>\n",
              "      <td>NaN</td>\n",
              "      <td>96657-5110</td>\n",
              "      <td>NaN</td>\n",
              "      <td>NaN</td>\n",
              "      <td>NaN</td>\n",
              "      <td>NaN</td>\n",
              "      <td>NaN</td>\n",
              "      <td>NaN</td>\n",
              "      <td>NaN</td>\n",
              "      <td>NaN</td>\n",
              "      <td>NaN</td>\n",
              "      <td>?</td>\n",
              "      <td>19/05/2021</td>\n",
              "      <td>NaN</td>\n",
              "      <td>#REF!</td>\n",
              "      <td>AB</td>\n",
              "      <td>NaN</td>\n",
              "      <td>Tijuca</td>\n",
              "      <td>5</td>\n",
              "      <td>1</td>\n",
              "      <td>1</td>\n",
              "      <td>não</td>\n",
              "      <td>Bolsa familia</td>\n",
              "      <td>7</td>\n",
              "      <td>405,00</td>\n",
              "      <td>Rua Joaquim Pizarro, 18</td>\n",
              "      <td>NaN</td>\n",
              "      <td>NaN</td>\n",
              "      <td>NaN</td>\n",
              "      <td>20/05/2021</td>\n",
              "      <td>NaN</td>\n",
              "    </tr>\n",
              "  </tbody>\n",
              "</table>\n",
              "</div>"
            ],
            "text/plain": [
              "                             Nome  ... Observações_y\n",
              "2843                 ZILDA SOARES  ...           NaN\n",
              "2844          ZILMA DA SILVA MAIA  ...           NaN\n",
              "2845    ZULEICA SILVA DO JANUÁRIO  ...           NaN\n",
              "2846      LORREYNE FARIA DA SILVA  ...           NaN\n",
              "2847  RELAYNE DA CONCEIÇÃO DUARTE  ...           NaN\n",
              "\n",
              "[5 rows x 33 columns]"
            ]
          },
          "metadata": {
            "tags": []
          },
          "execution_count": 34
        }
      ]
    },
    {
      "cell_type": "markdown",
      "metadata": {
        "id": "LwJSkMfpIPko"
      },
      "source": [
        "* Sem regularizar o CPF são 1678 pessoas no total"
      ]
    },
    {
      "cell_type": "code",
      "metadata": {
        "id": "JMzMvho3HczS"
      },
      "source": [
        "combinado = geral_oficial.combine_first(geral_nao_oficial)"
      ],
      "execution_count": 43,
      "outputs": []
    },
    {
      "cell_type": "code",
      "metadata": {
        "colab": {
          "base_uri": "https://localhost:8080/"
        },
        "id": "DAXLcGzuKNe7",
        "outputId": "3769d64e-b61f-4a0f-a6bb-e3a51115a6b9"
      },
      "source": [
        "combinado.shape"
      ],
      "execution_count": 44,
      "outputs": [
        {
          "output_type": "execute_result",
          "data": {
            "text/plain": [
              "(1541, 21)"
            ]
          },
          "metadata": {
            "tags": []
          },
          "execution_count": 44
        }
      ]
    },
    {
      "cell_type": "code",
      "metadata": {
        "id": "AivZjsfuKPiL",
        "colab": {
          "base_uri": "https://localhost:8080/",
          "height": 462
        },
        "outputId": "081f2bae-a21d-49ef-fe7a-4ad269fd742d"
      },
      "source": [
        "combinado.head()"
      ],
      "execution_count": 45,
      "outputs": [
        {
          "output_type": "execute_result",
          "data": {
            "text/html": [
              "<div>\n",
              "<style scoped>\n",
              "    .dataframe tbody tr th:only-of-type {\n",
              "        vertical-align: middle;\n",
              "    }\n",
              "\n",
              "    .dataframe tbody tr th {\n",
              "        vertical-align: top;\n",
              "    }\n",
              "\n",
              "    .dataframe thead th {\n",
              "        text-align: right;\n",
              "    }\n",
              "</style>\n",
              "<table border=\"1\" class=\"dataframe\">\n",
              "  <thead>\n",
              "    <tr style=\"text-align: right;\">\n",
              "      <th></th>\n",
              "      <th>Adultos</th>\n",
              "      <th>Bairro</th>\n",
              "      <th>CESTA 1</th>\n",
              "      <th>CESTA 2</th>\n",
              "      <th>CESTA 3</th>\n",
              "      <th>CPF</th>\n",
              "      <th>Crianças</th>\n",
              "      <th>Data de entrada</th>\n",
              "      <th>EV/AB/PRAÇA</th>\n",
              "      <th>Endereço</th>\n",
              "      <th>Idosos</th>\n",
              "      <th>Nome</th>\n",
              "      <th>Nº+</th>\n",
              "      <th>Observações</th>\n",
              "      <th>Pedidos de Roupa/Remédio</th>\n",
              "      <th>Qtde de pessoas</th>\n",
              "      <th>Recebe Auxílio?</th>\n",
              "      <th>Renda mensal</th>\n",
              "      <th>Telefone</th>\n",
              "      <th>Trabalha</th>\n",
              "      <th>Última atualização</th>\n",
              "    </tr>\n",
              "  </thead>\n",
              "  <tbody>\n",
              "    <tr>\n",
              "      <th>0</th>\n",
              "      <td>1</td>\n",
              "      <td>Tanque</td>\n",
              "      <td>NaN</td>\n",
              "      <td>NaN</td>\n",
              "      <td>NaN</td>\n",
              "      <td>065.001.667-01</td>\n",
              "      <td>4</td>\n",
              "      <td>???</td>\n",
              "      <td>Praça</td>\n",
              "      <td>Rua Almirante de Souza - Casa 322</td>\n",
              "      <td>2</td>\n",
              "      <td>Abdaline Jean Baptiste</td>\n",
              "      <td>1</td>\n",
              "      <td>NaN</td>\n",
              "      <td>Não</td>\n",
              "      <td>7</td>\n",
              "      <td>Não</td>\n",
              "      <td>1.100,00</td>\n",
              "      <td>98064-1512</td>\n",
              "      <td>Não</td>\n",
              "      <td>22/03/2021</td>\n",
              "    </tr>\n",
              "    <tr>\n",
              "      <th>1</th>\n",
              "      <td>3</td>\n",
              "      <td>Praça Seca</td>\n",
              "      <td>NaN</td>\n",
              "      <td>NaN</td>\n",
              "      <td>NaN</td>\n",
              "      <td>714.666.306-34</td>\n",
              "      <td>1</td>\n",
              "      <td>05/06/2020</td>\n",
              "      <td>NaN</td>\n",
              "      <td>NaN</td>\n",
              "      <td>NaN</td>\n",
              "      <td>Abigail Pereira Cabral</td>\n",
              "      <td>2</td>\n",
              "      <td>NaN</td>\n",
              "      <td>NaN</td>\n",
              "      <td>4</td>\n",
              "      <td>NaN</td>\n",
              "      <td>NaN</td>\n",
              "      <td>998039-7091 (tel errado)</td>\n",
              "      <td>não</td>\n",
              "      <td>03/07/2020</td>\n",
              "    </tr>\n",
              "    <tr>\n",
              "      <th>2</th>\n",
              "      <td>1</td>\n",
              "      <td>Vila Isabel</td>\n",
              "      <td>NaN</td>\n",
              "      <td>NaN</td>\n",
              "      <td>NaN</td>\n",
              "      <td>125.458.797-70</td>\n",
              "      <td>1</td>\n",
              "      <td>11/08/2020</td>\n",
              "      <td>AB</td>\n",
              "      <td>Rua Senador Nabuco, 411</td>\n",
              "      <td>1</td>\n",
              "      <td>Adélia Verônica Pinto da Silva</td>\n",
              "      <td>3</td>\n",
              "      <td>NaN</td>\n",
              "      <td>Sim</td>\n",
              "      <td>3</td>\n",
              "      <td>Não</td>\n",
              "      <td>0,00</td>\n",
              "      <td>99312-1634</td>\n",
              "      <td>Não</td>\n",
              "      <td>11/07/2020</td>\n",
              "    </tr>\n",
              "    <tr>\n",
              "      <th>3</th>\n",
              "      <td>2</td>\n",
              "      <td>Vila Isabel</td>\n",
              "      <td>NaN</td>\n",
              "      <td>NaN</td>\n",
              "      <td>NaN</td>\n",
              "      <td>011.833.607-03</td>\n",
              "      <td>2</td>\n",
              "      <td>29/05/2020</td>\n",
              "      <td>Praça</td>\n",
              "      <td>Rua Armando de Albuquerque, 33</td>\n",
              "      <td>0</td>\n",
              "      <td>Adelino da Silva Gomes</td>\n",
              "      <td>4</td>\n",
              "      <td>NaN</td>\n",
              "      <td>Sim</td>\n",
              "      <td>4</td>\n",
              "      <td>Não</td>\n",
              "      <td>0,00</td>\n",
              "      <td>(21) 98891-2516</td>\n",
              "      <td>Não</td>\n",
              "      <td>29/05/2020</td>\n",
              "    </tr>\n",
              "    <tr>\n",
              "      <th>4</th>\n",
              "      <td>NaN</td>\n",
              "      <td>Tijuca</td>\n",
              "      <td>NaN</td>\n",
              "      <td>NaN</td>\n",
              "      <td>NaN</td>\n",
              "      <td>606.569.647-15</td>\n",
              "      <td>NaN</td>\n",
              "      <td>25/07/2020</td>\n",
              "      <td>NaN</td>\n",
              "      <td>NaN</td>\n",
              "      <td>NaN</td>\n",
              "      <td>Aderaldo Araújo Simplício</td>\n",
              "      <td>5</td>\n",
              "      <td>NaN</td>\n",
              "      <td>NaN</td>\n",
              "      <td>0</td>\n",
              "      <td>NaN</td>\n",
              "      <td>NaN</td>\n",
              "      <td>99947-3523</td>\n",
              "      <td>NaN</td>\n",
              "      <td>08/08/2020</td>\n",
              "    </tr>\n",
              "  </tbody>\n",
              "</table>\n",
              "</div>"
            ],
            "text/plain": [
              "  Adultos       Bairro  ... Trabalha Última atualização\n",
              "0       1       Tanque  ...      Não         22/03/2021\n",
              "1       3   Praça Seca  ...      não         03/07/2020\n",
              "2       1  Vila Isabel  ...      Não         11/07/2020\n",
              "3       2  Vila Isabel  ...      Não         29/05/2020\n",
              "4     NaN       Tijuca  ...      NaN         08/08/2020\n",
              "\n",
              "[5 rows x 21 columns]"
            ]
          },
          "metadata": {
            "tags": []
          },
          "execution_count": 45
        }
      ]
    },
    {
      "cell_type": "markdown",
      "metadata": {
        "id": "lUY9VaG7svN-"
      },
      "source": [
        "Vemos que usando o ***combine()*** é a melhor opção, já que ele combina os valores faltantes quando as duas colunas tem o mesmo nome. No total temos o mesmo número de colunas e linhas que a planilha Geral_Oficial. Apesar disso, as colunas ficaram embaralhadas, nada que um ordernação não resolva. "
      ]
    },
    {
      "cell_type": "markdown",
      "metadata": {
        "id": "NG8oMtY7tt-1"
      },
      "source": [
        "### Reordenando as colunas"
      ]
    },
    {
      "cell_type": "code",
      "metadata": {
        "id": "jsx5Aco0tyvT"
      },
      "source": [
        ""
      ],
      "execution_count": null,
      "outputs": []
    }
  ]
}